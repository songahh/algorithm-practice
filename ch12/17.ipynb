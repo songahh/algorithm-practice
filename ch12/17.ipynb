{
 "cells": [
  {
   "cell_type": "markdown",
   "id": "e5ffc53f",
   "metadata": {},
   "source": [
    "# 17. Letter Combinations of a Phone Number "
   ]
  },
  {
   "cell_type": "markdown",
   "id": "f0230485",
   "metadata": {},
   "source": [
    "Given a string containing digits from 2-9 inclusive, return all possible letter combinations that the number could represent. Return the answer in any order.\n",
    "\n",
    "A mapping of digit to letters (just like on the telephone buttons) is given below. Note that 1 does not map to any letters.\n",
    "\n"
   ]
  },
  {
   "cell_type": "markdown",
   "id": "1bb9584f",
   "metadata": {},
   "source": [
    "![nn](./17.png)"
   ]
  },
  {
   "cell_type": "markdown",
   "id": "0ee3e6d1",
   "metadata": {},
   "source": [
    "## my solution"
   ]
  },
  {
   "cell_type": "code",
   "execution_count": null,
   "id": "766f7e1b",
   "metadata": {},
   "outputs": [],
   "source": [
    "class Solution:\n",
    "\n",
    "    def mapping(self, digits, table, results, iters) -> List[str]:\n",
    "        \n",
    "        \n",
    "        if iters == len(digits):\n",
    "            idx = iters-1\n",
    "            nums = table[digits[idx]]\n",
    "            for num in nums:\n",
    "                results.append(str(num))\n",
    "            results = self.mapping(digits, table, results, iters-1)\n",
    "        elif iters > 0:\n",
    "            idx = iters-1\n",
    "            nums = table[digits[idx]]\n",
    "            tmp = []\n",
    "            while results:\n",
    "                prev = results.pop()\n",
    "                for num in nums:\n",
    "                    tmp.append(str(num)+str(prev))\n",
    "            results = tmp\n",
    "            results = self.mapping(digits, table, results, iters-1)\n",
    "        \n",
    "        return results\n",
    "        \n",
    "    \n",
    "    def letterCombinations(self, digits: str) -> List[str]:\n",
    "        \n",
    "        table = {'2':\"abc\", '3':\"def\", '4':\"ghi\", '5':\"jkl\", '6':\"mno\", '7':\"pqrs\", '8':\"tuv\", '9':\"wxyz\"}\n",
    "        results = []\n",
    "        \n",
    "        if digits == \"\":\n",
    "            return results\n",
    "        else:\n",
    "            return self.mapping(digits, table, results, len(digits))\n",
    "        \n",
    "        "
   ]
  },
  {
   "cell_type": "markdown",
   "id": "fb06a4e4",
   "metadata": {},
   "source": [
    "# 책"
   ]
  },
  {
   "cell_type": "code",
   "execution_count": null,
   "id": "19cea476",
   "metadata": {},
   "outputs": [],
   "source": [
    "class Solution:\n",
    "        \n",
    "    \n",
    "    def letterCombinations(self, digits: str) -> List[str]:\n",
    "        \n",
    "        def dfs(index, path):\n",
    "            \n",
    "            if len(path) == len(digits):\n",
    "                results.append(path)\n",
    "                return\n",
    "        \n",
    "            for i in range(index, len(digits)):\n",
    "                for j in table[digits[i]]:\n",
    "                    dfs(i+1, path+j)\n",
    "        \n",
    "        \n",
    "        table = {'2':\"abc\", '3':\"def\", '4':\"ghi\", '5':\"jkl\", '6':\"mno\", '7':\"pqrs\", '8':\"tuv\", '9':\"wxyz\"}\n",
    "        results = []\n",
    "        \n",
    "        if digits == \"\":\n",
    "            return results\n",
    "        else:\n",
    "            dfs(0, \"\")\n",
    "            return results\n",
    "        \n",
    "        "
   ]
  }
 ],
 "metadata": {
  "kernelspec": {
   "display_name": "Python 3 (ipykernel)",
   "language": "python",
   "name": "python3"
  },
  "language_info": {
   "codemirror_mode": {
    "name": "ipython",
    "version": 3
   },
   "file_extension": ".py",
   "mimetype": "text/x-python",
   "name": "python",
   "nbconvert_exporter": "python",
   "pygments_lexer": "ipython3",
   "version": "3.7.9"
  }
 },
 "nbformat": 4,
 "nbformat_minor": 5
}
