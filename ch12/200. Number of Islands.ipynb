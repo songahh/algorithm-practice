{
 "cells": [
  {
   "cell_type": "markdown",
   "id": "bfa6a9d0",
   "metadata": {},
   "source": [
    "## 200"
   ]
  },
  {
   "cell_type": "markdown",
   "id": "1adc1530",
   "metadata": {},
   "source": [
    "Given an m x n 2D binary grid grid which represents a map of '1's (land) and '0's (water), return the number of islands.\n",
    "\n",
    "An island is surrounded by water and is formed by connecting adjacent lands horizontally or vertically. You may assume all four edges of the grid are all surrounded by water."
   ]
  },
  {
   "cell_type": "code",
   "execution_count": null,
   "id": "40c99402",
   "metadata": {},
   "outputs": [],
   "source": [
    "class Solution:\n",
    "    def numIslands(self, grid: List[List[str]]) -> int:\n",
    "        \n",
    "        offsets = {(-1,0),(1,0),(0,1),(0,-1)}\n",
    "        counts, er, ec = 0, 0, 0\n",
    "        rows, cols = len(grid), len(grid[0])\n",
    "        \n",
    "        for r in range(rows):\n",
    "            for c in range(cols):\n",
    "                if grid[r][c] == \"1\":\n",
    "                    stack = [(r, c)]\n",
    "                    while len(stack) > 0:\n",
    "                        er, ec = stack.pop()\n",
    "                        for o_r, o_c in offsets:\n",
    "                            nr, nc = er+o_r, ec+o_c\n",
    "                    \n",
    "                            if nr >= rows or nc >= cols or nr < 0 or nc < 0:\n",
    "                                continue\n",
    "                    \n",
    "                            if grid[nr][nc] == \"1\":\n",
    "                                grid[nr][nc] = \"0\"\n",
    "                                stack.append((nr, nc))\n",
    "                    counts+=1\n",
    "        return counts"
   ]
  }
 ],
 "metadata": {
  "kernelspec": {
   "display_name": "Python 3 (ipykernel)",
   "language": "python",
   "name": "python3"
  },
  "language_info": {
   "codemirror_mode": {
    "name": "ipython",
    "version": 3
   },
   "file_extension": ".py",
   "mimetype": "text/x-python",
   "name": "python",
   "nbconvert_exporter": "python",
   "pygments_lexer": "ipython3",
   "version": "3.7.9"
  }
 },
 "nbformat": 4,
 "nbformat_minor": 5
}
