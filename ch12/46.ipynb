{
 "cells": [
  {
   "cell_type": "markdown",
   "id": "704ca239",
   "metadata": {},
   "source": [
    "# 46. Permutations"
   ]
  },
  {
   "cell_type": "markdown",
   "id": "d202a03e",
   "metadata": {},
   "source": [
    "Given an array nums of distinct integers, return all the possible permutations. You can return the answer in any order."
   ]
  },
  {
   "cell_type": "markdown",
   "id": "0e410bd5",
   "metadata": {},
   "source": [
    "## My Solution"
   ]
  },
  {
   "cell_type": "code",
   "execution_count": null,
   "id": "6c12c20e",
   "metadata": {},
   "outputs": [],
   "source": [
    "class Solution:\n",
    "     \n",
    "    def dfs(self, idx, arr):\n",
    "            \n",
    "        #print(self.nums[idx], arr, self.output)\n",
    "        arr.append(self.nums[idx])\n",
    "        for i in range(1, len(self.nums)):\n",
    "            if idx-i >= 0 and self.nums[idx-i] not in arr:\n",
    "                self.dfs(idx-i, arr.copy())\n",
    "            if idx+i < len(self.nums) and self.nums[idx+i] not in arr:\n",
    "                self.dfs(idx+i, arr.copy())\n",
    "    \n",
    "        if len(arr) == len(self.nums):\n",
    "            self.output.append(arr.copy())\n",
    "    \n",
    "    def permute(self, nums: List[int]) -> List[List[int]]:\n",
    "            \n",
    "        self.output = []\n",
    "        self.nums = nums\n",
    "        \n",
    "        for i in range(len(nums)):\n",
    "            self.dfs(i, [])\n",
    "    \n",
    "        return self.output"
   ]
  },
  {
   "cell_type": "markdown",
   "id": "819fe2d6",
   "metadata": {},
   "source": [
    "## Book"
   ]
  },
  {
   "cell_type": "code",
   "execution_count": null,
   "id": "1e08f30e",
   "metadata": {},
   "outputs": [],
   "source": [
    "class Solution:\n",
    "     \n",
    "    def permute(self, nums: List[int]) -> List[List[int]]:\n",
    "        \n",
    "        results = []\n",
    "        prev_elements = []\n",
    "        \n",
    "        def dfs(elements):\n",
    "\n",
    "            if len(elements) == 0:\n",
    "                results.append(prev_elements[:])\n",
    "        \n",
    "            for e in elements:\n",
    "                next_elements = elements[:]\n",
    "                next_elements.remove(e)\n",
    "                \n",
    "                prev_elements.append(e)\n",
    "                dfs(next_elements)\n",
    "                prev_elements.pop()\n",
    "\n",
    "        dfs(nums)\n",
    "        return results"
   ]
  },
  {
   "cell_type": "code",
   "execution_count": null,
   "id": "6feddbea",
   "metadata": {},
   "outputs": [],
   "source": [
    "class Solution:\n",
    "     \n",
    "    def permute(self, nums: List[int]) -> List[List[int]]:\n",
    "        return list(itertools.permutations(nums))"
   ]
  }
 ],
 "metadata": {
  "kernelspec": {
   "display_name": "Python 3 (ipykernel)",
   "language": "python",
   "name": "python3"
  },
  "language_info": {
   "codemirror_mode": {
    "name": "ipython",
    "version": 3
   },
   "file_extension": ".py",
   "mimetype": "text/x-python",
   "name": "python",
   "nbconvert_exporter": "python",
   "pygments_lexer": "ipython3",
   "version": "3.7.9"
  }
 },
 "nbformat": 4,
 "nbformat_minor": 5
}
