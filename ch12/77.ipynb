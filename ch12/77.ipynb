{
 "cells": [
  {
   "cell_type": "markdown",
   "id": "4eb839f9",
   "metadata": {},
   "source": [
    "# 77"
   ]
  },
  {
   "cell_type": "markdown",
   "id": "34a62b61",
   "metadata": {},
   "source": [
    "Given two integers n and k, return all possible combinations of k numbers out of the range [1, n].\n",
    "\n",
    "You may return the answer in any order.\n",
    "\n",
    "Constraints:\n",
    "- 1 <= n <= 20\n",
    "- 1 <= k <= n"
   ]
  },
  {
   "cell_type": "markdown",
   "id": "36c7117f",
   "metadata": {},
   "source": [
    "## My solution"
   ]
  },
  {
   "cell_type": "code",
   "execution_count": null,
   "id": "58cb7a25",
   "metadata": {},
   "outputs": [],
   "source": [
    "class Solution:\n",
    "    \n",
    "    def dfs(self, now, arr):\n",
    "        \n",
    "        if now > self.N:\n",
    "            return\n",
    "        \n",
    "        arr.append(now)\n",
    "        for i in range(1, self.N):\n",
    "            self.dfs(now+i, arr.copy())\n",
    "        \n",
    "        if len(arr) == self.K:\n",
    "            self.output.append(arr.copy())\n",
    "            \n",
    "    \n",
    "    def combine(self, n: int, k: int) -> List[List[int]]:\n",
    "        \n",
    "        self.output = []\n",
    "        self.K = k\n",
    "        self.N = n\n",
    "        \n",
    "        for i in range(1, self.N+1):\n",
    "            self.dfs(i, [])\n",
    "        \n",
    "        return self.output\n"
   ]
  },
  {
   "cell_type": "markdown",
   "id": "91cab48c",
   "metadata": {},
   "source": [
    "## 책"
   ]
  },
  {
   "cell_type": "code",
   "execution_count": null,
   "id": "71f23a6c",
   "metadata": {},
   "outputs": [],
   "source": [
    "class Solution:\n",
    "            \n",
    "    def combine(self, n: int, k: int) -> List[List[int]]:\n",
    "        \n",
    "        results = []\n",
    "        \n",
    "        def dfs(elements, start: int, k: int):\n",
    "            if k == 0:\n",
    "                results.append(elements[:])\n",
    "            \n",
    "            for i in range(start, n+1):\n",
    "                elements.append(i)\n",
    "                dfs(elements, i+1, k-1)\n",
    "                elements.pop()\n",
    "        \n",
    "        dfs([], 1, k)\n",
    "        return results"
   ]
  },
  {
   "cell_type": "code",
   "execution_count": null,
   "id": "c6eea179",
   "metadata": {},
   "outputs": [],
   "source": [
    "class Solution:\n",
    "            \n",
    "    def combine(self, n: int, k: int) -> List[List[int]]:\n",
    "    \n",
    "        return list(itertools.combinations(range(1, n+1), k))"
   ]
  }
 ],
 "metadata": {
  "kernelspec": {
   "display_name": "Python 3 (ipykernel)",
   "language": "python",
   "name": "python3"
  },
  "language_info": {
   "codemirror_mode": {
    "name": "ipython",
    "version": 3
   },
   "file_extension": ".py",
   "mimetype": "text/x-python",
   "name": "python",
   "nbconvert_exporter": "python",
   "pygments_lexer": "ipython3",
   "version": "3.7.9"
  }
 },
 "nbformat": 4,
 "nbformat_minor": 5
}
