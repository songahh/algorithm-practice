{
 "cells": [
  {
   "cell_type": "markdown",
   "id": "46b6a61e",
   "metadata": {},
   "source": [
    "# 39"
   ]
  },
  {
   "cell_type": "markdown",
   "id": "c676976a",
   "metadata": {},
   "source": [
    "Given an array of distinct integers candidates and a target integer target, return a list of all unique combinations of candidates where the chosen numbers sum to target. You may return the combinations in any order.\n",
    "\n",
    "The same number may be chosen from candidates an unlimited number of times. Two combinations are unique if the frequency of at least one of the chosen numbers is different.\n",
    "\n",
    "It is guaranteed that the number of unique combinations that sum up to target is less than 150 combinations for the given input.\n",
    "\n",
    "**Constraints**:\n",
    "- 1 <= candidates.length <= 30\n",
    "- 1 <= candidates[i] <= 200\n",
    "- All elements of candidates are distinct.\n",
    "- 1 <= target <= 500"
   ]
  },
  {
   "cell_type": "code",
   "execution_count": null,
   "id": "780f3438",
   "metadata": {},
   "outputs": [],
   "source": [
    "class Solution:\n",
    "    def combinationSum(self, candidates: List[int], target: int) -> List[List[int]]:\n",
    "        \n",
    "        output = []\n",
    "        def dfs(target, start, arr):\n",
    "        \n",
    "            for i in range(start, len(candidates)):\n",
    "                arr.append(candidates[i])\n",
    "                if target-candidates[i] < 0:\n",
    "                    arr.pop()\n",
    "                    continue\n",
    "                elif target-candidates[i] == 0:\n",
    "                    output.append(arr)\n",
    "                    continue\n",
    "                else:\n",
    "                    dfs(target-candidates[i], i, arr.copy())\n",
    "                    arr.pop()\n",
    "        \n",
    "        candidates = sorted(candidates)\n",
    "        dfs(target, 0, [])\n",
    "        return output"
   ]
  }
 ],
 "metadata": {
  "kernelspec": {
   "display_name": "Python 3 (ipykernel)",
   "language": "python",
   "name": "python3"
  },
  "language_info": {
   "codemirror_mode": {
    "name": "ipython",
    "version": 3
   },
   "file_extension": ".py",
   "mimetype": "text/x-python",
   "name": "python",
   "nbconvert_exporter": "python",
   "pygments_lexer": "ipython3",
   "version": "3.7.9"
  }
 },
 "nbformat": 4,
 "nbformat_minor": 5
}
