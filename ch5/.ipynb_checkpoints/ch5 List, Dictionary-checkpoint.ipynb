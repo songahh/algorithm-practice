{
 "cells": [
  {
   "cell_type": "markdown",
   "id": "superb-aside",
   "metadata": {},
   "source": [
    "# List"
   ]
  },
  {
   "cell_type": "markdown",
   "id": "fitted-hamburg",
   "metadata": {},
   "source": [
    "- 순서유지, 가변\n",
    "- 동적 배열로 구성되어 있음"
   ]
  },
  {
   "cell_type": "markdown",
   "id": "foreign-timing",
   "metadata": {},
   "source": [
    "## 01 List의 활용 방법"
   ]
  },
  {
   "cell_type": "code",
   "execution_count": 2,
   "id": "daily-connection",
   "metadata": {},
   "outputs": [
    {
     "name": "stdout",
     "output_type": "stream",
     "text": [
      "[]\n",
      "[1, 2, 3]\n"
     ]
    }
   ],
   "source": [
    "a = []\n",
    "b = [1, 2, 3]\n",
    "print(a, b, sep=\"\\n\")"
   ]
  },
  {
   "cell_type": "code",
   "execution_count": 3,
   "id": "phantom-concern",
   "metadata": {},
   "outputs": [
    {
     "data": {
      "text/plain": [
       "[2]"
      ]
     },
     "execution_count": 3,
     "metadata": {},
     "output_type": "execute_result"
    }
   ],
   "source": [
    "a.append(2)\n",
    "a"
   ]
  },
  {
   "cell_type": "code",
   "execution_count": 4,
   "id": "determined-rental",
   "metadata": {},
   "outputs": [],
   "source": [
    "b.insert(1,4)"
   ]
  },
  {
   "cell_type": "code",
   "execution_count": 5,
   "id": "economic-journey",
   "metadata": {},
   "outputs": [
    {
     "data": {
      "text/plain": [
       "[1, 4, 2, 3]"
      ]
     },
     "execution_count": 5,
     "metadata": {},
     "output_type": "execute_result"
    }
   ],
   "source": [
    "b"
   ]
  },
  {
   "cell_type": "code",
   "execution_count": 6,
   "id": "eleven-canal",
   "metadata": {},
   "outputs": [],
   "source": [
    "a.append(\"배고파\")"
   ]
  },
  {
   "cell_type": "code",
   "execution_count": 7,
   "id": "fancy-boundary",
   "metadata": {},
   "outputs": [
    {
     "data": {
      "text/plain": [
       "[2, '배고파']"
      ]
     },
     "execution_count": 7,
     "metadata": {},
     "output_type": "execute_result"
    }
   ],
   "source": [
    "a"
   ]
  },
  {
   "cell_type": "code",
   "execution_count": 8,
   "id": "irish-karaoke",
   "metadata": {},
   "outputs": [
    {
     "data": {
      "text/plain": [
       "[2, '배고파', True]"
      ]
     },
     "execution_count": 8,
     "metadata": {},
     "output_type": "execute_result"
    }
   ],
   "source": [
    "a.append(True)\n",
    "a"
   ]
  },
  {
   "cell_type": "code",
   "execution_count": 9,
   "id": "stuffed-intention",
   "metadata": {},
   "outputs": [
    {
     "data": {
      "text/plain": [
       "True"
      ]
     },
     "execution_count": 9,
     "metadata": {},
     "output_type": "execute_result"
    }
   ],
   "source": [
    "a[2]"
   ]
  },
  {
   "cell_type": "code",
   "execution_count": 10,
   "id": "professional-harris",
   "metadata": {},
   "outputs": [
    {
     "data": {
      "text/plain": [
       "[2]"
      ]
     },
     "execution_count": 10,
     "metadata": {},
     "output_type": "execute_result"
    }
   ],
   "source": [
    "a[0:1]"
   ]
  },
  {
   "cell_type": "code",
   "execution_count": 11,
   "id": "defined-middle",
   "metadata": {},
   "outputs": [
    {
     "data": {
      "text/plain": [
       "['배고파', True]"
      ]
     },
     "execution_count": 11,
     "metadata": {},
     "output_type": "execute_result"
    }
   ],
   "source": [
    "a[1:]"
   ]
  },
  {
   "cell_type": "code",
   "execution_count": 17,
   "id": "municipal-sheep",
   "metadata": {},
   "outputs": [],
   "source": [
    "for i in range(4,10):\n",
    "    a.append(i)"
   ]
  },
  {
   "cell_type": "code",
   "execution_count": 18,
   "id": "expressed-thousand",
   "metadata": {},
   "outputs": [
    {
     "data": {
      "text/plain": [
       "[2, '배고파', True, 4, 5, 6, 7, 8, 9, 4, 5, 6, 7, 8, 9, 4, 5, 6, 7, 8, 9]"
      ]
     },
     "execution_count": 18,
     "metadata": {},
     "output_type": "execute_result"
    }
   ],
   "source": [
    "a"
   ]
  },
  {
   "cell_type": "code",
   "execution_count": 19,
   "id": "acute-seattle",
   "metadata": {},
   "outputs": [
    {
     "data": {
      "text/plain": [
       "[4, 6, 8, 4, 6, 8, 4, 6, 8]"
      ]
     },
     "execution_count": 19,
     "metadata": {},
     "output_type": "execute_result"
    }
   ],
   "source": [
    "a[3::2]"
   ]
  },
  {
   "cell_type": "code",
   "execution_count": 20,
   "id": "understood-budget",
   "metadata": {},
   "outputs": [
    {
     "ename": "IndexError",
     "evalue": "list index out of range",
     "output_type": "error",
     "traceback": [
      "\u001b[1;31m---------------------------------------------------------------------------\u001b[0m",
      "\u001b[1;31mIndexError\u001b[0m                                Traceback (most recent call last)",
      "\u001b[1;32m<ipython-input-20-f2a33f52cf25>\u001b[0m in \u001b[0;36m<module>\u001b[1;34m\u001b[0m\n\u001b[1;32m----> 1\u001b[1;33m \u001b[0mb\u001b[0m\u001b[1;33m[\u001b[0m\u001b[1;36m7\u001b[0m\u001b[1;33m]\u001b[0m\u001b[1;33m\u001b[0m\u001b[1;33m\u001b[0m\u001b[0m\n\u001b[0m",
      "\u001b[1;31mIndexError\u001b[0m: list index out of range"
     ]
    }
   ],
   "source": [
    "b[7]"
   ]
  },
  {
   "cell_type": "code",
   "execution_count": 21,
   "id": "permanent-milan",
   "metadata": {},
   "outputs": [
    {
     "name": "stdout",
     "output_type": "stream",
     "text": [
      "존재하지 않는 인덱스\n"
     ]
    }
   ],
   "source": [
    "try:\n",
    "    print(b[7])\n",
    "except:\n",
    "    print(\"존재하지 않는 인덱스\")"
   ]
  },
  {
   "cell_type": "code",
   "execution_count": 22,
   "id": "angry-accent",
   "metadata": {},
   "outputs": [
    {
     "data": {
      "text/plain": [
       "[2, '배고파', True, 4, 5, 6, 7, 8, 9, 4, 5, 6, 7, 8, 9, 4, 5, 6, 7, 8, 9]"
      ]
     },
     "execution_count": 22,
     "metadata": {},
     "output_type": "execute_result"
    }
   ],
   "source": [
    "a"
   ]
  },
  {
   "cell_type": "code",
   "execution_count": 23,
   "id": "useful-logging",
   "metadata": {},
   "outputs": [],
   "source": [
    "# O(n), 해당 인덱스에 있는 값 삭제\n",
    "del a[2]"
   ]
  },
  {
   "cell_type": "code",
   "execution_count": 24,
   "id": "hidden-rough",
   "metadata": {},
   "outputs": [
    {
     "data": {
      "text/plain": [
       "[2, '배고파', 4, 5, 6, 7, 8, 9, 4, 5, 6, 7, 8, 9, 4, 5, 6, 7, 8, 9]"
      ]
     },
     "execution_count": 24,
     "metadata": {},
     "output_type": "execute_result"
    }
   ],
   "source": [
    "a"
   ]
  },
  {
   "cell_type": "code",
   "execution_count": 27,
   "id": "yellow-courage",
   "metadata": {},
   "outputs": [],
   "source": [
    "# 해당하는 요소 하나 삭제\n",
    "a.remove(9)"
   ]
  },
  {
   "cell_type": "code",
   "execution_count": 28,
   "id": "quarterly-button",
   "metadata": {},
   "outputs": [
    {
     "data": {
      "text/plain": [
       "[2, '배고파', 4, 5, 6, 7, 8, 4, 5, 6, 7, 8, 4, 5, 6, 7, 8, 9]"
      ]
     },
     "execution_count": 28,
     "metadata": {},
     "output_type": "execute_result"
    }
   ],
   "source": [
    "a"
   ]
  },
  {
   "cell_type": "code",
   "execution_count": null,
   "id": "emotional-conspiracy",
   "metadata": {},
   "outputs": [],
   "source": []
  }
 ],
 "metadata": {
  "kernelspec": {
   "display_name": "Python 3",
   "language": "python",
   "name": "python3"
  },
  "language_info": {
   "codemirror_mode": {
    "name": "ipython",
    "version": 3
   },
   "file_extension": ".py",
   "mimetype": "text/x-python",
   "name": "python",
   "nbconvert_exporter": "python",
   "pygments_lexer": "ipython3",
   "version": "3.7.9"
  }
 },
 "nbformat": 4,
 "nbformat_minor": 5
}
