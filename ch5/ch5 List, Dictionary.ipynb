{
 "cells": [
  {
   "cell_type": "markdown",
   "id": "spread-appearance",
   "metadata": {},
   "source": [
    "# List"
   ]
  },
  {
   "cell_type": "markdown",
   "id": "functional-services",
   "metadata": {},
   "source": [
    "- 순서유지, 가변\n",
    "- 동적 배열로 구성되어 있음"
   ]
  },
  {
   "cell_type": "markdown",
   "id": "approximate-serial",
   "metadata": {},
   "source": [
    "## 01 List의 활용 방법"
   ]
  },
  {
   "cell_type": "code",
   "execution_count": 2,
   "id": "static-music",
   "metadata": {},
   "outputs": [
    {
     "name": "stdout",
     "output_type": "stream",
     "text": [
      "[]\n",
      "[1, 2, 3]\n"
     ]
    }
   ],
   "source": [
    "a = []\n",
    "b = [1, 2, 3]\n",
    "print(a, b, sep=\"\\n\")"
   ]
  },
  {
   "cell_type": "code",
   "execution_count": 3,
   "id": "threaded-integer",
   "metadata": {},
   "outputs": [
    {
     "data": {
      "text/plain": [
       "[2]"
      ]
     },
     "execution_count": 3,
     "metadata": {},
     "output_type": "execute_result"
    }
   ],
   "source": [
    "a.append(2)\n",
    "a"
   ]
  },
  {
   "cell_type": "code",
   "execution_count": 4,
   "id": "particular-cartridge",
   "metadata": {},
   "outputs": [],
   "source": [
    "b.insert(1,4)"
   ]
  },
  {
   "cell_type": "code",
   "execution_count": 5,
   "id": "inside-effort",
   "metadata": {},
   "outputs": [
    {
     "data": {
      "text/plain": [
       "[1, 4, 2, 3]"
      ]
     },
     "execution_count": 5,
     "metadata": {},
     "output_type": "execute_result"
    }
   ],
   "source": [
    "b"
   ]
  },
  {
   "cell_type": "code",
   "execution_count": 6,
   "id": "collective-quick",
   "metadata": {},
   "outputs": [],
   "source": [
    "a.append(\"배고파\")"
   ]
  },
  {
   "cell_type": "code",
   "execution_count": 7,
   "id": "olive-aberdeen",
   "metadata": {},
   "outputs": [
    {
     "data": {
      "text/plain": [
       "[2, '배고파']"
      ]
     },
     "execution_count": 7,
     "metadata": {},
     "output_type": "execute_result"
    }
   ],
   "source": [
    "a"
   ]
  },
  {
   "cell_type": "code",
   "execution_count": 8,
   "id": "alpha-curve",
   "metadata": {},
   "outputs": [
    {
     "data": {
      "text/plain": [
       "[2, '배고파', True]"
      ]
     },
     "execution_count": 8,
     "metadata": {},
     "output_type": "execute_result"
    }
   ],
   "source": [
    "a.append(True)\n",
    "a"
   ]
  },
  {
   "cell_type": "code",
   "execution_count": 9,
   "id": "characteristic-theme",
   "metadata": {},
   "outputs": [
    {
     "data": {
      "text/plain": [
       "True"
      ]
     },
     "execution_count": 9,
     "metadata": {},
     "output_type": "execute_result"
    }
   ],
   "source": [
    "a[2]"
   ]
  },
  {
   "cell_type": "code",
   "execution_count": 10,
   "id": "civil-integral",
   "metadata": {},
   "outputs": [
    {
     "data": {
      "text/plain": [
       "[2]"
      ]
     },
     "execution_count": 10,
     "metadata": {},
     "output_type": "execute_result"
    }
   ],
   "source": [
    "a[0:1]"
   ]
  },
  {
   "cell_type": "code",
   "execution_count": 11,
   "id": "collected-friendship",
   "metadata": {},
   "outputs": [
    {
     "data": {
      "text/plain": [
       "['배고파', True]"
      ]
     },
     "execution_count": 11,
     "metadata": {},
     "output_type": "execute_result"
    }
   ],
   "source": [
    "a[1:]"
   ]
  },
  {
   "cell_type": "code",
   "execution_count": 17,
   "id": "optimum-aging",
   "metadata": {},
   "outputs": [],
   "source": [
    "for i in range(4,10):\n",
    "    a.append(i)"
   ]
  },
  {
   "cell_type": "code",
   "execution_count": 18,
   "id": "worthy-dublin",
   "metadata": {},
   "outputs": [
    {
     "data": {
      "text/plain": [
       "[2, '배고파', True, 4, 5, 6, 7, 8, 9, 4, 5, 6, 7, 8, 9, 4, 5, 6, 7, 8, 9]"
      ]
     },
     "execution_count": 18,
     "metadata": {},
     "output_type": "execute_result"
    }
   ],
   "source": [
    "a"
   ]
  },
  {
   "cell_type": "code",
   "execution_count": 19,
   "id": "spectacular-capital",
   "metadata": {},
   "outputs": [
    {
     "data": {
      "text/plain": [
       "[4, 6, 8, 4, 6, 8, 4, 6, 8]"
      ]
     },
     "execution_count": 19,
     "metadata": {},
     "output_type": "execute_result"
    }
   ],
   "source": [
    "a[3::2]"
   ]
  },
  {
   "cell_type": "code",
   "execution_count": 20,
   "id": "minute-finland",
   "metadata": {},
   "outputs": [
    {
     "ename": "IndexError",
     "evalue": "list index out of range",
     "output_type": "error",
     "traceback": [
      "\u001b[1;31m---------------------------------------------------------------------------\u001b[0m",
      "\u001b[1;31mIndexError\u001b[0m                                Traceback (most recent call last)",
      "\u001b[1;32m<ipython-input-20-f2a33f52cf25>\u001b[0m in \u001b[0;36m<module>\u001b[1;34m\u001b[0m\n\u001b[1;32m----> 1\u001b[1;33m \u001b[0mb\u001b[0m\u001b[1;33m[\u001b[0m\u001b[1;36m7\u001b[0m\u001b[1;33m]\u001b[0m\u001b[1;33m\u001b[0m\u001b[1;33m\u001b[0m\u001b[0m\n\u001b[0m",
      "\u001b[1;31mIndexError\u001b[0m: list index out of range"
     ]
    }
   ],
   "source": [
    "b[7]"
   ]
  },
  {
   "cell_type": "code",
   "execution_count": 21,
   "id": "illegal-collectible",
   "metadata": {},
   "outputs": [
    {
     "name": "stdout",
     "output_type": "stream",
     "text": [
      "존재하지 않는 인덱스\n"
     ]
    }
   ],
   "source": [
    "try:\n",
    "    print(b[7])\n",
    "except:\n",
    "    print(\"존재하지 않는 인덱스\")"
   ]
  },
  {
   "cell_type": "code",
   "execution_count": 22,
   "id": "official-leeds",
   "metadata": {},
   "outputs": [
    {
     "data": {
      "text/plain": [
       "[2, '배고파', True, 4, 5, 6, 7, 8, 9, 4, 5, 6, 7, 8, 9, 4, 5, 6, 7, 8, 9]"
      ]
     },
     "execution_count": 22,
     "metadata": {},
     "output_type": "execute_result"
    }
   ],
   "source": [
    "a"
   ]
  },
  {
   "cell_type": "code",
   "execution_count": 23,
   "id": "unauthorized-mayor",
   "metadata": {},
   "outputs": [],
   "source": [
    "# O(n), 해당 인덱스에 있는 값 삭제\n",
    "del a[2]"
   ]
  },
  {
   "cell_type": "code",
   "execution_count": 24,
   "id": "functional-statistics",
   "metadata": {},
   "outputs": [
    {
     "data": {
      "text/plain": [
       "[2, '배고파', 4, 5, 6, 7, 8, 9, 4, 5, 6, 7, 8, 9, 4, 5, 6, 7, 8, 9]"
      ]
     },
     "execution_count": 24,
     "metadata": {},
     "output_type": "execute_result"
    }
   ],
   "source": [
    "a"
   ]
  },
  {
   "cell_type": "code",
   "execution_count": 27,
   "id": "embedded-badge",
   "metadata": {},
   "outputs": [],
   "source": [
    "# 해당하는 요소 하나 삭제\n",
    "a.remove(9)"
   ]
  },
  {
   "cell_type": "code",
   "execution_count": 29,
   "id": "municipal-forth",
   "metadata": {},
   "outputs": [
    {
     "data": {
      "text/plain": [
       "[2, '배고파', 4, 5, 6, 7, 8, 4, 5, 6, 7, 8, 4, 5, 6, 7, 8, 9]"
      ]
     },
     "execution_count": 29,
     "metadata": {},
     "output_type": "execute_result"
    }
   ],
   "source": [
    "a"
   ]
  },
  {
   "cell_type": "markdown",
   "id": "neither-scale",
   "metadata": {},
   "source": [
    "# Dictionary"
   ]
  },
  {
   "cell_type": "markdown",
   "id": "sudden-twenty",
   "metadata": {},
   "source": [
    "- key:value\n",
    "    - key: 해시할 수만 있다면 불변객체는 모두 키로 이용가능, 이 과정을 해싱이라고 함\n",
    "- 내부적으로 Hash Table로 이루어져있음\n",
    "- 입력과 조회 모두 O(1)에 가능\n",
    "- python 3.7+부터 순서유지\n",
    "    - 딕셔너리의 입력순서가 유지될 것이라고 가정하고 진행하는 것은 매우 위험함"
   ]
  },
  {
   "cell_type": "code",
   "execution_count": 30,
   "id": "falling-richmond",
   "metadata": {},
   "outputs": [],
   "source": [
    "a = {}"
   ]
  },
  {
   "cell_type": "code",
   "execution_count": 31,
   "id": "studied-candidate",
   "metadata": {},
   "outputs": [
    {
     "name": "stdout",
     "output_type": "stream",
     "text": [
      "{}\n"
     ]
    }
   ],
   "source": [
    "print(a)"
   ]
  },
  {
   "cell_type": "code",
   "execution_count": 32,
   "id": "impossible-reservation",
   "metadata": {},
   "outputs": [
    {
     "name": "stdout",
     "output_type": "stream",
     "text": [
      "{'key1': 'value1', 'key2': 'value2'}\n"
     ]
    }
   ],
   "source": [
    "a = {\"key1\":\"value1\", \"key2\":\"value2\"}\n",
    "print(a)"
   ]
  },
  {
   "cell_type": "code",
   "execution_count": 33,
   "id": "geographic-acoustic",
   "metadata": {},
   "outputs": [],
   "source": [
    "a[\"key3\"] = \"value3\""
   ]
  },
  {
   "cell_type": "code",
   "execution_count": 34,
   "id": "joined-summit",
   "metadata": {},
   "outputs": [
    {
     "ename": "KeyError",
     "evalue": "'key4'",
     "output_type": "error",
     "traceback": [
      "\u001b[1;31m---------------------------------------------------------------------------\u001b[0m",
      "\u001b[1;31mKeyError\u001b[0m                                  Traceback (most recent call last)",
      "\u001b[1;32m<ipython-input-34-2494a6a3bbd4>\u001b[0m in \u001b[0;36m<module>\u001b[1;34m\u001b[0m\n\u001b[1;32m----> 1\u001b[1;33m \u001b[0mprint\u001b[0m\u001b[1;33m(\u001b[0m\u001b[0ma\u001b[0m\u001b[1;33m[\u001b[0m\u001b[1;34m\"key4\"\u001b[0m\u001b[1;33m]\u001b[0m\u001b[1;33m)\u001b[0m\u001b[1;33m\u001b[0m\u001b[1;33m\u001b[0m\u001b[0m\n\u001b[0m",
      "\u001b[1;31mKeyError\u001b[0m: 'key4'"
     ]
    }
   ],
   "source": [
    "print(a[\"key4\"])"
   ]
  },
  {
   "cell_type": "code",
   "execution_count": 35,
   "id": "international-hostel",
   "metadata": {},
   "outputs": [
    {
     "name": "stdout",
     "output_type": "stream",
     "text": [
      "존재하지 않는 키\n"
     ]
    }
   ],
   "source": [
    "try:\n",
    "    print(a[\"key4\"])\n",
    "except KeyError:\n",
    "    print(\"존재하지 않는 키\")"
   ]
  },
  {
   "cell_type": "code",
   "execution_count": 36,
   "id": "standard-short",
   "metadata": {},
   "outputs": [],
   "source": [
    "del a[\"key3\"]"
   ]
  },
  {
   "cell_type": "code",
   "execution_count": 37,
   "id": "extreme-contributor",
   "metadata": {},
   "outputs": [
    {
     "data": {
      "text/plain": [
       "{'key1': 'value1', 'key2': 'value2'}"
      ]
     },
     "execution_count": 37,
     "metadata": {},
     "output_type": "execute_result"
    }
   ],
   "source": [
    "a"
   ]
  },
  {
   "cell_type": "code",
   "execution_count": 38,
   "id": "intense-tradition",
   "metadata": {},
   "outputs": [
    {
     "data": {
      "text/plain": [
       "True"
      ]
     },
     "execution_count": 38,
     "metadata": {},
     "output_type": "execute_result"
    }
   ],
   "source": [
    "\"key2\" in a"
   ]
  },
  {
   "cell_type": "code",
   "execution_count": 39,
   "id": "silent-solomon",
   "metadata": {},
   "outputs": [
    {
     "data": {
      "text/plain": [
       "False"
      ]
     },
     "execution_count": 39,
     "metadata": {},
     "output_type": "execute_result"
    }
   ],
   "source": [
    "\"value2\" in a"
   ]
  },
  {
   "cell_type": "code",
   "execution_count": 40,
   "id": "sized-silver",
   "metadata": {},
   "outputs": [],
   "source": [
    "a[\"key3\"] = \"value3\""
   ]
  },
  {
   "cell_type": "code",
   "execution_count": 43,
   "id": "several-motivation",
   "metadata": {},
   "outputs": [
    {
     "name": "stdout",
     "output_type": "stream",
     "text": [
      "key1 : value1\n",
      "key2 : value2\n",
      "key3 : value3\n"
     ]
    }
   ],
   "source": [
    "for k,v in a.items():\n",
    "    print(f\"{k} : {v}\")"
   ]
  },
  {
   "cell_type": "markdown",
   "id": "recorded-elimination",
   "metadata": {},
   "source": [
    "## 01 각종 Dictionary 모듈"
   ]
  },
  {
   "cell_type": "markdown",
   "id": "breathing-ranch",
   "metadata": {},
   "source": [
    "### defaultdict 객체\n",
    ": 존재하지 않는 키를 조회할 경우, 에러 메시지를 출력하는 대신 디폴트 값을 기준으로 해당 키에 대한 딕셔너리 아이템을 생성해준다."
   ]
  },
  {
   "cell_type": "code",
   "execution_count": 45,
   "id": "disturbed-litigation",
   "metadata": {},
   "outputs": [
    {
     "data": {
      "text/plain": [
       "defaultdict(int, {'A': 5, 'B': 4})"
      ]
     },
     "execution_count": 45,
     "metadata": {},
     "output_type": "execute_result"
    }
   ],
   "source": [
    "import collections\n",
    "\n",
    "a = collections.defaultdict(int)\n",
    "a[\"A\"] = 5\n",
    "a[\"B\"] = 4\n",
    "a"
   ]
  },
  {
   "cell_type": "code",
   "execution_count": 46,
   "id": "outdoor-louis",
   "metadata": {},
   "outputs": [
    {
     "name": "stdout",
     "output_type": "stream",
     "text": [
      "0\n"
     ]
    }
   ],
   "source": [
    "print(a[\"c\"])"
   ]
  },
  {
   "cell_type": "code",
   "execution_count": 47,
   "id": "valuable-account",
   "metadata": {},
   "outputs": [
    {
     "name": "stdout",
     "output_type": "stream",
     "text": [
      "defaultdict(<class 'int'>, {'A': 5, 'B': 4, 'c': 0})\n"
     ]
    }
   ],
   "source": [
    "print(a)"
   ]
  },
  {
   "cell_type": "markdown",
   "id": "sealed-chair",
   "metadata": {},
   "source": [
    "### Counter 객체"
   ]
  },
  {
   "cell_type": "markdown",
   "id": "deluxe-potential",
   "metadata": {},
   "source": [
    ": 아이템에 대한 개수를 계산해 딕셔너리로 리턴하며, 다음과 같이 사용한다."
   ]
  },
  {
   "cell_type": "code",
   "execution_count": 48,
   "id": "involved-simon",
   "metadata": {},
   "outputs": [
    {
     "data": {
      "text/plain": [
       "Counter({1: 1, 2: 1, 3: 1, 4: 1, 5: 3, 6: 2})"
      ]
     },
     "execution_count": 48,
     "metadata": {},
     "output_type": "execute_result"
    }
   ],
   "source": [
    "a = [1, 2, 3, 4, 5, 5, 5, 6, 6]\n",
    "b = collections.Counter(a)\n",
    "b"
   ]
  },
  {
   "cell_type": "code",
   "execution_count": 52,
   "id": "polar-monday",
   "metadata": {},
   "outputs": [
    {
     "data": {
      "text/plain": [
       "collections.Counter"
      ]
     },
     "execution_count": 52,
     "metadata": {},
     "output_type": "execute_result"
    }
   ],
   "source": [
    "type(b)"
   ]
  },
  {
   "cell_type": "code",
   "execution_count": 53,
   "id": "incoming-speaking",
   "metadata": {},
   "outputs": [
    {
     "data": {
      "text/plain": [
       "[(5, 3), (6, 2)]"
      ]
     },
     "execution_count": 53,
     "metadata": {},
     "output_type": "execute_result"
    }
   ],
   "source": [
    "b.most_common(2)"
   ]
  },
  {
   "cell_type": "markdown",
   "id": "adverse-barrel",
   "metadata": {},
   "source": [
    "### OrderedDict 객체\n",
    ": 대부분의 언어에서 해시 테이블을 이용한 자료형은 입력 순서가 유지되지 않는다."
   ]
  },
  {
   "cell_type": "code",
   "execution_count": 54,
   "id": "shared-bookmark",
   "metadata": {},
   "outputs": [],
   "source": [
    "a = collections.OrderedDict({\"banana\":3, \"apple\":4, \"pear\":1, \"orange\":2})"
   ]
  },
  {
   "cell_type": "code",
   "execution_count": 56,
   "id": "skilled-kingdom",
   "metadata": {},
   "outputs": [
    {
     "name": "stdout",
     "output_type": "stream",
     "text": [
      "OrderedDict([('banana', 3), ('apple', 4), ('pear', 1), ('orange', 2)])\n"
     ]
    }
   ],
   "source": [
    "print(a)"
   ]
  },
  {
   "cell_type": "code",
   "execution_count": null,
   "id": "champion-irish",
   "metadata": {},
   "outputs": [],
   "source": []
  }
 ],
 "metadata": {
  "kernelspec": {
   "display_name": "Python 3",
   "language": "python",
   "name": "python3"
  },
  "language_info": {
   "codemirror_mode": {
    "name": "ipython",
    "version": 3
   },
   "file_extension": ".py",
   "mimetype": "text/x-python",
   "name": "python",
   "nbconvert_exporter": "python",
   "pygments_lexer": "ipython3",
   "version": "3.7.9"
  }
 },
 "nbformat": 4,
 "nbformat_minor": 5
}
