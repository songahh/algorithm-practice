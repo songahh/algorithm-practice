{
 "cells": [
  {
   "cell_type": "markdown",
   "id": "breathing-shift",
   "metadata": {},
   "source": [
    "# 5"
   ]
  },
  {
   "cell_type": "markdown",
   "id": "statewide-jacket",
   "metadata": {},
   "source": [
    "Given a string **s**, return the longest palindromic substring in s."
   ]
  },
  {
   "cell_type": "markdown",
   "id": "applicable-brick",
   "metadata": {},
   "source": [
    "**Constraints**:\n",
    "- 1 <= s.length <= 1000\n",
    "- s consist of only digits and English letters."
   ]
  },
  {
   "cell_type": "markdown",
   "id": "psychological-nevada",
   "metadata": {},
   "source": [
    "## My solution:\n",
    "- Runtime: 8944 ms, faster than 5.03% of Python3 online submissions for Longest Palindromic Substring.\n",
    "- Memory Usage: 14.3 MB, less than 83.19% of Python3 online submissions for Longest Palindromic Substring.\n",
    "\n",
    "\n",
    "너무 느리다!!!"
   ]
  },
  {
   "cell_type": "code",
   "execution_count": 241,
   "id": "complicated-mailing",
   "metadata": {},
   "outputs": [],
   "source": [
    "class Solution:\n",
    "    def longestPalindrome(self, s: str) -> str:\n",
    "        longest = \"\"\n",
    "        for start in range(len(s)):\n",
    "            for end in range(start+1, len(s)+1):\n",
    "                if end-start < len(longest):\n",
    "                    continue\n",
    "                substr =  s[start:end]\n",
    "                if substr == substr[::-1] and len(longest) < len(s[start:end]):\n",
    "                    longest = s[start:end]\n",
    "        return longest"
   ]
  },
  {
   "cell_type": "code",
   "execution_count": 242,
   "id": "committed-panel",
   "metadata": {},
   "outputs": [
    {
     "name": "stdout",
     "output_type": "stream",
     "text": [
      "aca\n"
     ]
    }
   ],
   "source": [
    "sol = Solution()\n",
    "#s = \"babad\"\n",
    "#s = \"cbbd\"\n",
    "#s = \"a\"\n",
    "#s = \"ac\"\n",
    "s = \"aacabdkacaa\"\n",
    "print(sol.longestPalindrome(s))"
   ]
  },
  {
   "cell_type": "markdown",
   "id": "religious-operator",
   "metadata": {},
   "source": [
    "## Solution\n"
   ]
  },
  {
   "cell_type": "code",
   "execution_count": 270,
   "id": "portable-madonna",
   "metadata": {},
   "outputs": [],
   "source": [
    "def longestPalindrome(s):\n",
    "    # palindrome 판별 및 투 포인터 확장\n",
    "    def expand(left: int, right: int) -> str:\n",
    "        while left>=0 and right<=len(s) and s[left] == s[right-1]:\n",
    "            left -= 1\n",
    "            right += 1\n",
    "        return s[left+1:right-1]\n",
    "    \n",
    "    # 해당 사항이 없을 때 빠르게 리턴\n",
    "    if len(s) < 2 or s == s[::-1]:\n",
    "        return s\n",
    "    \n",
    "    result = \"\"\n",
    "    # 슬라이딩 윈도우 우측으로 이동\n",
    "    for i in range(len(s)-1):\n",
    "        \n",
    "        result = max(result, expand(i, i+1), expand(i, i+2), key=len)\n",
    "        print(i, result)\n",
    "    \n",
    "    return result"
   ]
  },
  {
   "cell_type": "code",
   "execution_count": 275,
   "id": "contrary-harassment",
   "metadata": {},
   "outputs": [
    {
     "name": "stdout",
     "output_type": "stream",
     "text": [
      "0 b\n",
      "1 bab\n",
      "2 bab\n",
      "3 bab\n",
      "bab\n"
     ]
    }
   ],
   "source": [
    "#s = \"cbbd\"\n",
    "#s = \"a\"\n",
    "#s = \"ac\"\n",
    "#s = \"aacabdkacaa\"\n",
    "s = \"babad\"\n",
    "print(longestPalindrome(s))"
   ]
  },
  {
   "cell_type": "markdown",
   "id": "enhanced-spell",
   "metadata": {},
   "source": [
    "- Runtime: 268 ms, faster than 93.33% of Python3 online submissions for Longest Palindromic Substring.\n",
    "- Memory Usage: 14.3 MB, less than 62.86% of Python3 online submissions for Longest Palindromic Substring."
   ]
  }
 ],
 "metadata": {
  "kernelspec": {
   "display_name": "Python 3",
   "language": "python",
   "name": "python3"
  },
  "language_info": {
   "codemirror_mode": {
    "name": "ipython",
    "version": 3
   },
   "file_extension": ".py",
   "mimetype": "text/x-python",
   "name": "python",
   "nbconvert_exporter": "python",
   "pygments_lexer": "ipython3",
   "version": "3.7.9"
  }
 },
 "nbformat": 4,
 "nbformat_minor": 5
}
