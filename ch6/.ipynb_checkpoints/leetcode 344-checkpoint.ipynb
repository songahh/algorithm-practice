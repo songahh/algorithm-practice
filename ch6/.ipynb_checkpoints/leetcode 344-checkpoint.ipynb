{
 "cells": [
  {
   "cell_type": "markdown",
   "id": "organized-sunglasses",
   "metadata": {},
   "source": [
    "### 344. Reverse String"
   ]
  },
  {
   "cell_type": "markdown",
   "id": "alive-supervisor",
   "metadata": {},
   "source": [
    "Write a function that reverses a string. The input string is given as an array of characters s."
   ]
  },
  {
   "cell_type": "markdown",
   "id": "angry-homeless",
   "metadata": {},
   "source": [
    "#### Follow up: memory - O(1)"
   ]
  },
  {
   "cell_type": "code",
   "execution_count": 7,
   "id": "educated-moment",
   "metadata": {},
   "outputs": [],
   "source": [
    "class Solution:\n",
    "    def reverseString(self, s) -> None:\n",
    "        \"\"\"\n",
    "            Do not return anything, modify s in-place instead.\n",
    "        \"\"\"\n",
    "        s[:] = s[::-1]\n",
    "        print(s)"
   ]
  },
  {
   "cell_type": "code",
   "execution_count": 8,
   "id": "coordinated-patrick",
   "metadata": {},
   "outputs": [
    {
     "name": "stdout",
     "output_type": "stream",
     "text": [
      "['o', 'l', 'l', 'e', 'h']\n"
     ]
    }
   ],
   "source": [
    "sol = Solution()\n",
    "s = [\"h\",\"e\",\"l\",\"l\",\"o\"]\n",
    "sol.reverseString(s)"
   ]
  }
 ],
 "metadata": {
  "kernelspec": {
   "display_name": "Python 3",
   "language": "python",
   "name": "python3"
  },
  "language_info": {
   "codemirror_mode": {
    "name": "ipython",
    "version": 3
   },
   "file_extension": ".py",
   "mimetype": "text/x-python",
   "name": "python",
   "nbconvert_exporter": "python",
   "pygments_lexer": "ipython3",
   "version": "3.7.9"
  }
 },
 "nbformat": 4,
 "nbformat_minor": 5
}
