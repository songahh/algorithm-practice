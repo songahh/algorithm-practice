{
 "cells": [
  {
   "cell_type": "markdown",
   "id": "packed-ceremony",
   "metadata": {},
   "source": [
    "# 819"
   ]
  },
  {
   "cell_type": "markdown",
   "id": "wireless-midnight",
   "metadata": {},
   "source": [
    "Given a string **paragraph** and a string array of the banned words **banned**, return *the most frequent word that is not banned*. It is guaranteed there is **at least one word** that is not banned, and that the answer is **unique**.\n",
    "\n",
    "\n",
    "The words in **paragraph** are *case-insensitive* and the answer should be returned in *lowercase*."
   ]
  },
  {
   "cell_type": "markdown",
   "id": "empty-metallic",
   "metadata": {},
   "source": [
    "**Constraints**:\n",
    "\n",
    "- 1 <= paragraph.length <= 1000\n",
    "- paragraph consists of English letters, space ' ', or one of the symbols: \"!?',;.\".\n",
    "- 0 <= banned.length <= 100\n",
    "- 1 <= banned[i].length <= 10\n",
    "- banned[i] consists of only lowercase English letters."
   ]
  },
  {
   "cell_type": "code",
   "execution_count": 35,
   "id": "intimate-awareness",
   "metadata": {},
   "outputs": [],
   "source": [
    "import re\n",
    "from collections import Counter\n",
    "\n",
    "class Solution:\n",
    "    def mostCommonWord(self, paragraph, banned) -> str:\n",
    "        # 1. lowercase로 변환\n",
    "        paragraph = paragraph.lower()\n",
    "        for i in range(len(banned)):\n",
    "            banned[i] = banned[i].lower()\n",
    "        \n",
    "        # 2. paragraph 영어, 공백문자 빼고 다 삭제\n",
    "        paragraph = re.sub(\"[!?',;.]\",\" \",paragraph)\n",
    "        paragraph = re.sub(\"[^a-z ]\",\"\",paragraph)\n",
    "        \n",
    "        # 3. paragraph Counter로 변환\n",
    "        dic = Counter(paragraph.split())\n",
    "        \n",
    "        # 4. Find the most common word.\n",
    "        words = dic.most_common(len(dic))\n",
    "        for word, count in words:\n",
    "            if word not in banned:\n",
    "                return word"
   ]
  },
  {
   "cell_type": "code",
   "execution_count": 36,
   "id": "compact-business",
   "metadata": {},
   "outputs": [
    {
     "name": "stdout",
     "output_type": "stream",
     "text": [
      "b\n"
     ]
    }
   ],
   "source": [
    "sol = Solution()\n",
    "paragraph = \"a. a! a? a, b;b?b!c. c\"\n",
    "banned = [\"a\"]\n",
    "print(sol.mostCommonWord(paragraph, banned))"
   ]
  }
 ],
 "metadata": {
  "kernelspec": {
   "display_name": "Python 3",
   "language": "python",
   "name": "python3"
  },
  "language_info": {
   "codemirror_mode": {
    "name": "ipython",
    "version": 3
   },
   "file_extension": ".py",
   "mimetype": "text/x-python",
   "name": "python",
   "nbconvert_exporter": "python",
   "pygments_lexer": "ipython3",
   "version": "3.7.9"
  }
 },
 "nbformat": 4,
 "nbformat_minor": 5
}
