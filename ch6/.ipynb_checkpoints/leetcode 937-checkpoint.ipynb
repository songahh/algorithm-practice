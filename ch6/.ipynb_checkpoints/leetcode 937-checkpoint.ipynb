{
 "cells": [
  {
   "cell_type": "markdown",
   "id": "agricultural-showcase",
   "metadata": {},
   "source": [
    "# 937\n",
    "You are given an array of logs. Each log is a space-delimited string of words, where the first word is the identifier.  \n",
    "\n",
    "types\n",
    "1. Letter-logs: All words except the identifier consist of lowercase English letters.\n",
    "2. Digit-logs: All words except the identifier consist of digits.\n",
    "\n",
    "Reorder these logs so that:\n",
    "1. The letter-logs come before all digit-logs\n",
    "2. The letter-logs are sorted lexicographically by their contents. If their contents are the same, then sort them lexicographically by their identifiers.\n",
    "3. The digit-logs maintain their relative ordering.\n",
    "\n",
    "Return the final order of the logs"
   ]
  },
  {
   "cell_type": "markdown",
   "id": "young-craps",
   "metadata": {},
   "source": [
    "**Constraints**:\n",
    "- 1 <= logs.length <= 100\n",
    "- 3 <= logs[i].length <= 100\n",
    "- All the tokens of logs[i] are separated by a single space.\n",
    "- logs[i] is guaranteed to have an identifier and at least one word after the identifier."
   ]
  },
  {
   "cell_type": "code",
   "execution_count": 18,
   "id": "attempted-bernard",
   "metadata": {},
   "outputs": [],
   "source": [
    "class Solution:\n",
    "    def reorderLogFiles(self, logs):\n",
    "        \n",
    "        dig, let = [], []\n",
    "        for i in range(0,len(logs)):\n",
    "            sep = logs[i].split()\n",
    "            if sep[1].isdigit():\n",
    "                dig.append(logs[i])\n",
    "            else:\n",
    "                let.append((i, sep[0], sep[1:]))\n",
    "        \n",
    "        # letter log 정렬\n",
    "        let = sorted(let, key = lambda x: x[1])\n",
    "        let = sorted(let, key = lambda x: x[2])\n",
    "        \n",
    "        # letter + digit\n",
    "        arr = [logs[let[i][0]] for i in range(len(let))]\n",
    "        arr = arr + dig\n",
    "        \n",
    "        return arr"
   ]
  },
  {
   "cell_type": "code",
   "execution_count": 22,
   "id": "incorporate-double",
   "metadata": {},
   "outputs": [
    {
     "data": {
      "text/plain": [
       "['g1 act car', 'a8 act zoo', 'ab1 off key dog', 'a1 9 2 3 1', 'zo4 4 7']"
      ]
     },
     "execution_count": 22,
     "metadata": {},
     "output_type": "execute_result"
    }
   ],
   "source": [
    "sol = Solution()\n",
    "#logs = [\"dig1 8 1 5 1\",\"let1 art can\",\"dig2 3 6\",\"let2 own kit dig\",\"let3 art zero\"]\n",
    "#logs = [\"a1 9 2 3 1\",\"g1 act car\",\"zo4 4 7\",\"ab1 off key dog\",\"a8 act zoo\"]\n",
    "#logs = [\"a1 9 2 3 1\",\"g1 act car\",\"zo4 4 7\",\"ab1 off key dog\",\"a8 act zoo\",\"a2 act car\"]\n",
    "sol.reorderLogFiles(logs)"
   ]
  },
  {
   "cell_type": "code",
   "execution_count": null,
   "id": "mechanical-horse",
   "metadata": {},
   "outputs": [],
   "source": []
  }
 ],
 "metadata": {
  "kernelspec": {
   "display_name": "Python 3",
   "language": "python",
   "name": "python3"
  },
  "language_info": {
   "codemirror_mode": {
    "name": "ipython",
    "version": 3
   },
   "file_extension": ".py",
   "mimetype": "text/x-python",
   "name": "python",
   "nbconvert_exporter": "python",
   "pygments_lexer": "ipython3",
   "version": "3.7.9"
  }
 },
 "nbformat": 4,
 "nbformat_minor": 5
}
