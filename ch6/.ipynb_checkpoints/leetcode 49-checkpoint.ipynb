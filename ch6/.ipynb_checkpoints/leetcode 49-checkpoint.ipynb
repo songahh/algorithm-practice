{
 "cells": [
  {
   "cell_type": "markdown",
   "id": "decimal-shannon",
   "metadata": {},
   "source": [
    "# 49"
   ]
  },
  {
   "cell_type": "markdown",
   "id": "norman-desire",
   "metadata": {},
   "source": [
    "Given an array of strings **strs**, group the anagrams together. You can return the answer in any order. \n",
    "\n",
    "\n",
    "An Anagram is a word or phrase formed by rearranging the letters of a different word of phrase, typically using all the original letters exactly once."
   ]
  },
  {
   "cell_type": "markdown",
   "id": "stopped-integer",
   "metadata": {},
   "source": [
    "**Constraints**:\n",
    "\n",
    "- 1 <= strs.length <= 104\n",
    "- 0 <= strs[i].length <= 100\n",
    "- strs[i] consists of lower-case English letters."
   ]
  },
  {
   "cell_type": "code",
   "execution_count": 40,
   "id": "liquid-naples",
   "metadata": {},
   "outputs": [],
   "source": [
    "from collections import Counter\n",
    "\n",
    "class Solution:\n",
    "    def groupAnagrams(self, strs):\n",
    "        dic = {}\n",
    "        for word in strs:\n",
    "            key = str(sorted(word))\n",
    "            if key in dic:\n",
    "                dic[key].append(word)\n",
    "            else:\n",
    "                dic[key] = [word]\n",
    "        return list(dic.values())"
   ]
  },
  {
   "cell_type": "code",
   "execution_count": 44,
   "id": "funded-house",
   "metadata": {},
   "outputs": [
    {
     "name": "stdout",
     "output_type": "stream",
     "text": [
      "[['a']]\n"
     ]
    }
   ],
   "source": [
    "sol = Solution()\n",
    "#strs = [\"eat\",\"tea\",\"tan\",\"ate\",\"nat\",\"bat\"]\n",
    "#strs = [\"\"]\n",
    "strs = [\"a\"]\n",
    "print(sol.groupAnagrams(strs))"
   ]
  }
 ],
 "metadata": {
  "kernelspec": {
   "display_name": "Python 3",
   "language": "python",
   "name": "python3"
  },
  "language_info": {
   "codemirror_mode": {
    "name": "ipython",
    "version": 3
   },
   "file_extension": ".py",
   "mimetype": "text/x-python",
   "name": "python",
   "nbconvert_exporter": "python",
   "pygments_lexer": "ipython3",
   "version": "3.7.9"
  }
 },
 "nbformat": 4,
 "nbformat_minor": 5
}
