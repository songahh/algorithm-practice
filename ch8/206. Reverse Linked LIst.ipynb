{
 "cells": [
  {
   "cell_type": "markdown",
   "id": "0d49c7ad",
   "metadata": {},
   "source": [
    "# 206\n",
    "Given the **head** of a singly linked list, reverse the list, and return the *reversed list*.\n",
    "\n",
    "**Constraints**:\n",
    "- The number of nodes in the list is the range [0, 5000].\n",
    "- -5000 <= Node.val <= 5000\n",
    " \n",
    "\n",
    "**Follow up**: A linked list can be reversed either iteratively or recursively. Could you implement both?"
   ]
  },
  {
   "cell_type": "markdown",
   "id": "cfececa5",
   "metadata": {},
   "source": [
    "#### My Solution1: list 이용 -> 뭔가 문제 취지에 안맞는거 같다"
   ]
  },
  {
   "cell_type": "code",
   "execution_count": null,
   "id": "7e377494",
   "metadata": {},
   "outputs": [],
   "source": [
    "# Definition for singly-linked list.\n",
    "# class ListNode:\n",
    "#     def __init__(self, val=0, next=None):\n",
    "#         self.val = val\n",
    "#         self.next = next\n",
    "class Solution:\n",
    "    def reverseList(self, head: Optional[ListNode]) -> Optional[ListNode]:\n",
    "        \n",
    "        val = []\n",
    "        ptr = head\n",
    "        \n",
    "        while ptr:\n",
    "            val.append(ptr.val)\n",
    "            ptr = ptr.next\n",
    "        \n",
    "        val = val[::-1]\n",
    "        ptr = head\n",
    "        for i in val:\n",
    "            ptr.val = i\n",
    "            ptr = ptr.next\n",
    "        \n",
    "        return head "
   ]
  },
  {
   "cell_type": "markdown",
   "id": "d2e615e6",
   "metadata": {},
   "source": [
    "Runtime: 36 ms,\tMemory: 15.7 MB"
   ]
  },
  {
   "cell_type": "markdown",
   "id": "b8cbb25a",
   "metadata": {},
   "source": [
    "#### My Solution2: recursion"
   ]
  },
  {
   "cell_type": "code",
   "execution_count": null,
   "id": "7e461396",
   "metadata": {},
   "outputs": [],
   "source": [
    "# Definition for singly-linked list.\n",
    "# class ListNode:\n",
    "#     def __init__(self, val=0, next=None):\n",
    "#         self.val = val\n",
    "#         self.next = next\n",
    "class Solution:\n",
    "    def reverseList(self, head: Optional[ListNode]) -> Optional[ListNode]:\n",
    "        \n",
    "        if head and head.next:\n",
    "            first, last, prev = head, head, None\n",
    "            while last.next:\n",
    "                prev, last = last, last.next\n",
    "            \n",
    "            # swap\n",
    "            first.val, last.val = last.val, first.val\n",
    "            \n",
    "            # recursion\n",
    "            prev.next = None\n",
    "            sub_head = self.reverseList(first.next)\n",
    "            first.next = sub_head\n",
    "            if sub_head:\n",
    "                while sub_head.next:\n",
    "                    sub_head = sub_head.next\n",
    "                sub_head.next = last\n",
    "            else:\n",
    "                first.next = last\n",
    "        \n",
    "        return head"
   ]
  },
  {
   "cell_type": "markdown",
   "id": "2e6b4469",
   "metadata": {},
   "source": [
    "Runtime: 1042 ms, \tMemory: 17.3 MB 너무 느리다!!!!"
   ]
  },
  {
   "cell_type": "markdown",
   "id": "1c9e46cb",
   "metadata": {},
   "source": [
    "## 책 Solution"
   ]
  },
  {
   "cell_type": "markdown",
   "id": "ba21bb78",
   "metadata": {},
   "source": [
    "링크 수정으로 다시 해보기"
   ]
  },
  {
   "cell_type": "markdown",
   "id": "4effcb37",
   "metadata": {},
   "source": [
    "#### 재귀"
   ]
  },
  {
   "cell_type": "code",
   "execution_count": null,
   "id": "1bfc8dfa",
   "metadata": {},
   "outputs": [],
   "source": [
    "# Definition for singly-linked list.\n",
    "# class ListNode:\n",
    "#     def __init__(self, val=0, next=None):\n",
    "#         self.val = val\n",
    "#         self.next = next\n",
    "class Solution:\n",
    "    def reverseList(self, head: Optional[ListNode]) -> Optional[ListNode]:\n",
    "        \n",
    "        def reverse(node: ListNode, prev: ListNode = None):\n",
    "            if not node:\n",
    "                return prev\n",
    "            next, node.next = node.next, prev\n",
    "            return reverse(next, node)\n",
    "        \n",
    "        return reverse(head)"
   ]
  },
  {
   "cell_type": "markdown",
   "id": "d96ca53b",
   "metadata": {},
   "source": [
    "Runtime: 47 ms, Memory: 20.3 MB"
   ]
  },
  {
   "cell_type": "markdown",
   "id": "a24c4b0a",
   "metadata": {},
   "source": [
    "#### 반복"
   ]
  },
  {
   "cell_type": "code",
   "execution_count": null,
   "id": "ee0348e1",
   "metadata": {},
   "outputs": [],
   "source": [
    "# Definition for singly-linked list.\n",
    "# class ListNode:\n",
    "#     def __init__(self, val=0, next=None):\n",
    "#         self.val = val\n",
    "#         self.next = next\n",
    "class Solution:\n",
    "    def reverseList(self, head: Optional[ListNode]) -> Optional[ListNode]:\n",
    "        \n",
    "        node, prev = head, None\n",
    "        while node:\n",
    "            next, node.next = node.next, prev\n",
    "            prev, node = node, next\n",
    "        \n",
    "        return prev"
   ]
  },
  {
   "cell_type": "markdown",
   "id": "044b7054",
   "metadata": {},
   "source": [
    "Runtime: 44 ms, Memory: 15.6 MB"
   ]
  }
 ],
 "metadata": {
  "kernelspec": {
   "display_name": "Python 3 (ipykernel)",
   "language": "python",
   "name": "python3"
  },
  "language_info": {
   "codemirror_mode": {
    "name": "ipython",
    "version": 3
   },
   "file_extension": ".py",
   "mimetype": "text/x-python",
   "name": "python",
   "nbconvert_exporter": "python",
   "pygments_lexer": "ipython3",
   "version": "3.7.9"
  }
 },
 "nbformat": 4,
 "nbformat_minor": 5
}
