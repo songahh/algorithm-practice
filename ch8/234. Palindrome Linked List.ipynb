{
 "cells": [
  {
   "cell_type": "markdown",
   "id": "86108000",
   "metadata": {},
   "source": [
    "# 234\n",
    "Given the head of a singly linked list, return true if it is a palindrome."
   ]
  },
  {
   "cell_type": "markdown",
   "id": "2228c834",
   "metadata": {},
   "source": [
    "**Constraints**:\n",
    "- The number of nodes in the list is in the range [1, 105].\n",
    "- 0 <= Node.val <= 9"
   ]
  },
  {
   "cell_type": "markdown",
   "id": "9aef88cd",
   "metadata": {},
   "source": [
    "#### List"
   ]
  },
  {
   "cell_type": "code",
   "execution_count": null,
   "id": "ce81baaa",
   "metadata": {},
   "outputs": [],
   "source": [
    "# Definition for singly-linked list.\n",
    "# class ListNode:\n",
    "#     def __init__(self, val=0, next=None):\n",
    "#         self.val = val\n",
    "#         self.next = next\n",
    "class Solution:\n",
    "    def isPalindrome(self, head: Optional[ListNode]) -> bool:\n",
    "        \n",
    "        inp = []\n",
    "        while head != None:\n",
    "            inp.append(head.val)\n",
    "            head = head.next\n",
    "        \n",
    "        while len(inp) > 1:\n",
    "            now = inp.pop(0)\n",
    "            if now != inp[-1]:\n",
    "                return False\n",
    "            inp.pop()\n",
    "            \n",
    "        return True"
   ]
  },
  {
   "cell_type": "markdown",
   "id": "225dbddc",
   "metadata": {},
   "source": [
    "#### Linked List 유지"
   ]
  },
  {
   "cell_type": "code",
   "execution_count": null,
   "id": "434f2a9f",
   "metadata": {},
   "outputs": [],
   "source": [
    "# Definition for singly-linked list.\n",
    "# class ListNode:\n",
    "#     def __init__(self, val=0, next=None):\n",
    "#         self.val = val\n",
    "#         self.next = next\n",
    "class Solution:\n",
    "    def isPalindrome(self, head: Optional[ListNode]) -> bool:\n",
    "        \n",
    "        rev = None # Palindrome의 좌측 역순연결리스트의 head\n",
    "        slow = fast = head\n",
    "        \n",
    "        while fast and fast.next:\n",
    "            fast = fast.next.next\n",
    "            rev, rev.next, slow = slow, rev, slow.next\n",
    "        \n",
    "        # 홀수인 경우\n",
    "        if fast:\n",
    "            slow = slow.next\n",
    "        \n",
    "        # Palindrome 체크 \n",
    "        while rev != None:\n",
    "            if rev.val == slow.val:\n",
    "                rev, slow = rev.next, slow.next\n",
    "            else:\n",
    "                return False\n",
    "        \n",
    "        return True"
   ]
  }
 ],
 "metadata": {
  "kernelspec": {
   "display_name": "Python 3 (ipykernel)",
   "language": "python",
   "name": "python3"
  },
  "language_info": {
   "codemirror_mode": {
    "name": "ipython",
    "version": 3
   },
   "file_extension": ".py",
   "mimetype": "text/x-python",
   "name": "python",
   "nbconvert_exporter": "python",
   "pygments_lexer": "ipython3",
   "version": "3.7.9"
  }
 },
 "nbformat": 4,
 "nbformat_minor": 5
}
