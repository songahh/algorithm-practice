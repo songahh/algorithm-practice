{
 "cells": [
  {
   "cell_type": "markdown",
   "id": "baef1ea7",
   "metadata": {},
   "source": [
    "# 328"
   ]
  },
  {
   "cell_type": "markdown",
   "id": "72204481",
   "metadata": {},
   "source": [
    "Given the head of a singly linked list, group all the nodes with odd indices together followed by the nodes with even indices, and return the reordered list.\n",
    "\n",
    "The first node is considered odd, and the second node is even, and so on.\n",
    "\n",
    "Note that the relative order inside both the even and odd groups should remain as it was in the input.\n",
    "\n",
    "You must solve the problem in O(1) extra space complexity and O(n) time complexity.\n",
    "\n",
    "**Constraints**:\n",
    "- n == number of nodes in the linked list\n",
    "- 0 <= n <= 10^4\n",
    "- -10^6 <= Node.val <= 10^6"
   ]
  },
  {
   "cell_type": "code",
   "execution_count": null,
   "id": "acd06cde",
   "metadata": {},
   "outputs": [],
   "source": [
    "# Definition for singly-linked list.\n",
    "# class ListNode:\n",
    "#     def __init__(self, val=0, next=None):\n",
    "#         self.val = val\n",
    "#         self.next = next\n",
    "class Solution:\n",
    "    def oddEvenList(self, head: Optional[ListNode]) -> Optional[ListNode]:\n",
    "        \n",
    "        if not head:\n",
    "            return head\n",
    "        oh, ot = head, head\n",
    "        eh, et = head.next, head.next\n",
    "        \n",
    "        while et:\n",
    "            ot.next = ot.next.next\n",
    "            if not ot.next:\n",
    "                ot.next = eh\n",
    "                return oh\n",
    "            ot = ot.next\n",
    "            et.next = ot.next\n",
    "            et = et.next\n",
    "        \n",
    "        ot.next = eh\n",
    "        return oh\n",
    "        "
   ]
  },
  {
   "cell_type": "markdown",
   "id": "8344d2bb",
   "metadata": {},
   "source": [
    "Runtime: 44 ms, Memory: 16.3 MB"
   ]
  }
 ],
 "metadata": {
  "kernelspec": {
   "display_name": "Python 3 (ipykernel)",
   "language": "python",
   "name": "python3"
  },
  "language_info": {
   "codemirror_mode": {
    "name": "ipython",
    "version": 3
   },
   "file_extension": ".py",
   "mimetype": "text/x-python",
   "name": "python",
   "nbconvert_exporter": "python",
   "pygments_lexer": "ipython3",
   "version": "3.7.9"
  }
 },
 "nbformat": 4,
 "nbformat_minor": 5
}
