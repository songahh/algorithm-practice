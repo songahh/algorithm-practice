{
 "cells": [
  {
   "cell_type": "markdown",
   "id": "5139b577",
   "metadata": {},
   "source": [
    "# 392\n",
    "Given the head of a singly linked list and two integers left and right where left <= right, reverse the nodes of the list from position left to position right, and return the reversed list.\n",
    "\n",
    "**Constraints**:\n",
    "\n",
    "- The number of nodes in the list is n.\n",
    "- 1 <= n <= 500\n",
    "- -500 <= Node.val <= 500\n",
    "- 1 <= left <= right <= n\n",
    " \n",
    "\n",
    "**Follow up**: Could you do it in one pass?"
   ]
  },
  {
   "cell_type": "markdown",
   "id": "3a42f13d",
   "metadata": {},
   "source": [
    "### My Solution"
   ]
  },
  {
   "cell_type": "code",
   "execution_count": null,
   "id": "374b67a2",
   "metadata": {},
   "outputs": [],
   "source": [
    "# Definition for singly-linked list.\n",
    "# class ListNode:\n",
    "#     def __init__(self, val=0, next=None):\n",
    "#         self.val = val\n",
    "#         self.next = next\n",
    "class Solution:\n",
    "    def reverseBetween(self, head: Optional[ListNode], left: int, right: int) -> Optional[ListNode]:\n",
    "        \n",
    "        if right-left == 0:\n",
    "            return head\n",
    "        \n",
    "        lpivot, rpivot, lptr, rptr = head, head, head, head\n",
    "        \n",
    "        if left-2>=0:\n",
    "            for _ in range(left-2):\n",
    "                lpivot = lpivot.next\n",
    "            lptr = lpivot.next\n",
    "        \n",
    "        for _ in range(right):\n",
    "            rptr = rpivot\n",
    "            rpivot = rpivot.next\n",
    "        rptr.next = None\n",
    "        \n",
    "        i = 0\n",
    "        prev, now, next = None, lptr, None\n",
    "        while now:\n",
    "            next = now.next\n",
    "            if not next:\n",
    "                now.next = prev\n",
    "                break\n",
    "            now.next = prev\n",
    "            prev = now\n",
    "            now = next\n",
    "        \n",
    "        if lpivot == lptr:\n",
    "            head = rptr\n",
    "        else:\n",
    "            lpivot.next = rptr\n",
    "        lptr.next = rpivot\n",
    "        \n",
    "        return head"
   ]
  },
  {
   "cell_type": "markdown",
   "id": "e6e79600",
   "metadata": {},
   "source": [
    "Runtime: 40 ms, Memory: 14.5 MB"
   ]
  },
  {
   "cell_type": "markdown",
   "id": "58e218b3",
   "metadata": {},
   "source": [
    "### 책"
   ]
  },
  {
   "cell_type": "code",
   "execution_count": null,
   "id": "56433565",
   "metadata": {},
   "outputs": [],
   "source": [
    "# Definition for singly-linked list.\n",
    "# class ListNode:\n",
    "#     def __init__(self, val=0, next=None):\n",
    "#         self.val = val\n",
    "#         self.next = next\n",
    "class Solution:\n",
    "    def reverseBetween(self, head: Optional[ListNode], left: int, right: int) -> Optional[ListNode]:\n",
    "        \n",
    "        if not head or left == right:\n",
    "            return head\n",
    "        \n",
    "        root = start = ListNode(None)\n",
    "        root.next = head\n",
    "        \n",
    "        # start, end지정\n",
    "        for _ in range(left-1):\n",
    "            start = start.next\n",
    "        end = start.next\n",
    "        \n",
    "        # 반복하면서 노드 차례대로 뒤집기\n",
    "        for _ in range(right-left):\n",
    "            tmp, start.next, end.next = start.next, end.next, end.next.next\n",
    "            start.next.next = tmp\n",
    "        \n",
    "        return root.next"
   ]
  },
  {
   "cell_type": "markdown",
   "id": "b3f6544b",
   "metadata": {},
   "source": [
    "Runtime: 27 ms, Memory: 14.4 MB"
   ]
  },
  {
   "cell_type": "code",
   "execution_count": null,
   "id": "cce0fc62",
   "metadata": {},
   "outputs": [],
   "source": []
  }
 ],
 "metadata": {
  "kernelspec": {
   "display_name": "Python 3 (ipykernel)",
   "language": "python",
   "name": "python3"
  },
  "language_info": {
   "codemirror_mode": {
    "name": "ipython",
    "version": 3
   },
   "file_extension": ".py",
   "mimetype": "text/x-python",
   "name": "python",
   "nbconvert_exporter": "python",
   "pygments_lexer": "ipython3",
   "version": "3.7.9"
  }
 },
 "nbformat": 4,
 "nbformat_minor": 5
}
