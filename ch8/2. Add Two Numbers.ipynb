{
 "cells": [
  {
   "cell_type": "markdown",
   "id": "c8d37e1e",
   "metadata": {},
   "source": [
    "# 2.\n",
    "\n",
    "You are given two non-empty linked lists representing two non-negative integers. The digits are stored in reverse order, and each of their nodes contains a single digit. Add the two numbers and return the sum as a linked list.\n",
    "\n",
    "You may assume the two numbers do not contain any leading zero, except the number 0 itself.\n",
    "\n",
    "**Constraints**:\n",
    "\n",
    "- The number of nodes in each linked list is in the range [1, 100].\n",
    "- 0 <= Node.val <= 9\n",
    "- It is guaranteed that the list represents a number that does not have leading zeros."
   ]
  },
  {
   "cell_type": "markdown",
   "id": "6e97eb1f",
   "metadata": {},
   "source": [
    "### My Solution"
   ]
  },
  {
   "cell_type": "code",
   "execution_count": null,
   "id": "212d1ba5",
   "metadata": {},
   "outputs": [],
   "source": [
    "# Definition for singly-linked list.\n",
    "# class ListNode:\n",
    "#     def __init__(self, val=0, next=None):\n",
    "#         self.val = val\n",
    "#         self.next = next\n",
    "class Solution:\n",
    "    def addTwoNumbers(self, l1: Optional[ListNode], l2: Optional[ListNode]) -> Optional[ListNode]:\n",
    "        \n",
    "        digit, head, tail = 0, None, None\n",
    "        ptr1, ptr2 = l1, l2\n",
    "        \n",
    "        while ptr1 and ptr2:\n",
    "            sum = ptr1.val+ptr2.val+digit\n",
    "            digit, sum = sum//10, sum%10\n",
    "            \n",
    "            if not head:\n",
    "                head = ListNode(sum, None)\n",
    "                tail = head\n",
    "            else:\n",
    "                newnode = ListNode(sum, None)\n",
    "                tail.next = newnode\n",
    "                tail = newnode\n",
    "            \n",
    "            ptr1, ptr2 = ptr1.next, ptr2.next\n",
    "        \n",
    "        \n",
    "        while ptr1:\n",
    "            sum = ptr1.val+digit\n",
    "            digit, sum = sum//10, sum%10\n",
    "            \n",
    "            if not head:\n",
    "                head = ListNode(sum, None)\n",
    "                tail = head\n",
    "            else:\n",
    "                newnode = ListNode(sum, None)\n",
    "                tail.next = newnode\n",
    "                tail = newnode\n",
    "        \n",
    "            ptr1 = ptr1.next\n",
    "            \n",
    "        while ptr2:\n",
    "            sum = ptr2.val+digit\n",
    "            digit, sum = sum//10, sum%10\n",
    "            \n",
    "            if not head:\n",
    "                head = ListNode(sum, None)\n",
    "                tail = head\n",
    "            else:\n",
    "                newnode = ListNode(sum, None)\n",
    "                tail.next = newnode\n",
    "                tail = newnode\n",
    "                \n",
    "            ptr2 = ptr2.next\n",
    "            \n",
    "        if digit != 0:\n",
    "            newnode = ListNode(digit, None)\n",
    "            tail.next = newnode\n",
    "            tail = newnode\n",
    "            \n",
    "        return head"
   ]
  },
  {
   "cell_type": "markdown",
   "id": "80d2a55b",
   "metadata": {},
   "source": [
    "Runtime: 68 ms, Memory: 14.3 MB"
   ]
  },
  {
   "cell_type": "markdown",
   "id": "08b135e7",
   "metadata": {},
   "source": [
    "### 책 Solution: 전자산기 구현"
   ]
  },
  {
   "cell_type": "markdown",
   "id": "6d87d30e",
   "metadata": {},
   "source": [
    "내가 짠 Solution이랑 같은 맥락임"
   ]
  },
  {
   "cell_type": "code",
   "execution_count": null,
   "id": "3dd576e4",
   "metadata": {},
   "outputs": [],
   "source": [
    "# Definition for singly-linked list.\n",
    "# class ListNode:\n",
    "#     def __init__(self, val=0, next=None):\n",
    "#         self.val = val\n",
    "#         self.next = next\n",
    "class Solution:\n",
    "    def addTwoNumbers(self, l1: Optional[ListNode], l2: Optional[ListNode]) -> Optional[ListNode]:\n",
    "        \n",
    "        root = head = ListNode(0)\n",
    "        \n",
    "        carry = 0\n",
    "        while l1 or l2 or carry:\n",
    "            sum = 0\n",
    "            \n",
    "            if l1:\n",
    "                sum += l1.val\n",
    "                l1 = l1.next\n",
    "            if l2:\n",
    "                sum += l2.val\n",
    "                l2 = l2.next\n",
    "            \n",
    "            carry, val = divmod(sum+carry, 10)\n",
    "            head.next = ListNode(val)\n",
    "            head = head.next\n",
    "    \n",
    "        return root.next"
   ]
  },
  {
   "cell_type": "markdown",
   "id": "e2f7b48c",
   "metadata": {},
   "source": [
    "Runtime: 99 ms, Solution: 14.4 MB"
   ]
  }
 ],
 "metadata": {
  "kernelspec": {
   "display_name": "Python 3 (ipykernel)",
   "language": "python",
   "name": "python3"
  },
  "language_info": {
   "codemirror_mode": {
    "name": "ipython",
    "version": 3
   },
   "file_extension": ".py",
   "mimetype": "text/x-python",
   "name": "python",
   "nbconvert_exporter": "python",
   "pygments_lexer": "ipython3",
   "version": "3.7.9"
  }
 },
 "nbformat": 4,
 "nbformat_minor": 5
}
