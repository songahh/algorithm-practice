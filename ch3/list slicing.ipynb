{
 "cells": [
  {
   "cell_type": "code",
   "execution_count": 1,
   "id": "primary-coordinate",
   "metadata": {},
   "outputs": [],
   "source": [
    "s = \"Python is a multi-paradigm programming language.\""
   ]
  },
  {
   "cell_type": "code",
   "execution_count": 2,
   "id": "sound-awareness",
   "metadata": {},
   "outputs": [
    {
     "data": {
      "text/plain": [
       "'Python is a multi-paradigm programming language.'"
      ]
     },
     "execution_count": 2,
     "metadata": {},
     "output_type": "execute_result"
    }
   ],
   "source": [
    "s[:]"
   ]
  },
  {
   "cell_type": "code",
   "execution_count": 7,
   "id": "seventh-improvement",
   "metadata": {},
   "outputs": [
    {
     "data": {
      "text/plain": [
       "'Python is a multi-paradigm programming language.'"
      ]
     },
     "execution_count": 7,
     "metadata": {},
     "output_type": "execute_result"
    }
   ],
   "source": [
    "s[0:]"
   ]
  },
  {
   "cell_type": "code",
   "execution_count": 8,
   "id": "challenging-microphone",
   "metadata": {},
   "outputs": [
    {
     "data": {
      "text/plain": [
       "'Pyt'"
      ]
     },
     "execution_count": 8,
     "metadata": {},
     "output_type": "execute_result"
    }
   ],
   "source": [
    "s[:3]"
   ]
  },
  {
   "cell_type": "code",
   "execution_count": 9,
   "id": "confident-singer",
   "metadata": {},
   "outputs": [
    {
     "data": {
      "text/plain": [
       "'.egaugnal gnimmargorp mgidarap-itlum a si nohtyP'"
      ]
     },
     "execution_count": 9,
     "metadata": {},
     "output_type": "execute_result"
    }
   ],
   "source": [
    "s[::-1]"
   ]
  },
  {
   "cell_type": "code",
   "execution_count": 11,
   "id": "integrated-anderson",
   "metadata": {},
   "outputs": [
    {
     "data": {
      "text/plain": [
       "'.egaugnal gnimmargorp mgidarap-itlum a si no'"
      ]
     },
     "execution_count": 11,
     "metadata": {},
     "output_type": "execute_result"
    }
   ],
   "source": [
    "s[:3:-1]"
   ]
  },
  {
   "cell_type": "code",
   "execution_count": 12,
   "id": "controversial-fourth",
   "metadata": {},
   "outputs": [
    {
     "data": {
      "text/plain": [
       "'ge.'"
      ]
     },
     "execution_count": 12,
     "metadata": {},
     "output_type": "execute_result"
    }
   ],
   "source": [
    "s[-3:]"
   ]
  },
  {
   "cell_type": "code",
   "execution_count": 13,
   "id": "continental-thomas",
   "metadata": {},
   "outputs": [
    {
     "data": {
      "text/plain": [
       "'Python is a multi-paradigm programming langua'"
      ]
     },
     "execution_count": 13,
     "metadata": {},
     "output_type": "execute_result"
    }
   ],
   "source": [
    "s[:-3]"
   ]
  }
 ],
 "metadata": {
  "kernelspec": {
   "display_name": "Python 3",
   "language": "python",
   "name": "python3"
  },
  "language_info": {
   "codemirror_mode": {
    "name": "ipython",
    "version": 3
   },
   "file_extension": ".py",
   "mimetype": "text/x-python",
   "name": "python",
   "nbconvert_exporter": "python",
   "pygments_lexer": "ipython3",
   "version": "3.7.9"
  }
 },
 "nbformat": 4,
 "nbformat_minor": 5
}
