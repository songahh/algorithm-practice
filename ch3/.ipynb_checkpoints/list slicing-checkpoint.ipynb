{
 "cells": [
  {
   "cell_type": "code",
   "execution_count": 1,
   "id": "mature-pathology",
   "metadata": {},
   "outputs": [],
   "source": [
    "s = \"Python is a multi-paradigm programming language.\""
   ]
  },
  {
   "cell_type": "code",
   "execution_count": 2,
   "id": "liberal-wildlife",
   "metadata": {},
   "outputs": [
    {
     "data": {
      "text/plain": [
       "'Python is a multi-paradigm programming language.'"
      ]
     },
     "execution_count": 2,
     "metadata": {},
     "output_type": "execute_result"
    }
   ],
   "source": [
    "s[:]"
   ]
  },
  {
   "cell_type": "code",
   "execution_count": null,
   "id": "latin-chocolate",
   "metadata": {},
   "outputs": [],
   "source": []
  }
 ],
 "metadata": {
  "kernelspec": {
   "display_name": "Python 3",
   "language": "python",
   "name": "python3"
  },
  "language_info": {
   "codemirror_mode": {
    "name": "ipython",
    "version": 3
   },
   "file_extension": ".py",
   "mimetype": "text/x-python",
   "name": "python",
   "nbconvert_exporter": "python",
   "pygments_lexer": "ipython3",
   "version": "3.7.9"
  }
 },
 "nbformat": 4,
 "nbformat_minor": 5
}
