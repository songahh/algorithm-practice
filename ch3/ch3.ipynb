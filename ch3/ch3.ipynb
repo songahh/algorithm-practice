{
 "cells": [
  {
   "cell_type": "markdown",
   "id": "south-finder",
   "metadata": {},
   "source": [
    "# 파이썬 문법"
   ]
  },
  {
   "cell_type": "markdown",
   "id": "hybrid-belfast",
   "metadata": {},
   "source": [
    "## 01 Indent"
   ]
  },
  {
   "cell_type": "markdown",
   "id": "wired-union",
   "metadata": {},
   "source": [
    "## 02 Naming Convention"
   ]
  },
  {
   "cell_type": "markdown",
   "id": "protecting-consequence",
   "metadata": {},
   "source": [
    "- Snake Case: 변수명, 함수명을 _로 구분\n",
    "- 소문자 사용"
   ]
  },
  {
   "cell_type": "markdown",
   "id": "sonic-blackjack",
   "metadata": {},
   "source": [
    "## 03 Type hint"
   ]
  },
  {
   "cell_type": "markdown",
   "id": "novel-favor",
   "metadata": {},
   "source": [
    "- Python 3.5부터 사용 가능"
   ]
  },
  {
   "cell_type": "code",
   "execution_count": 1,
   "id": "bearing-mouth",
   "metadata": {},
   "outputs": [],
   "source": [
    "a: str = \"1\"\n",
    "b: int = 1 "
   ]
  },
  {
   "cell_type": "code",
   "execution_count": 3,
   "id": "residential-vietnam",
   "metadata": {},
   "outputs": [],
   "source": [
    "def fn(a: int) -> bool:\n",
    "        pass"
   ]
  },
  {
   "cell_type": "code",
   "execution_count": 4,
   "id": "pleasant-consequence",
   "metadata": {},
   "outputs": [
    {
     "data": {
      "text/plain": [
       "str"
      ]
     },
     "execution_count": 4,
     "metadata": {},
     "output_type": "execute_result"
    }
   ],
   "source": [
    "type(a)"
   ]
  },
  {
   "cell_type": "code",
   "execution_count": 5,
   "id": "legendary-vietnam",
   "metadata": {},
   "outputs": [
    {
     "data": {
      "text/plain": [
       "int"
      ]
     },
     "execution_count": 5,
     "metadata": {},
     "output_type": "execute_result"
    }
   ],
   "source": [
    "type(b)"
   ]
  },
  {
   "cell_type": "markdown",
   "id": "dying-rugby",
   "metadata": {},
   "source": [
    "## 04 List Comprehension"
   ]
  },
  {
   "cell_type": "markdown",
   "id": "innovative-horizontal",
   "metadata": {},
   "source": [
    "- 함수형 기능(map, filter) 지원\n",
    "- Lambda Expression도 지원"
   ]
  },
  {
   "cell_type": "code",
   "execution_count": 7,
   "id": "referenced-compilation",
   "metadata": {},
   "outputs": [
    {
     "name": "stdout",
     "output_type": "stream",
     "text": [
      "[11, 12, 13]\n"
     ]
    }
   ],
   "source": [
    "# lambda expr\n",
    "a = list(map(lambda x: x+10, [1,2,3]))\n",
    "print(a)"
   ]
  },
  {
   "cell_type": "code",
   "execution_count": 8,
   "id": "executive-intro",
   "metadata": {},
   "outputs": [
    {
     "name": "stdout",
     "output_type": "stream",
     "text": [
      "[2, 6, 10, 14, 18]\n"
     ]
    }
   ],
   "source": [
    "b = [n*2 for n in range(1, 11) if n%2 == 1]\n",
    "print(b)"
   ]
  },
  {
   "cell_type": "code",
   "execution_count": 10,
   "id": "governmental-advance",
   "metadata": {},
   "outputs": [],
   "source": [
    "b = {\"A\":2, \"B\":5}\n",
    "a = {}\n",
    "for key, value in b.items():\n",
    "    a[key] = value"
   ]
  },
  {
   "cell_type": "code",
   "execution_count": 11,
   "id": "declared-population",
   "metadata": {},
   "outputs": [
    {
     "name": "stdout",
     "output_type": "stream",
     "text": [
      "{'A': 2, 'B': 5}\n"
     ]
    }
   ],
   "source": [
    "print(a)"
   ]
  },
  {
   "cell_type": "code",
   "execution_count": 12,
   "id": "numerical-portugal",
   "metadata": {},
   "outputs": [],
   "source": [
    "a = {key: value for key, value in b.items()}"
   ]
  },
  {
   "cell_type": "code",
   "execution_count": 13,
   "id": "developing-fruit",
   "metadata": {},
   "outputs": [
    {
     "name": "stdout",
     "output_type": "stream",
     "text": [
      "{'A': 2, 'B': 5}\n"
     ]
    }
   ],
   "source": [
    "print(a)"
   ]
  },
  {
   "cell_type": "markdown",
   "id": "increasing-incident",
   "metadata": {},
   "source": [
    "##  05 Generator"
   ]
  },
  {
   "cell_type": "markdown",
   "id": "accessible-engine",
   "metadata": {},
   "source": [
    "- loop의 iteration을 제어할 수 있는 routine 형태\n",
    "- yield: 제너레이터를 리턴할 수 있음"
   ]
  },
  {
   "cell_type": "code",
   "execution_count": 14,
   "id": "dental-february",
   "metadata": {},
   "outputs": [],
   "source": [
    "def get_natural_number():\n",
    "    n = 0\n",
    "    while True:\n",
    "        n += 1\n",
    "        yield n"
   ]
  },
  {
   "cell_type": "code",
   "execution_count": 16,
   "id": "younger-english",
   "metadata": {},
   "outputs": [
    {
     "data": {
      "text/plain": [
       "<generator object get_natural_number at 0x0000017FCF88C548>"
      ]
     },
     "execution_count": 16,
     "metadata": {},
     "output_type": "execute_result"
    }
   ],
   "source": [
    "get_natural_number()"
   ]
  },
  {
   "cell_type": "code",
   "execution_count": 18,
   "id": "higher-benchmark",
   "metadata": {},
   "outputs": [
    {
     "name": "stdout",
     "output_type": "stream",
     "text": [
      "1\n",
      "2\n",
      "3\n",
      "4\n",
      "5\n",
      "6\n",
      "7\n",
      "8\n",
      "9\n",
      "10\n"
     ]
    }
   ],
   "source": [
    "g = get_natural_number()\n",
    "for _ in range(0, 10):\n",
    "    print(next(g))"
   ]
  },
  {
   "cell_type": "code",
   "execution_count": 19,
   "id": "tamil-differential",
   "metadata": {},
   "outputs": [],
   "source": [
    "def generator():\n",
    "    yield 1\n",
    "    yield 'string'\n",
    "    yield True"
   ]
  },
  {
   "cell_type": "code",
   "execution_count": 21,
   "id": "protected-witch",
   "metadata": {},
   "outputs": [],
   "source": [
    "g = generator()"
   ]
  },
  {
   "cell_type": "code",
   "execution_count": 22,
   "id": "becoming-finding",
   "metadata": {},
   "outputs": [
    {
     "data": {
      "text/plain": [
       "<generator object generator at 0x0000017FCF8C12C8>"
      ]
     },
     "execution_count": 22,
     "metadata": {},
     "output_type": "execute_result"
    }
   ],
   "source": [
    "g"
   ]
  },
  {
   "cell_type": "code",
   "execution_count": 23,
   "id": "jewish-receiver",
   "metadata": {},
   "outputs": [
    {
     "data": {
      "text/plain": [
       "1"
      ]
     },
     "execution_count": 23,
     "metadata": {},
     "output_type": "execute_result"
    }
   ],
   "source": [
    "next(g)"
   ]
  },
  {
   "cell_type": "code",
   "execution_count": 24,
   "id": "appreciated-battery",
   "metadata": {},
   "outputs": [
    {
     "data": {
      "text/plain": [
       "'string'"
      ]
     },
     "execution_count": 24,
     "metadata": {},
     "output_type": "execute_result"
    }
   ],
   "source": [
    "next(g)"
   ]
  },
  {
   "cell_type": "code",
   "execution_count": 25,
   "id": "single-movie",
   "metadata": {},
   "outputs": [
    {
     "data": {
      "text/plain": [
       "True"
      ]
     },
     "execution_count": 25,
     "metadata": {},
     "output_type": "execute_result"
    }
   ],
   "source": [
    "next(g)"
   ]
  },
  {
   "cell_type": "markdown",
   "id": "daily-shooting",
   "metadata": {},
   "source": [
    "## 06 Range"
   ]
  },
  {
   "cell_type": "code",
   "execution_count": 27,
   "id": "together-palestinian",
   "metadata": {},
   "outputs": [
    {
     "data": {
      "text/plain": [
       "[0, 1, 2, 3, 4]"
      ]
     },
     "execution_count": 27,
     "metadata": {},
     "output_type": "execute_result"
    }
   ],
   "source": [
    "a = list(range(5))\n",
    "a"
   ]
  },
  {
   "cell_type": "code",
   "execution_count": 28,
   "id": "impressed-little",
   "metadata": {},
   "outputs": [
    {
     "data": {
      "text/plain": [
       "range(0, 5)"
      ]
     },
     "execution_count": 28,
     "metadata": {},
     "output_type": "execute_result"
    }
   ],
   "source": [
    "range(5)"
   ]
  },
  {
   "cell_type": "code",
   "execution_count": 29,
   "id": "laden-church",
   "metadata": {},
   "outputs": [
    {
     "data": {
      "text/plain": [
       "range"
      ]
     },
     "execution_count": 29,
     "metadata": {},
     "output_type": "execute_result"
    }
   ],
   "source": [
    "type(range(5))"
   ]
  },
  {
   "cell_type": "code",
   "execution_count": 31,
   "id": "dutch-gravity",
   "metadata": {},
   "outputs": [
    {
     "name": "stdout",
     "output_type": "stream",
     "text": [
      "0 1 2 3 4 "
     ]
    }
   ],
   "source": [
    "for i in range(5):\n",
    "    print(i, end=' ')"
   ]
  },
  {
   "cell_type": "code",
   "execution_count": 32,
   "id": "external-fitness",
   "metadata": {},
   "outputs": [],
   "source": [
    "a = [n for n in range(100)] # 이미 생성된 값\n",
    "b = range(100) # 생성해야함"
   ]
  },
  {
   "cell_type": "code",
   "execution_count": 33,
   "id": "precious-galaxy",
   "metadata": {},
   "outputs": [
    {
     "data": {
      "text/plain": [
       "100"
      ]
     },
     "execution_count": 33,
     "metadata": {},
     "output_type": "execute_result"
    }
   ],
   "source": [
    "len(a)"
   ]
  },
  {
   "cell_type": "code",
   "execution_count": 36,
   "id": "comfortable-finish",
   "metadata": {},
   "outputs": [
    {
     "data": {
      "text/plain": [
       "100"
      ]
     },
     "execution_count": 36,
     "metadata": {},
     "output_type": "execute_result"
    }
   ],
   "source": [
    "len(b)"
   ]
  },
  {
   "cell_type": "code",
   "execution_count": 37,
   "id": "found-significance",
   "metadata": {},
   "outputs": [
    {
     "data": {
      "text/plain": [
       "912"
      ]
     },
     "execution_count": 37,
     "metadata": {},
     "output_type": "execute_result"
    }
   ],
   "source": [
    "import sys\n",
    "\n",
    "sys.getsizeof(a)"
   ]
  },
  {
   "cell_type": "code",
   "execution_count": 39,
   "id": "shaped-silicon",
   "metadata": {},
   "outputs": [
    {
     "data": {
      "text/plain": [
       "48"
      ]
     },
     "execution_count": 39,
     "metadata": {},
     "output_type": "execute_result"
    }
   ],
   "source": [
    "sys.getsizeof(b) # 100개가 아니더라도 메모리 점유율은 동일. 생성 조건만 보관하고 있기 때문"
   ]
  },
  {
   "cell_type": "code",
   "execution_count": 40,
   "id": "legendary-certificate",
   "metadata": {},
   "outputs": [
    {
     "data": {
      "text/plain": [
       "10"
      ]
     },
     "execution_count": 40,
     "metadata": {},
     "output_type": "execute_result"
    }
   ],
   "source": [
    "b[10] # 인덱스 접근 시에 바로 생성하도록 구현되어 있기 때문에 리스트와 거의 동일한 느낌으로 사용 가능"
   ]
  },
  {
   "cell_type": "markdown",
   "id": "streaming-shoot",
   "metadata": {},
   "source": [
    "## 07 enumerate"
   ]
  },
  {
   "cell_type": "code",
   "execution_count": 41,
   "id": "closing-plane",
   "metadata": {},
   "outputs": [
    {
     "data": {
      "text/plain": [
       "[1, 2, 3, 2, 45, 2, 5]"
      ]
     },
     "execution_count": 41,
     "metadata": {},
     "output_type": "execute_result"
    }
   ],
   "source": [
    "a = [1, 2, 3, 2, 45, 2, 5]\n",
    "a"
   ]
  },
  {
   "cell_type": "code",
   "execution_count": 42,
   "id": "convenient-hybrid",
   "metadata": {},
   "outputs": [
    {
     "data": {
      "text/plain": [
       "<enumerate at 0x17fcf8de0e8>"
      ]
     },
     "execution_count": 42,
     "metadata": {},
     "output_type": "execute_result"
    }
   ],
   "source": [
    "enumerate(a)"
   ]
  },
  {
   "cell_type": "code",
   "execution_count": 43,
   "id": "dying-angle",
   "metadata": {},
   "outputs": [
    {
     "data": {
      "text/plain": [
       "[(0, 1), (1, 2), (2, 3), (3, 2), (4, 45), (5, 2), (6, 5)]"
      ]
     },
     "execution_count": 43,
     "metadata": {},
     "output_type": "execute_result"
    }
   ],
   "source": [
    "list(enumerate(a))"
   ]
  },
  {
   "cell_type": "markdown",
   "id": "clean-title",
   "metadata": {},
   "source": [
    "## 08 // 나눗셈 연산자"
   ]
  },
  {
   "cell_type": "code",
   "execution_count": 44,
   "id": "varying-journalist",
   "metadata": {},
   "outputs": [
    {
     "data": {
      "text/plain": [
       "1.6666666666666667"
      ]
     },
     "execution_count": 44,
     "metadata": {},
     "output_type": "execute_result"
    }
   ],
   "source": [
    "5 / 3"
   ]
  },
  {
   "cell_type": "code",
   "execution_count": 45,
   "id": "defined-runner",
   "metadata": {},
   "outputs": [
    {
     "data": {
      "text/plain": [
       "1"
      ]
     },
     "execution_count": 45,
     "metadata": {},
     "output_type": "execute_result"
    }
   ],
   "source": [
    "5 // 3"
   ]
  },
  {
   "cell_type": "code",
   "execution_count": 46,
   "id": "earned-aerospace",
   "metadata": {},
   "outputs": [
    {
     "data": {
      "text/plain": [
       "float"
      ]
     },
     "execution_count": 46,
     "metadata": {},
     "output_type": "execute_result"
    }
   ],
   "source": [
    "type(5/3)"
   ]
  },
  {
   "cell_type": "code",
   "execution_count": 47,
   "id": "legitimate-newfoundland",
   "metadata": {},
   "outputs": [
    {
     "data": {
      "text/plain": [
       "int"
      ]
     },
     "execution_count": 47,
     "metadata": {},
     "output_type": "execute_result"
    }
   ],
   "source": [
    "type(5//3)"
   ]
  },
  {
   "cell_type": "code",
   "execution_count": 48,
   "id": "returning-seeker",
   "metadata": {},
   "outputs": [
    {
     "data": {
      "text/plain": [
       "1"
      ]
     },
     "execution_count": 48,
     "metadata": {},
     "output_type": "execute_result"
    }
   ],
   "source": [
    "int(5/3)"
   ]
  },
  {
   "cell_type": "code",
   "execution_count": 49,
   "id": "conceptual-trading",
   "metadata": {},
   "outputs": [
    {
     "data": {
      "text/plain": [
       "int"
      ]
     },
     "execution_count": 49,
     "metadata": {},
     "output_type": "execute_result"
    }
   ],
   "source": [
    "type(int(5/3))"
   ]
  },
  {
   "cell_type": "code",
   "execution_count": 50,
   "id": "collectible-brooks",
   "metadata": {},
   "outputs": [
    {
     "data": {
      "text/plain": [
       "2"
      ]
     },
     "execution_count": 50,
     "metadata": {},
     "output_type": "execute_result"
    }
   ],
   "source": [
    "5%3"
   ]
  },
  {
   "cell_type": "code",
   "execution_count": 53,
   "id": "comparable-parts",
   "metadata": {},
   "outputs": [
    {
     "data": {
      "text/plain": [
       "(1, 2)"
      ]
     },
     "execution_count": 53,
     "metadata": {},
     "output_type": "execute_result"
    }
   ],
   "source": [
    "divmod(5, 3)"
   ]
  },
  {
   "cell_type": "markdown",
   "id": "radical-fleet",
   "metadata": {},
   "source": [
    "## 09 print"
   ]
  },
  {
   "cell_type": "code",
   "execution_count": 51,
   "id": "motivated-exemption",
   "metadata": {},
   "outputs": [
    {
     "name": "stdout",
     "output_type": "stream",
     "text": [
      "A1 A2\n"
     ]
    }
   ],
   "source": [
    "print(\"A1\", \"A2\")"
   ]
  },
  {
   "cell_type": "code",
   "execution_count": 52,
   "id": "funded-shepherd",
   "metadata": {},
   "outputs": [
    {
     "name": "stdout",
     "output_type": "stream",
     "text": [
      "A1,A2\n"
     ]
    }
   ],
   "source": [
    "print(\"A1\", \"A2\", sep=\",\")"
   ]
  },
  {
   "cell_type": "code",
   "execution_count": 54,
   "id": "extraordinary-stage",
   "metadata": {},
   "outputs": [
    {
     "name": "stdout",
     "output_type": "stream",
     "text": [
      "aa bb\n"
     ]
    }
   ],
   "source": [
    "print(\"aa\", end=\" \")\n",
    "print(\"bb\")"
   ]
  },
  {
   "cell_type": "code",
   "execution_count": 56,
   "id": "incorporate-mainland",
   "metadata": {},
   "outputs": [
    {
     "name": "stdout",
     "output_type": "stream",
     "text": [
      "A, B\n"
     ]
    }
   ],
   "source": [
    "a = [\"A\", \"B\"]\n",
    "print(\", \".join(a))"
   ]
  },
  {
   "cell_type": "code",
   "execution_count": 57,
   "id": "continued-being",
   "metadata": {},
   "outputs": [],
   "source": [
    "idx = 1\n",
    "fruit = \"Apple\""
   ]
  },
  {
   "cell_type": "code",
   "execution_count": 58,
   "id": "eight-exception",
   "metadata": {},
   "outputs": [
    {
     "name": "stdout",
     "output_type": "stream",
     "text": [
      "2: Apple\n"
     ]
    }
   ],
   "source": [
    "print(\"{0}: {1}\".format(idx+1, fruit))"
   ]
  },
  {
   "cell_type": "code",
   "execution_count": 59,
   "id": "critical-interpretation",
   "metadata": {},
   "outputs": [
    {
     "name": "stdout",
     "output_type": "stream",
     "text": [
      "2: Apple\n"
     ]
    }
   ],
   "source": [
    "print(\"{}: {}\".format(idx+1, fruit))"
   ]
  },
  {
   "cell_type": "code",
   "execution_count": 61,
   "id": "artistic-wholesale",
   "metadata": {},
   "outputs": [
    {
     "name": "stdout",
     "output_type": "stream",
     "text": [
      "2: Apple\n"
     ]
    }
   ],
   "source": [
    "print(f\"{idx+1}: {fruit}\") # Python 3.6+ 에서 지원"
   ]
  },
  {
   "cell_type": "markdown",
   "id": "residential-teens",
   "metadata": {},
   "source": [
    "## 10 pass"
   ]
  },
  {
   "cell_type": "code",
   "execution_count": 64,
   "id": "equivalent-helping",
   "metadata": {},
   "outputs": [],
   "source": [
    "class MyClass(object):\n",
    "    def method_a(self):\n",
    "        pass # Null 연산으로 아무것도 하지 않는 기능\n",
    "    \n",
    "    def method_b(self):\n",
    "        print(\"Method B\")"
   ]
  },
  {
   "cell_type": "code",
   "execution_count": 63,
   "id": "toxic-forge",
   "metadata": {},
   "outputs": [],
   "source": [
    "c = MyClass()"
   ]
  },
  {
   "cell_type": "markdown",
   "id": "floating-norman",
   "metadata": {},
   "source": [
    "## 11 locals"
   ]
  },
  {
   "cell_type": "markdown",
   "id": "characteristic-investigator",
   "metadata": {},
   "source": [
    "- locals(): 로컬 심볼 테이블 딕셔너리를 가져오는 메소드로 업데이트 가능\n",
    "    - local에 선언된 모든 변수를 조회할 수 있는 강력한 명령, 디버깅에 많은 도움이 됨\n",
    "    - local scope에 제한해 정보를 조회할 수 있기 때문에 특정 메소드나 함수 내부의 로컬 정보를 조회해 잘못 선언한 부분이 없는지 확인하는 용도"
   ]
  },
  {
   "cell_type": "code",
   "execution_count": 65,
   "id": "quantitative-burden",
   "metadata": {},
   "outputs": [
    {
     "name": "stdout",
     "output_type": "stream",
     "text": [
      "{'In': ['',\n",
      "        'a: str = \"1\"\\nb: int = 1 ',\n",
      "        'def fn(a: int) -> bool:',\n",
      "        'def fn(a: int) -> bool:\\n        pass',\n",
      "        'type(a)',\n",
      "        'type(b)',\n",
      "        'a = list(map(lambda x: x+10, [1,2,3]))\\nprint(a)',\n",
      "        '# lambda expr\\na = list(map(lambda x: x+10, [1,2,3]))\\nprint(a)',\n",
      "        'b = [n*2 for n in range(1, 11) if n%2 == 1]\\nprint(b)',\n",
      "        'a = {}\\nfor key, value in b.items():\\n    a[key] = value',\n",
      "        'b = {\"A\":2, \"B\":5}\\n'\n",
      "        'a = {}\\n'\n",
      "        'for key, value in b.items():\\n'\n",
      "        '    a[key] = value',\n",
      "        'print(a)',\n",
      "        'a = {key: value for key, value in b.items()}',\n",
      "        'print(a)',\n",
      "        'def get_natural_number():\\n'\n",
      "        '    n = 0\\n'\n",
      "        '    while True:\\n'\n",
      "        '        n += 1\\n'\n",
      "        '        yield n',\n",
      "        'get_natural_number()',\n",
      "        'get_natural_number()',\n",
      "        'g = get_natural_number()\\nfor _ in range(0, 100):\\n    print(next(g))',\n",
      "        'g = get_natural_number()\\nfor _ in range(0, 10):\\n    print(next(g))',\n",
      "        \"def generator():\\n    yield 1\\n    yield 'string'\\n    yield True\",\n",
      "        'g = genrator()',\n",
      "        'g = generator()',\n",
      "        'g',\n",
      "        'next(g)',\n",
      "        'next(g)',\n",
      "        'next(g)',\n",
      "        'a = list(range(5))',\n",
      "        'a = list(range(5))\\na',\n",
      "        'range(5)',\n",
      "        'type(range(5))',\n",
      "        \"print(i, end='') for i in range(5)\",\n",
      "        \"for i in range(5):\\n    print(i, end=' ')\",\n",
      "        'a = [n for n in range(100)]\\nb = range(100)',\n",
      "        'len(a)',\n",
      "        'len(b)',\n",
      "        'sys.getsizeof(a)',\n",
      "        'len(b)',\n",
      "        'import sys\\n\\nsys.getsizeof(a)',\n",
      "        'sys.getsizeof(B)',\n",
      "        'sys.getsizeof(b)',\n",
      "        'b[10] # 인덱스 접근 시에 바로 생성하도록 구현되어 있기 때문에 리스트와 거의 동일한 느낌으로 사용 가능',\n",
      "        'a = [1, 2, 3, 2, 45, 2, 5]\\na',\n",
      "        'enumerate(a)',\n",
      "        'list(enumerate(a))',\n",
      "        '5 / 3',\n",
      "        '5 // 3',\n",
      "        'type(5/3)',\n",
      "        'type(5//3)',\n",
      "        'int(5/3)',\n",
      "        'type(int(5/3))',\n",
      "        '5%3',\n",
      "        'print(\"A1\", \"A2\")',\n",
      "        'print(\"A1\", \"A2\", sep=\",\")',\n",
      "        'divmod(5, 3)',\n",
      "        'print(\"aa\", end=\" \")\\nprint(\"bb\")',\n",
      "        'a = [\"A\", \"B\"]\\nprint(\" \".join(a))',\n",
      "        'a = [\"A\", \"B\"]\\nprint(\", \".join(a))',\n",
      "        'idx = 1\\nfruit = \"Apple\"',\n",
      "        'print(\"{0}: {1}\".format(idx+1, fruit))',\n",
      "        'print(\"{}: {}\".format(idx+1, fruit))',\n",
      "        'print(f\"{idx+1}: {fruit}\")',\n",
      "        'print(f\"{idx+1}: {fruit}\") # Python 3.6+ 에서 지원',\n",
      "        'class MyClass(object):\\n'\n",
      "        '    def method_a(self):\\n'\n",
      "        '        pass\\n'\n",
      "        '    \\n'\n",
      "        '    def method_b(self):\\n'\n",
      "        '        print(\"Method B\")',\n",
      "        'c = MyClass()',\n",
      "        'class MyClass(object):\\n'\n",
      "        '    def method_a(self):\\n'\n",
      "        '        pass # Null 연산으로 아무것도 하지 않는 기능\\n'\n",
      "        '    \\n'\n",
      "        '    def method_b(self):\\n'\n",
      "        '        print(\"Method B\")',\n",
      "        'import pprint\\npprint.pprint(locals())'],\n",
      " 'MyClass': <class '__main__.MyClass'>,\n",
      " 'Out': {4: <class 'str'>,\n",
      "         5: <class 'int'>,\n",
      "         15: <generator object get_natural_number at 0x0000017FCF8C10C8>,\n",
      "         16: <generator object get_natural_number at 0x0000017FCF88C548>,\n",
      "         22: <generator object generator at 0x0000017FCF8C12C8>,\n",
      "         23: 1,\n",
      "         24: 'string',\n",
      "         25: True,\n",
      "         27: [0, 1, 2, 3, 4],\n",
      "         28: range(0, 5),\n",
      "         29: <class 'range'>,\n",
      "         33: 100,\n",
      "         34: 100,\n",
      "         36: 100,\n",
      "         37: 912,\n",
      "         39: 48,\n",
      "         40: 10,\n",
      "         41: [1, 2, 3, 2, 45, 2, 5],\n",
      "         42: <enumerate object at 0x0000017FCF8DE0E8>,\n",
      "         43: [(0, 1), (1, 2), (2, 3), (3, 2), (4, 45), (5, 2), (6, 5)],\n",
      "         44: 1.6666666666666667,\n",
      "         45: 1,\n",
      "         46: <class 'float'>,\n",
      "         47: <class 'int'>,\n",
      "         48: 1,\n",
      "         49: <class 'int'>,\n",
      "         50: 2,\n",
      "         53: (1, 2)},\n",
      " '_': 9,\n",
      " '_15': <generator object get_natural_number at 0x0000017FCF8C10C8>,\n",
      " '_16': <generator object get_natural_number at 0x0000017FCF88C548>,\n",
      " '_22': <generator object generator at 0x0000017FCF8C12C8>,\n",
      " '_23': 1,\n",
      " '_24': 'string',\n",
      " '_25': True,\n",
      " '_27': [0, 1, 2, 3, 4],\n",
      " '_28': range(0, 5),\n",
      " '_29': <class 'range'>,\n",
      " '_33': 100,\n",
      " '_34': 100,\n",
      " '_36': 100,\n",
      " '_37': 912,\n",
      " '_39': 48,\n",
      " '_4': <class 'str'>,\n",
      " '_40': 10,\n",
      " '_41': [1, 2, 3, 2, 45, 2, 5],\n",
      " '_42': <enumerate object at 0x0000017FCF8DE0E8>,\n",
      " '_43': [(0, 1), (1, 2), (2, 3), (3, 2), (4, 45), (5, 2), (6, 5)],\n",
      " '_44': 1.6666666666666667,\n",
      " '_45': 1,\n",
      " '_46': <class 'float'>,\n",
      " '_47': <class 'int'>,\n",
      " '_48': 1,\n",
      " '_49': <class 'int'>,\n",
      " '_5': <class 'int'>,\n",
      " '_50': 2,\n",
      " '_53': (1, 2),\n",
      " '__': <generator object get_natural_number at 0x0000017FCF8C10C8>,\n",
      " '___': <class 'int'>,\n",
      " '__annotations__': {'a': <class 'str'>, 'b': <class 'int'>},\n",
      " '__builtin__': <module 'builtins' (built-in)>,\n",
      " '__builtins__': <module 'builtins' (built-in)>,\n",
      " '__doc__': 'Automatically created module for IPython interactive environment',\n",
      " '__loader__': None,\n",
      " '__name__': '__main__',\n",
      " '__package__': None,\n",
      " '__spec__': None,\n",
      " '_dh': ['C:\\\\Users\\\\gunso\\\\Desktop\\\\algorithm-practice\\\\ch3'],\n",
      " '_i': 'class MyClass(object):\\n'\n",
      "       '    def method_a(self):\\n'\n",
      "       '        pass # Null 연산으로 아무것도 하지 않는 기능\\n'\n",
      "       '    \\n'\n",
      "       '    def method_b(self):\\n'\n",
      "       '        print(\"Method B\")',\n",
      " '_i1': 'a: str = \"1\"\\nb: int = 1 ',\n",
      " '_i10': 'b = {\"A\":2, \"B\":5}\\n'\n",
      "         'a = {}\\n'\n",
      "         'for key, value in b.items():\\n'\n",
      "         '    a[key] = value',\n",
      " '_i11': 'print(a)',\n",
      " '_i12': 'a = {key: value for key, value in b.items()}',\n",
      " '_i13': 'print(a)',\n",
      " '_i14': 'def get_natural_number():\\n'\n",
      "         '    n = 0\\n'\n",
      "         '    while True:\\n'\n",
      "         '        n += 1\\n'\n",
      "         '        yield n',\n",
      " '_i15': 'get_natural_number()',\n",
      " '_i16': 'get_natural_number()',\n",
      " '_i17': 'g = get_natural_number()\\n'\n",
      "         'for _ in range(0, 100):\\n'\n",
      "         '    print(next(g))',\n",
      " '_i18': 'g = get_natural_number()\\nfor _ in range(0, 10):\\n    print(next(g))',\n",
      " '_i19': \"def generator():\\n    yield 1\\n    yield 'string'\\n    yield True\",\n",
      " '_i2': 'def fn(a: int) -> bool:',\n",
      " '_i20': 'g = genrator()',\n",
      " '_i21': 'g = generator()',\n",
      " '_i22': 'g',\n",
      " '_i23': 'next(g)',\n",
      " '_i24': 'next(g)',\n",
      " '_i25': 'next(g)',\n",
      " '_i26': 'a = list(range(5))',\n",
      " '_i27': 'a = list(range(5))\\na',\n",
      " '_i28': 'range(5)',\n",
      " '_i29': 'type(range(5))',\n",
      " '_i3': 'def fn(a: int) -> bool:\\n        pass',\n",
      " '_i30': \"print(i, end='') for i in range(5)\",\n",
      " '_i31': \"for i in range(5):\\n    print(i, end=' ')\",\n",
      " '_i32': 'a = [n for n in range(100)]\\nb = range(100)',\n",
      " '_i33': 'len(a)',\n",
      " '_i34': 'len(b)',\n",
      " '_i35': 'sys.getsizeof(a)',\n",
      " '_i36': 'len(b)',\n",
      " '_i37': 'import sys\\n\\nsys.getsizeof(a)',\n",
      " '_i38': 'sys.getsizeof(B)',\n",
      " '_i39': 'sys.getsizeof(b)',\n",
      " '_i4': 'type(a)',\n",
      " '_i40': 'b[10] # 인덱스 접근 시에 바로 생성하도록 구현되어 있기 때문에 리스트와 거의 동일한 느낌으로 사용 가능',\n",
      " '_i41': 'a = [1, 2, 3, 2, 45, 2, 5]\\na',\n",
      " '_i42': 'enumerate(a)',\n",
      " '_i43': 'list(enumerate(a))',\n",
      " '_i44': '5 / 3',\n",
      " '_i45': '5 // 3',\n",
      " '_i46': 'type(5/3)',\n",
      " '_i47': 'type(5//3)',\n",
      " '_i48': 'int(5/3)',\n",
      " '_i49': 'type(int(5/3))',\n",
      " '_i5': 'type(b)',\n",
      " '_i50': '5%3',\n",
      " '_i51': 'print(\"A1\", \"A2\")',\n",
      " '_i52': 'print(\"A1\", \"A2\", sep=\",\")',\n",
      " '_i53': 'divmod(5, 3)',\n",
      " '_i54': 'print(\"aa\", end=\" \")\\nprint(\"bb\")',\n",
      " '_i55': 'a = [\"A\", \"B\"]\\nprint(\" \".join(a))',\n",
      " '_i56': 'a = [\"A\", \"B\"]\\nprint(\", \".join(a))',\n",
      " '_i57': 'idx = 1\\nfruit = \"Apple\"',\n",
      " '_i58': 'print(\"{0}: {1}\".format(idx+1, fruit))',\n",
      " '_i59': 'print(\"{}: {}\".format(idx+1, fruit))',\n",
      " '_i6': 'a = list(map(lambda x: x+10, [1,2,3]))\\nprint(a)',\n",
      " '_i60': 'print(f\"{idx+1}: {fruit}\")',\n",
      " '_i61': 'print(f\"{idx+1}: {fruit}\") # Python 3.6+ 에서 지원',\n",
      " '_i62': 'class MyClass(object):\\n'\n",
      "         '    def method_a(self):\\n'\n",
      "         '        pass\\n'\n",
      "         '    \\n'\n",
      "         '    def method_b(self):\\n'\n",
      "         '        print(\"Method B\")',\n",
      " '_i63': 'c = MyClass()',\n",
      " '_i64': 'class MyClass(object):\\n'\n",
      "         '    def method_a(self):\\n'\n",
      "         '        pass # Null 연산으로 아무것도 하지 않는 기능\\n'\n",
      "         '    \\n'\n",
      "         '    def method_b(self):\\n'\n",
      "         '        print(\"Method B\")',\n",
      " '_i65': 'import pprint\\npprint.pprint(locals())',\n",
      " '_i7': '# lambda expr\\na = list(map(lambda x: x+10, [1,2,3]))\\nprint(a)',\n",
      " '_i8': 'b = [n*2 for n in range(1, 11) if n%2 == 1]\\nprint(b)',\n",
      " '_i9': 'a = {}\\nfor key, value in b.items():\\n    a[key] = value',\n",
      " '_ih': ['',\n",
      "         'a: str = \"1\"\\nb: int = 1 ',\n",
      "         'def fn(a: int) -> bool:',\n",
      "         'def fn(a: int) -> bool:\\n        pass',\n",
      "         'type(a)',\n",
      "         'type(b)',\n",
      "         'a = list(map(lambda x: x+10, [1,2,3]))\\nprint(a)',\n",
      "         '# lambda expr\\na = list(map(lambda x: x+10, [1,2,3]))\\nprint(a)',\n",
      "         'b = [n*2 for n in range(1, 11) if n%2 == 1]\\nprint(b)',\n",
      "         'a = {}\\nfor key, value in b.items():\\n    a[key] = value',\n",
      "         'b = {\"A\":2, \"B\":5}\\n'\n",
      "         'a = {}\\n'\n",
      "         'for key, value in b.items():\\n'\n",
      "         '    a[key] = value',\n",
      "         'print(a)',\n",
      "         'a = {key: value for key, value in b.items()}',\n",
      "         'print(a)',\n",
      "         'def get_natural_number():\\n'\n",
      "         '    n = 0\\n'\n",
      "         '    while True:\\n'\n",
      "         '        n += 1\\n'\n",
      "         '        yield n',\n",
      "         'get_natural_number()',\n",
      "         'get_natural_number()',\n",
      "         'g = get_natural_number()\\n'\n",
      "         'for _ in range(0, 100):\\n'\n",
      "         '    print(next(g))',\n",
      "         'g = get_natural_number()\\nfor _ in range(0, 10):\\n    print(next(g))',\n",
      "         \"def generator():\\n    yield 1\\n    yield 'string'\\n    yield True\",\n",
      "         'g = genrator()',\n",
      "         'g = generator()',\n",
      "         'g',\n",
      "         'next(g)',\n",
      "         'next(g)',\n",
      "         'next(g)',\n",
      "         'a = list(range(5))',\n",
      "         'a = list(range(5))\\na',\n",
      "         'range(5)',\n",
      "         'type(range(5))',\n",
      "         \"print(i, end='') for i in range(5)\",\n",
      "         \"for i in range(5):\\n    print(i, end=' ')\",\n",
      "         'a = [n for n in range(100)]\\nb = range(100)',\n",
      "         'len(a)',\n",
      "         'len(b)',\n",
      "         'sys.getsizeof(a)',\n",
      "         'len(b)',\n",
      "         'import sys\\n\\nsys.getsizeof(a)',\n",
      "         'sys.getsizeof(B)',\n",
      "         'sys.getsizeof(b)',\n",
      "         'b[10] # 인덱스 접근 시에 바로 생성하도록 구현되어 있기 때문에 리스트와 거의 동일한 느낌으로 사용 가능',\n",
      "         'a = [1, 2, 3, 2, 45, 2, 5]\\na',\n",
      "         'enumerate(a)',\n",
      "         'list(enumerate(a))',\n",
      "         '5 / 3',\n",
      "         '5 // 3',\n",
      "         'type(5/3)',\n",
      "         'type(5//3)',\n",
      "         'int(5/3)',\n",
      "         'type(int(5/3))',\n",
      "         '5%3',\n",
      "         'print(\"A1\", \"A2\")',\n",
      "         'print(\"A1\", \"A2\", sep=\",\")',\n",
      "         'divmod(5, 3)',\n",
      "         'print(\"aa\", end=\" \")\\nprint(\"bb\")',\n",
      "         'a = [\"A\", \"B\"]\\nprint(\" \".join(a))',\n",
      "         'a = [\"A\", \"B\"]\\nprint(\", \".join(a))',\n",
      "         'idx = 1\\nfruit = \"Apple\"',\n",
      "         'print(\"{0}: {1}\".format(idx+1, fruit))',\n",
      "         'print(\"{}: {}\".format(idx+1, fruit))',\n",
      "         'print(f\"{idx+1}: {fruit}\")',\n",
      "         'print(f\"{idx+1}: {fruit}\") # Python 3.6+ 에서 지원',\n",
      "         'class MyClass(object):\\n'\n",
      "         '    def method_a(self):\\n'\n",
      "         '        pass\\n'\n",
      "         '    \\n'\n",
      "         '    def method_b(self):\\n'\n",
      "         '        print(\"Method B\")',\n",
      "         'c = MyClass()',\n",
      "         'class MyClass(object):\\n'\n",
      "         '    def method_a(self):\\n'\n",
      "         '        pass # Null 연산으로 아무것도 하지 않는 기능\\n'\n",
      "         '    \\n'\n",
      "         '    def method_b(self):\\n'\n",
      "         '        print(\"Method B\")',\n",
      "         'import pprint\\npprint.pprint(locals())'],\n",
      " '_ii': 'c = MyClass()',\n",
      " '_iii': 'class MyClass(object):\\n'\n",
      "         '    def method_a(self):\\n'\n",
      "         '        pass\\n'\n",
      "         '    \\n'\n",
      "         '    def method_b(self):\\n'\n",
      "         '        print(\"Method B\")',\n",
      " '_oh': {4: <class 'str'>,\n",
      "         5: <class 'int'>,\n",
      "         15: <generator object get_natural_number at 0x0000017FCF8C10C8>,\n",
      "         16: <generator object get_natural_number at 0x0000017FCF88C548>,\n",
      "         22: <generator object generator at 0x0000017FCF8C12C8>,\n",
      "         23: 1,\n",
      "         24: 'string',\n",
      "         25: True,\n",
      "         27: [0, 1, 2, 3, 4],\n",
      "         28: range(0, 5),\n",
      "         29: <class 'range'>,\n",
      "         33: 100,\n",
      "         34: 100,\n",
      "         36: 100,\n",
      "         37: 912,\n",
      "         39: 48,\n",
      "         40: 10,\n",
      "         41: [1, 2, 3, 2, 45, 2, 5],\n",
      "         42: <enumerate object at 0x0000017FCF8DE0E8>,\n",
      "         43: [(0, 1), (1, 2), (2, 3), (3, 2), (4, 45), (5, 2), (6, 5)],\n",
      "         44: 1.6666666666666667,\n",
      "         45: 1,\n",
      "         46: <class 'float'>,\n",
      "         47: <class 'int'>,\n",
      "         48: 1,\n",
      "         49: <class 'int'>,\n",
      "         50: 2,\n",
      "         53: (1, 2)},\n",
      " 'a': ['A', 'B'],\n",
      " 'b': range(0, 100),\n",
      " 'c': <__main__.MyClass object at 0x0000017FCF8C0D88>,\n",
      " 'exit': <IPython.core.autocall.ZMQExitAutocall object at 0x0000017FCF7AD408>,\n",
      " 'fn': <function fn at 0x0000017FCF7FC798>,\n",
      " 'fruit': 'Apple',\n",
      " 'g': <generator object generator at 0x0000017FCF8C12C8>,\n",
      " 'generator': <function generator at 0x0000017FCF8CAB88>,\n",
      " 'get_ipython': <bound method InteractiveShell.get_ipython of <ipykernel.zmqshell.ZMQInteractiveShell object at 0x0000017FCF7321C8>>,\n",
      " 'get_natural_number': <function get_natural_number at 0x0000017FCF8B9D38>,\n",
      " 'i': 4,\n",
      " 'idx': 1,\n",
      " 'key': 'B',\n",
      " 'pprint': <module 'pprint' from 'C:\\\\Users\\\\gunso\\\\anaconda3\\\\lib\\\\pprint.py'>,\n",
      " 'quit': <IPython.core.autocall.ZMQExitAutocall object at 0x0000017FCF7AD408>,\n",
      " 'sys': <module 'sys' (built-in)>,\n",
      " 'value': 5}\n"
     ]
    }
   ],
   "source": [
    "import pprint\n",
    "pprint.pprint(locals())"
   ]
  }
 ],
 "metadata": {
  "kernelspec": {
   "display_name": "Python 3",
   "language": "python",
   "name": "python3"
  },
  "language_info": {
   "codemirror_mode": {
    "name": "ipython",
    "version": 3
   },
   "file_extension": ".py",
   "mimetype": "text/x-python",
   "name": "python",
   "nbconvert_exporter": "python",
   "pygments_lexer": "ipython3",
   "version": "3.7.9"
  }
 },
 "nbformat": 4,
 "nbformat_minor": 5
}
