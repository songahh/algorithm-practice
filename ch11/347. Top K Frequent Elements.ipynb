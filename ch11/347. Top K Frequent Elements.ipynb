{
 "cells": [
  {
   "cell_type": "markdown",
   "id": "d5249d9c",
   "metadata": {},
   "source": [
    "# 347."
   ]
  },
  {
   "cell_type": "markdown",
   "id": "3c7a6ea6",
   "metadata": {},
   "source": [
    "Given an integer array nums and an integer k, return the k most frequent elements. You may return the answer in any order.\n",
    "\n",
    "**Constraints**:\n",
    "\n",
    "- 1 <= nums.length <= 105\n",
    "- k is in the range [1, the number of unique elements in the array].\n",
    "- It is guaranteed that the answer is unique.\n",
    " \n",
    "\n",
    "Follow up: Your algorithm's time complexity must be better than O(n log n), where n is the array's size. "
   ]
  },
  {
   "cell_type": "code",
   "execution_count": null,
   "id": "296fc761",
   "metadata": {},
   "outputs": [],
   "source": [
    "from collections import Counter\n",
    "\n",
    "class Solution:\n",
    "    def topKFrequent(self, nums: List[int], k: int) -> List[int]:\n",
    "        \n",
    "        return list(zip(*Counter(nums).most_common(k)))[0]"
   ]
  },
  {
   "cell_type": "code",
   "execution_count": null,
   "id": "ae6e4047",
   "metadata": {},
   "outputs": [],
   "source": [
    "from collections import Counter\n",
    "\n",
    "class Solution:\n",
    "    def topKFrequent(self, nums: List[int], k: int) -> List[int]:\n",
    "        \n",
    "        count = Counter(nums)\n",
    "        counted = sorted(count.items(), key=lambda item:item[1], reverse = True)\n",
    "        return_arr = []\n",
    "        \n",
    "        for i in range(k):\n",
    "            return_arr.append(counted[i][0])\n",
    "        \n",
    "        return return_arr"
   ]
  }
 ],
 "metadata": {
  "kernelspec": {
   "display_name": "Python 3 (ipykernel)",
   "language": "python",
   "name": "python3"
  },
  "language_info": {
   "codemirror_mode": {
    "name": "ipython",
    "version": 3
   },
   "file_extension": ".py",
   "mimetype": "text/x-python",
   "name": "python",
   "nbconvert_exporter": "python",
   "pygments_lexer": "ipython3",
   "version": "3.7.9"
  }
 },
 "nbformat": 4,
 "nbformat_minor": 5
}
