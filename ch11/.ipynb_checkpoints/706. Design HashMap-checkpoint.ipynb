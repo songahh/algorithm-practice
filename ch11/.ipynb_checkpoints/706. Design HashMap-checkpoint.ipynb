{
 "cells": [
  {
   "cell_type": "markdown",
   "id": "ab1cdcc7",
   "metadata": {},
   "source": [
    "# 706"
   ]
  },
  {
   "cell_type": "markdown",
   "id": "a4e9cab1",
   "metadata": {},
   "source": [
    "Design a HashMap without using any built-in hash table libraries.\n",
    "\n",
    "Implement the MyHashMap class:\n",
    "\n",
    "- MyHashMap() initializes the object with an empty map.\n",
    "- void put(int key, int value) inserts a (key, value) pair into the HashMap. If the key already exists in the map, update the corresponding value.\n",
    "- int get(int key) returns the value to which the specified key is mapped, or -1 if this map contains no mapping for the key.\n",
    "- void remove(key) removes the key and its corresponding value if the map contains the mapping for the key.\n",
    " "
   ]
  },
  {
   "cell_type": "code",
   "execution_count": null,
   "id": "76dd86a8",
   "metadata": {},
   "outputs": [],
   "source": [
    "class MyHashMap:\n",
    "\n",
    "    def __init__(self):\n",
    "        self.hash_map = dict()\n",
    "\n",
    "    def put(self, key: int, value: int) -> None:\n",
    "        self.hash_map[key] = value\n",
    "\n",
    "    def get(self, key: int) -> int:\n",
    "        if key not in self.hash_map:\n",
    "            return -1\n",
    "        else:\n",
    "            return self.hash_map[key]\n",
    "\n",
    "    def remove(self, key: int) -> None:\n",
    "        if key in self.hash_map:\n",
    "            del self.hash_map[key]\n",
    "\n",
    "\n",
    "# Your MyHashMap object will be instantiated and called as such:\n",
    "# obj = MyHashMap()\n",
    "# obj.put(key,value)\n",
    "# param_2 = obj.get(key)\n",
    "# obj.remove(key)"
   ]
  }
 ],
 "metadata": {
  "kernelspec": {
   "display_name": "Python 3 (ipykernel)",
   "language": "python",
   "name": "python3"
  },
  "language_info": {
   "codemirror_mode": {
    "name": "ipython",
    "version": 3
   },
   "file_extension": ".py",
   "mimetype": "text/x-python",
   "name": "python",
   "nbconvert_exporter": "python",
   "pygments_lexer": "ipython3",
   "version": "3.7.9"
  }
 },
 "nbformat": 4,
 "nbformat_minor": 5
}
