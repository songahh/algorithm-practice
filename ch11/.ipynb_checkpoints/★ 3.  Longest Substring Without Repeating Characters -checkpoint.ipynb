{
 "cells": [
  {
   "cell_type": "markdown",
   "id": "72638344",
   "metadata": {},
   "source": [
    "# 3."
   ]
  },
  {
   "cell_type": "markdown",
   "id": "e96f498b",
   "metadata": {},
   "source": [
    "Given a string s, find the length of the longest substring without repeating characters.\n",
    "\n",
    "**Constraints**:\n",
    "- 0 <= s.length <= 5 * 10^4\n",
    "- s consists of English letters, digits, symbols and spaces."
   ]
  },
  {
   "cell_type": "code",
   "execution_count": null,
   "id": "148e3847",
   "metadata": {},
   "outputs": [],
   "source": [
    "class Solution:\n",
    "    def lengthOfLongestSubstring(self, s: str) -> int:\n",
    "        \n",
    "        used = {}\n",
    "        max_length = start = 0\n",
    "        \n",
    "        for idx, char in enumerate(s):\n",
    "            if char in used and start <= used[char]:\n",
    "                start = used[char] + 1\n",
    "            else:\n",
    "                max_length = max(max_length, idx-start+1)\n",
    "        \n",
    "            used[char] = idx\n",
    "        \n",
    "        return max_length"
   ]
  }
 ],
 "metadata": {
  "kernelspec": {
   "display_name": "Python 3 (ipykernel)",
   "language": "python",
   "name": "python3"
  },
  "language_info": {
   "codemirror_mode": {
    "name": "ipython",
    "version": 3
   },
   "file_extension": ".py",
   "mimetype": "text/x-python",
   "name": "python",
   "nbconvert_exporter": "python",
   "pygments_lexer": "ipython3",
   "version": "3.7.9"
  }
 },
 "nbformat": 4,
 "nbformat_minor": 5
}
