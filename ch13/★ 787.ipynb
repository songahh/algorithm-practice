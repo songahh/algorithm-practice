{
 "cells": [
  {
   "cell_type": "markdown",
   "id": "93e8de65",
   "metadata": {},
   "source": [
    "# 787. Cheapest Flights Within K Stops"
   ]
  },
  {
   "cell_type": "markdown",
   "id": "267ca231",
   "metadata": {},
   "source": [
    "There are n cities connected by some number of flights. You are given an array flights where flights[i] = [fromi, toi, pricei] indicates that there is a flight from city fromi to city toi with cost pricei.\n",
    "\n",
    "You are also given three integers src, dst, and k, return the cheapest price from src to dst with at most k stops. If there is no such route, return -1."
   ]
  },
  {
   "cell_type": "code",
   "execution_count": 1,
   "id": "4a88d7a4",
   "metadata": {},
   "outputs": [
    {
     "ename": "NameError",
     "evalue": "name 'List' is not defined",
     "output_type": "error",
     "traceback": [
      "\u001b[1;31m---------------------------------------------------------------------------\u001b[0m",
      "\u001b[1;31mNameError\u001b[0m                                 Traceback (most recent call last)",
      "Input \u001b[1;32mIn [1]\u001b[0m, in \u001b[0;36m<module>\u001b[1;34m\u001b[0m\n\u001b[0;32m      1\u001b[0m \u001b[38;5;28;01mimport\u001b[39;00m \u001b[38;5;21;01mheapq\u001b[39;00m\n\u001b[1;32m----> 3\u001b[0m \u001b[38;5;28;01mclass\u001b[39;00m \u001b[38;5;21;01mSolution\u001b[39;00m: \n\u001b[0;32m      4\u001b[0m     \u001b[38;5;28;01mdef\u001b[39;00m \u001b[38;5;21mfindCheapestPrice\u001b[39m(\u001b[38;5;28mself\u001b[39m, n: \u001b[38;5;28mint\u001b[39m, flights: List[List[\u001b[38;5;28mint\u001b[39m]], src: \u001b[38;5;28mint\u001b[39m, dst: \u001b[38;5;28mint\u001b[39m, k: \u001b[38;5;28mint\u001b[39m) \u001b[38;5;241m-\u001b[39m\u001b[38;5;241m>\u001b[39m \u001b[38;5;28mint\u001b[39m:\n\u001b[0;32m      6\u001b[0m         INF \u001b[38;5;241m=\u001b[39m \u001b[38;5;241m9999999\u001b[39m\n",
      "Input \u001b[1;32mIn [1]\u001b[0m, in \u001b[0;36mSolution\u001b[1;34m()\u001b[0m\n\u001b[0;32m      3\u001b[0m \u001b[38;5;28;01mclass\u001b[39;00m \u001b[38;5;21;01mSolution\u001b[39;00m: \n\u001b[1;32m----> 4\u001b[0m     \u001b[38;5;28;01mdef\u001b[39;00m \u001b[38;5;21mfindCheapestPrice\u001b[39m(\u001b[38;5;28mself\u001b[39m, n: \u001b[38;5;28mint\u001b[39m, flights: \u001b[43mList\u001b[49m[List[\u001b[38;5;28mint\u001b[39m]], src: \u001b[38;5;28mint\u001b[39m, dst: \u001b[38;5;28mint\u001b[39m, k: \u001b[38;5;28mint\u001b[39m) \u001b[38;5;241m-\u001b[39m\u001b[38;5;241m>\u001b[39m \u001b[38;5;28mint\u001b[39m:\n\u001b[0;32m      6\u001b[0m         INF \u001b[38;5;241m=\u001b[39m \u001b[38;5;241m9999999\u001b[39m\n\u001b[0;32m      7\u001b[0m         dest \u001b[38;5;241m=\u001b[39m INF\n",
      "\u001b[1;31mNameError\u001b[0m: name 'List' is not defined"
     ]
    }
   ],
   "source": [
    "import heapq\n",
    "\n",
    "class Solution: \n",
    "    def findCheapestPrice(self, n: int, flights: List[List[int]], src: int, dst: int, k: int) -> int:\n",
    "        \n",
    "        INF = 9999999\n",
    "        dest = INF\n",
    "        Q = []\n",
    "        \n",
    "        graph = collections.defaultdict(list)\n",
    "        for flight in flights:\n",
    "            graph[flight[0]].append((flight[2], flight[1], k))\n",
    "        \n",
    "            \n",
    "        for edge in graph[src]:\n",
    "            heapq.heappush(Q, edge)\n",
    "        \n",
    "        while Q:\n",
    "            weight, to, stops = heapq.heappop(Q)\n",
    "            \n",
    "            if to == src:\n",
    "                continue\n",
    "            \n",
    "            if len(Q) > 99999:\n",
    "                break\n",
    "            \n",
    "            if weight < dest:\n",
    "                if to==dst:\n",
    "                    dest = weight\n",
    "                \n",
    "                if stops > 0:\n",
    "                    for edge in graph[to]:\n",
    "                        heapq.heappush(Q, (weight+edge[0], edge[1], stops-1))\n",
    "            \n",
    "        \n",
    "        if dest == INF:\n",
    "            return -1\n",
    "        else:\n",
    "            return dest"
   ]
  }
 ],
 "metadata": {
  "kernelspec": {
   "display_name": "tf",
   "language": "python",
   "name": "tf"
  },
  "language_info": {
   "codemirror_mode": {
    "name": "ipython",
    "version": 3
   },
   "file_extension": ".py",
   "mimetype": "text/x-python",
   "name": "python",
   "nbconvert_exporter": "python",
   "pygments_lexer": "ipython3",
   "version": "3.8.12"
  }
 },
 "nbformat": 4,
 "nbformat_minor": 5
}
