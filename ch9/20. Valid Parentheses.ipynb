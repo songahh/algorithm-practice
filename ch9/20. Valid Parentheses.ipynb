{
 "cells": [
  {
   "cell_type": "markdown",
   "id": "c29ccf73",
   "metadata": {},
   "source": [
    "# 20\n"
   ]
  },
  {
   "cell_type": "markdown",
   "id": "3b94ba4a",
   "metadata": {},
   "source": [
    "Given a string s containing just the characters '(', ')', '{', '}', '[' and ']', determine if the input string is valid.\n",
    "\n",
    "An input string is valid if:\n",
    "    1. Open brackets must be closed by the same type of brackets.\n",
    "    2. Open brackets must be closed in the correct order.\n",
    "    \n",
    "**Constraints**:\n",
    "- 1 <= s.length <= 104\n",
    "- s consists of parentheses only '()[]{}'."
   ]
  },
  {
   "cell_type": "markdown",
   "id": "e428d883",
   "metadata": {},
   "source": [
    "## My Solution"
   ]
  },
  {
   "cell_type": "code",
   "execution_count": null,
   "id": "9a11ac3b",
   "metadata": {},
   "outputs": [],
   "source": [
    "class Solution:\n",
    "    def isValid(self, s: str) -> bool:\n",
    "        \n",
    "        if len(s) == 1:\n",
    "            return False\n",
    "        \n",
    "        stack = []\n",
    "        for i in range(len(s)):\n",
    "            if s[i] == \"(\" or s[i] == \"[\" or s[i] == \"{\":\n",
    "                stack.append(s[i])\n",
    "            else:\n",
    "                if stack:\n",
    "                    last = stack.pop()\n",
    "                    if last==\"(\" and s[i]==\")\":\n",
    "                        continue\n",
    "                    elif last==\"[\" and s[i]==\"]\":\n",
    "                        continue\n",
    "                    elif last==\"{\" and s[i]==\"}\":\n",
    "                        continue\n",
    "                    else:\n",
    "                        return False\n",
    "                else:\n",
    "                    return False\n",
    "        \n",
    "        if not stack:\n",
    "            return True\n",
    "        else:\n",
    "            return False"
   ]
  },
  {
   "cell_type": "markdown",
   "id": "b183c610",
   "metadata": {},
   "source": [
    "Runtime: 47 ms, Memory: 14.4 MB"
   ]
  },
  {
   "cell_type": "markdown",
   "id": "8f1f18d4",
   "metadata": {},
   "source": [
    "## 책 Solution"
   ]
  },
  {
   "cell_type": "code",
   "execution_count": null,
   "id": "12668a17",
   "metadata": {},
   "outputs": [],
   "source": [
    "class Solution:\n",
    "    def isValid(self, s: str) -> bool:\n",
    "        \n",
    "        stack = []\n",
    "        table = {\n",
    "            ')': '(',\n",
    "            '}': '{',\n",
    "            ']': '['\n",
    "        }\n",
    "        \n",
    "        \n",
    "        for char in s:\n",
    "            if char not in table: #(,{,[\n",
    "                stack.append(char)\n",
    "            elif not stack or table[char] != stack.pop():\n",
    "                return False\n",
    "        return len(stack) == 0"
   ]
  },
  {
   "cell_type": "markdown",
   "id": "833b0c96",
   "metadata": {},
   "source": [
    "Runtime: 34 ms, Memory: 14.3 MB"
   ]
  }
 ],
 "metadata": {
  "kernelspec": {
   "display_name": "Python 3 (ipykernel)",
   "language": "python",
   "name": "python3"
  },
  "language_info": {
   "codemirror_mode": {
    "name": "ipython",
    "version": 3
   },
   "file_extension": ".py",
   "mimetype": "text/x-python",
   "name": "python",
   "nbconvert_exporter": "python",
   "pygments_lexer": "ipython3",
   "version": "3.7.9"
  }
 },
 "nbformat": 4,
 "nbformat_minor": 5
}
