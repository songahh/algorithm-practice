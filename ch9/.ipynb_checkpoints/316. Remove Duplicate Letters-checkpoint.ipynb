{
 "cells": [
  {
   "cell_type": "markdown",
   "id": "fb665ffe",
   "metadata": {},
   "source": [
    "# 316."
   ]
  },
  {
   "cell_type": "markdown",
   "id": "0049dd6a",
   "metadata": {},
   "source": [
    "Given a string s, remove duplicate letters so that every letter appears once and only once. You must make sure your result is the smallest in lexicographical order among all possible results.\n",
    "\n",
    "**Constraints**:\n",
    "- 1 <= s.length <= 104\n",
    "- s consists of lowercase English letters."
   ]
  },
  {
   "cell_type": "markdown",
   "id": "20b901c1",
   "metadata": {},
   "source": [
    "## 책 solution: using stack"
   ]
  },
  {
   "cell_type": "code",
   "execution_count": null,
   "id": "4fb066fa",
   "metadata": {},
   "outputs": [],
   "source": [
    "class Solution:\n",
    "    def removeDuplicateLetters(self, s: str) -> str:\n",
    "        \n",
    "        counter, seen, stack = collections.Counter(s), set(), []\n",
    "        # cbacdcbc\n",
    "        # char: b\n",
    "        # counter - c: 1, a: 0, b: 0, d: 0\n",
    "        # seen - {a,c,d,b}\n",
    "        # stack - [a,c,d,b]\n",
    "        \n",
    "        \n",
    "        for char in s:\n",
    "            counter[char] -= 1\n",
    "            if char in seen:\n",
    "                continue\n",
    "                \n",
    "            # 뒤에 붙일 문자가 남아 있다면 스택에서 제거\n",
    "            while stack and char < stack[-1] and counter[stack[-1]] > 0:\n",
    "                seen.remove(stack.pop())\n",
    "                \n",
    "            stack.append(char)\n",
    "            seen.add(char)\n",
    "            \n",
    "        return \"\".join(stack)"
   ]
  },
  {
   "cell_type": "markdown",
   "id": "d49526c1",
   "metadata": {},
   "source": [
    "Runtime: 32 ms, Memory: 14.2 MB"
   ]
  }
 ],
 "metadata": {
  "kernelspec": {
   "display_name": "Python 3 (ipykernel)",
   "language": "python",
   "name": "python3"
  },
  "language_info": {
   "codemirror_mode": {
    "name": "ipython",
    "version": 3
   },
   "file_extension": ".py",
   "mimetype": "text/x-python",
   "name": "python",
   "nbconvert_exporter": "python",
   "pygments_lexer": "ipython3",
   "version": "3.7.9"
  }
 },
 "nbformat": 4,
 "nbformat_minor": 5
}
