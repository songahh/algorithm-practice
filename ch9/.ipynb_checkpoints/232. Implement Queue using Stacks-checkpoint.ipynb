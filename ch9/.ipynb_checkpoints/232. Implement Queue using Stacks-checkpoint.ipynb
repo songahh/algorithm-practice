{
 "cells": [
  {
   "cell_type": "markdown",
   "id": "59548755",
   "metadata": {},
   "source": [
    "# 232"
   ]
  },
  {
   "cell_type": "markdown",
   "id": "f82e922b",
   "metadata": {},
   "source": [
    "Implement a last-in-first-out (LIFO) stack using only two queues. The implemented stack should support all the functions of a normal stack (push, top, pop, and empty).\n",
    "\n",
    "Implement the MyStack class:\n",
    "\n",
    "- void push(int x) Pushes element x to the top of the stack.\n",
    "- int pop() Removes the element on the top of the stack and returns it.\n",
    "- int top() Returns the element on the top of the stack.\n",
    "- boolean empty() Returns true if the stack is empty, false otherwise.\n",
    "\n",
    "**Notes**:\n",
    "You must use only standard operations of a queue, which means that only push to back, peek/pop from front, size and is empty operations are valid.\n",
    "Depending on your language, the queue may not be supported natively. You may simulate a queue using a list or deque (double-ended queue) as long as you use only a queue's standard operations."
   ]
  },
  {
   "cell_type": "code",
   "execution_count": null,
   "id": "7a7a6124",
   "metadata": {},
   "outputs": [],
   "source": [
    "class MyStack:\n",
    "\n",
    "    def __init__(self):\n",
    "        \"\"\"\n",
    "        Initialize your data structure here.\n",
    "        \"\"\"\n",
    "        self.queue = collections.deque()\n",
    "\n",
    "    def push(self, x: int) -> None:\n",
    "        \"\"\"\n",
    "        Push element x onto stack.\n",
    "        \"\"\"\n",
    "        self.queue.append(x)\n",
    "        for _ in range(len(self.queue)-1):\n",
    "            self.queue.append(self.queue.popleft())\n",
    "        print(self.queue)\n",
    "\n",
    "    def pop(self) -> int:\n",
    "        \"\"\"\n",
    "        Removes the element on top of the stack and returns that element.\n",
    "        \"\"\"\n",
    "        return self.queue.popleft()\n",
    "        \n",
    "\n",
    "    def top(self) -> int:\n",
    "        \"\"\"\n",
    "        Get the top element.\n",
    "        \"\"\"\n",
    "        if not self.empty():\n",
    "            return self.queue[0]\n",
    "        else: \n",
    "            return None\n",
    "\n",
    "    def empty(self) -> bool:\n",
    "        \"\"\"\n",
    "        Returns whether the stack is empty.\n",
    "        \"\"\"\n",
    "        return len(self.queue)==0\n",
    "\n",
    "\n",
    "# Your MyStack object will be instantiated and called as such:\n",
    "# obj = MyStack()\n",
    "# obj.push(1)\n",
    "# param_2 = obj.pop()\n",
    "# param_3 = obj.top()\n",
    "# param_4 = obj.empty()"
   ]
  },
  {
   "cell_type": "markdown",
   "id": "c916e52f",
   "metadata": {},
   "source": [
    "Runtime: 32 ms, Memory: 14.3 MB"
   ]
  }
 ],
 "metadata": {
  "kernelspec": {
   "display_name": "Python 3 (ipykernel)",
   "language": "python",
   "name": "python3"
  },
  "language_info": {
   "codemirror_mode": {
    "name": "ipython",
    "version": 3
   },
   "file_extension": ".py",
   "mimetype": "text/x-python",
   "name": "python",
   "nbconvert_exporter": "python",
   "pygments_lexer": "ipython3",
   "version": "3.7.9"
  }
 },
 "nbformat": 4,
 "nbformat_minor": 5
}
