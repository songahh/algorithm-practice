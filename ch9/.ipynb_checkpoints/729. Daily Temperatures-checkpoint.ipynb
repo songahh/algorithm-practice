{
 "cells": [
  {
   "cell_type": "markdown",
   "id": "c669d50f",
   "metadata": {},
   "source": [
    "# 729"
   ]
  },
  {
   "cell_type": "markdown",
   "id": "00e6330f",
   "metadata": {},
   "source": [
    "Given an array of integers temperatures represents the daily temperatures, return an array answer such that answer[i] is the number of days you have to wait after the ith day to get a warmer temperature. If there is no future day for which this is possible, keep answer[i] == 0 instead."
   ]
  },
  {
   "cell_type": "markdown",
   "id": "ea756ff0",
   "metadata": {},
   "source": [
    "**Constraints**:\n",
    "\n",
    "- 1 <= temperatures.length <= 105\n",
    "- 30 <= temperatures[i] <= 100"
   ]
  },
  {
   "cell_type": "markdown",
   "id": "2fc39683",
   "metadata": {},
   "source": [
    "## My solution"
   ]
  },
  {
   "cell_type": "code",
   "execution_count": null,
   "id": "00eba289",
   "metadata": {},
   "outputs": [],
   "source": [
    "class Solution:\n",
    "    def dailyTemperatures(self, temperatures: List[int]) -> List[int]:\n",
    "        # [73, 74, 75, 71, 69, 72, 76, 73]\n",
    "        # [ 1,  0,  0,  0,  0,  0,  0,  0]\n",
    "        # stack: [73]\n",
    "        # now: 73 \n",
    "        \n",
    "        output = [0] * len(temperatures)\n",
    "        stack = []\n",
    "        \n",
    "        for i, now in enumerate(temperatures):\n",
    "            \n",
    "            if len(stack)==0 or stack[-1][1] > now:\n",
    "                stack.append((i,now))\n",
    "                continue\n",
    "            \n",
    "            while len(stack)!=0 and stack[-1][1] < now:\n",
    "                day, low = stack.pop()\n",
    "                output[day] = i-day\n",
    "            \n",
    "            stack.append((i,now))\n",
    "        \n",
    "        return output"
   ]
  },
  {
   "cell_type": "markdown",
   "id": "c24be4b4",
   "metadata": {},
   "source": [
    "Runtime: 1779 ms, Memory: 25.9 MB"
   ]
  },
  {
   "cell_type": "markdown",
   "id": "16817cd0",
   "metadata": {},
   "source": [
    "## My solution"
   ]
  },
  {
   "cell_type": "code",
   "execution_count": null,
   "id": "b4a993b2",
   "metadata": {},
   "outputs": [],
   "source": [
    "class Solution:\n",
    "    def dailyTemperatures(self, temperatures: List[int]) -> List[int]:\n",
    "        \n",
    "        output = [0] * len(temperatures) \n",
    "        idx = []\n",
    "        \n",
    "        for i, now in enumerate(temperatures):\n",
    "            \n",
    "            if not idx or temperatures[idx[-1]] >= now:\n",
    "                idx.append(i)\n",
    "                continue\n",
    "            \n",
    "            while idx and temperatures[idx[-1]] < now:\n",
    "                value = idx.pop()\n",
    "                output[value] = i-value\n",
    "            idx.append(i)\n",
    "        \n",
    "        return output"
   ]
  },
  {
   "cell_type": "markdown",
   "id": "5ab4954d",
   "metadata": {},
   "source": [
    "Runtime: 1612 ms, Memory: 25.4 MB"
   ]
  },
  {
   "cell_type": "markdown",
   "id": "4d21f859",
   "metadata": {},
   "source": [
    "## 책 Solution"
   ]
  },
  {
   "cell_type": "markdown",
   "id": "184ba57d",
   "metadata": {},
   "source": [
    "책도 같다. 걍 느림.. 아.. 내 시간.."
   ]
  }
 ],
 "metadata": {
  "kernelspec": {
   "display_name": "Python 3 (ipykernel)",
   "language": "python",
   "name": "python3"
  },
  "language_info": {
   "codemirror_mode": {
    "name": "ipython",
    "version": 3
   },
   "file_extension": ".py",
   "mimetype": "text/x-python",
   "name": "python",
   "nbconvert_exporter": "python",
   "pygments_lexer": "ipython3",
   "version": "3.7.9"
  }
 },
 "nbformat": 4,
 "nbformat_minor": 5
}
