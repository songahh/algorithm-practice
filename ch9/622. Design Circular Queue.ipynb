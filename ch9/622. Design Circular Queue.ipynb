{
 "cells": [
  {
   "cell_type": "markdown",
   "id": "fb50aef7",
   "metadata": {},
   "source": [
    "# 622"
   ]
  },
  {
   "cell_type": "markdown",
   "id": "21bb9c7d",
   "metadata": {},
   "source": [
    "Design your implementation of the circular queue. The circular queue is a linear data structure in which the operations are performed based on FIFO (First In First Out) principle and the last position is connected back to the first position to make a circle. It is also called \"Ring Buffer\".\n",
    "\n",
    "One of the benefits of the circular queue is that we can make use of the spaces in front of the queue. In a normal queue, once the queue becomes full, we cannot insert the next element even if there is a space in front of the queue. But using the circular queue, we can use the space to store new values.\n",
    "\n",
    "**Implementation the MyCircularQueue class**:\n",
    "\n",
    "- MyCircularQueue(k) Initializes the object with the size of the queue to be k.\n",
    "- int Front() Gets the front item from the queue. If the queue is empty, return -1.\n",
    "- int Rear() Gets the last item from the queue. If the queue is empty, return -1.\n",
    "- boolean enQueue(int value) Inserts an element into the circular queue. Return true if the operation is successful.\n",
    "- boolean deQueue() Deletes an element from the circular queue. Return true if the operation is successful.\n",
    "- boolean isEmpty() Checks whether the circular queue is empty or not.\n",
    "- boolean isFull() Checks whether the circular queue is full or not.\n",
    "- You must solve the problem without using the built-in queue data structure in your programming language. \n",
    "\n",
    "**Constraints**:\n",
    "\n",
    "- 1 <= k <= 1000\n",
    "- 0 <= value <= 1000\n",
    "- At most 3000 calls will be made to enQueue, deQueue, Front, Rear, isEmpty, and isFull."
   ]
  },
  {
   "cell_type": "code",
   "execution_count": null,
   "id": "10fde306",
   "metadata": {},
   "outputs": [],
   "source": [
    "class MyCircularQueue:\n",
    "\n",
    "    def __init__(self, k: int):\n",
    "        self.queue = [None] * (k+1)\n",
    "        self.size = k+1\n",
    "        self.rear = 0\n",
    "        self.front = 0\n",
    "        \n",
    "    def enQueue(self, value: int) -> bool:\n",
    "        \n",
    "        #print(self.queue, self.front, self.rear)\n",
    "        if self.isFull():\n",
    "            return False\n",
    "        self.queue[self.rear] = value\n",
    "        self.rear = (self.rear+self.size+1) % self.size\n",
    "        return True\n",
    "\n",
    "    \n",
    "    def deQueue(self) -> bool:\n",
    "        \n",
    "        if self.isEmpty():\n",
    "            return False\n",
    "        \n",
    "        self.front = (self.front+self.size+1) % self.size\n",
    "        return True\n",
    "        \n",
    "\n",
    "    def Front(self) -> int:\n",
    "        if self.isEmpty():\n",
    "            return -1\n",
    "        return self.queue[self.front]\n",
    "\n",
    "    def Rear(self) -> int:\n",
    "        if self.isEmpty():\n",
    "            return -1\n",
    "        i = (self.rear+self.size-1) % self.size\n",
    "        return self.queue[i]\n",
    "\n",
    "    def isEmpty(self) -> bool:\n",
    "        return self.front == self.rear\n",
    "\n",
    "    def isFull(self) -> bool:\n",
    "        return (self.rear+self.size+1) % self.size == self.front\n",
    "\n",
    "\n",
    "# Your MyCircularQueue object will be instantiated and called as such:\n",
    "# obj = MyCircularQueue(k)\n",
    "# param_1 = obj.enQueue(value)\n",
    "# param_2 = obj.deQueue()\n",
    "# param_3 = obj.Front()\n",
    "# param_4 = obj.Rear()\n",
    "# param_5 = obj.isEmpty()\n",
    "# param_6 = obj.isFull()"
   ]
  },
  {
   "cell_type": "markdown",
   "id": "43e8fc3a",
   "metadata": {},
   "source": [
    "Runtime: 68 ms,\tMemory: 15 MB"
   ]
  }
 ],
 "metadata": {
  "kernelspec": {
   "display_name": "Python 3 (ipykernel)",
   "language": "python",
   "name": "python3"
  },
  "language_info": {
   "codemirror_mode": {
    "name": "ipython",
    "version": 3
   },
   "file_extension": ".py",
   "mimetype": "text/x-python",
   "name": "python",
   "nbconvert_exporter": "python",
   "pygments_lexer": "ipython3",
   "version": "3.7.9"
  }
 },
 "nbformat": 4,
 "nbformat_minor": 5
}
