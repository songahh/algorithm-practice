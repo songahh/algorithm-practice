{
 "cells": [
  {
   "cell_type": "markdown",
   "id": "592dc178",
   "metadata": {},
   "source": [
    "# 232"
   ]
  },
  {
   "cell_type": "markdown",
   "id": "74ea8aa1",
   "metadata": {},
   "source": [
    "Implement a first in first out (FIFO) queue using only two stacks. The implemented queue should support all the functions of a normal queue (push, peek, pop, and empty).\n",
    "\n",
    "Implement the MyQueue class:\n",
    "\n",
    "- void push(int x) Pushes element x to the back of the queue.\n",
    "- int pop() Removes the element from the front of the queue and returns it.\n",
    "- int peek() Returns the element at the front of the queue.\n",
    "- boolean empty() Returns true if the queue is empty, false otherwise.\n",
    "\n",
    "Notes:\n",
    "- You must use only standard operations of a stack, which means only push to top, peek/pop from top, size, and is empty operations are valid.\n",
    "- Depending on your language, the stack may not be supported natively. You may simulate a stack using a list or deque (double-ended queue) as long as you use only a stack's standard operations.\n",
    "\n",
    "Constraints:\n",
    "- 1 <= x <= 9\n",
    "- At most 100 calls will be made to push, pop, peek, and empty.\n",
    "- All the calls to pop and peek are valid.\n",
    " \n",
    "\n",
    "**Follow-up**: Can you implement the queue such that each operation is amortized O(1) time complexity? In other words, performing n operations will take overall O(n) time even if one of those operations may take longer."
   ]
  },
  {
   "cell_type": "code",
   "execution_count": null,
   "id": "1602a086",
   "metadata": {},
   "outputs": [],
   "source": [
    "class MyQueue:\n",
    "\n",
    "    def __init__(self):\n",
    "        \"\"\"\n",
    "        Initialize your data structure here.\n",
    "        \"\"\"\n",
    "        self.stack = [] # 1 \n",
    "        \n",
    "\n",
    "    def push(self, x: int) -> None:\n",
    "        \"\"\"\n",
    "        Push element x to the back of queue.\n",
    "        \"\"\"\n",
    "        \n",
    "        self.stack.append(x)\n",
    "        #print(self.stack, end=' ')\n",
    "        for i in range(len(self.stack)-2,-1,-1):\n",
    "            #print(i, end = ' ')\n",
    "            self.stack[i+1] = self.stack[i]\n",
    "        self.stack[0] = x\n",
    "        #print(self.stack)\n",
    "        \n",
    "\n",
    "    def pop(self) -> int:\n",
    "        \"\"\"\n",
    "        Removes the element from in front of queue and returns that element.\n",
    "        \"\"\"\n",
    "        if self.empty():\n",
    "            return None\n",
    "        return self.stack.pop()\n",
    "        \n",
    "    def peek(self) -> int:\n",
    "        \"\"\"\n",
    "        Get the front element.\n",
    "        \"\"\"\n",
    "        if self.empty():\n",
    "            return None\n",
    "        return self.stack[-1]\n",
    "        \n",
    "\n",
    "    def empty(self) -> bool:\n",
    "        \"\"\"\n",
    "        Returns whether the queue is empty.\n",
    "        \"\"\"\n",
    "        return len(self.stack) == 0\n",
    "\n",
    "\n",
    "# Your MyQueue object will be instantiated and called as such:\n",
    "# obj = MyQueue()\n",
    "# obj.push(x)\n",
    "# param_2 = obj.pop()\n",
    "# param_3 = obj.peek()\n",
    "# param_4 = obj.empty()"
   ]
  },
  {
   "cell_type": "markdown",
   "id": "59b66f44",
   "metadata": {},
   "source": [
    "Runtime: 20 ms, Memory: 14.2 MB"
   ]
  }
 ],
 "metadata": {
  "kernelspec": {
   "display_name": "Python 3 (ipykernel)",
   "language": "python",
   "name": "python3"
  },
  "language_info": {
   "codemirror_mode": {
    "name": "ipython",
    "version": 3
   },
   "file_extension": ".py",
   "mimetype": "text/x-python",
   "name": "python",
   "nbconvert_exporter": "python",
   "pygments_lexer": "ipython3",
   "version": "3.7.9"
  }
 },
 "nbformat": 4,
 "nbformat_minor": 5
}
