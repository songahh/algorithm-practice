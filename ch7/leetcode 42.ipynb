{
 "cells": [
  {
   "cell_type": "markdown",
   "id": "operational-digit",
   "metadata": {},
   "source": [
    "# 42"
   ]
  },
  {
   "cell_type": "markdown",
   "id": "short-biotechnology",
   "metadata": {},
   "source": [
    "Given **n** non-negative integers representing an elevation map where the width of each bar is 1, compute how much water it can trap after raining."
   ]
  },
  {
   "cell_type": "markdown",
   "id": "spread-jumping",
   "metadata": {},
   "source": [
    "**Constraints**:\n",
    "- n == height.length\n",
    "- 0 <= n <= 2 * $10^4$\n",
    "- 0 <= height[i] <= $10^5$"
   ]
  },
  {
   "cell_type": "code",
   "execution_count": 60,
   "id": "increasing-alexander",
   "metadata": {},
   "outputs": [],
   "source": [
    "class Solution:\n",
    "    def trap(self, height) -> int:\n",
    "        "
   ]
  },
  {
   "cell_type": "code",
   "execution_count": 61,
   "id": "healthy-designer",
   "metadata": {},
   "outputs": [
    {
     "name": "stdout",
     "output_type": "stream",
     "text": [
      "6\n"
     ]
    }
   ],
   "source": [
    "sol = Solution()\n",
    "height = [0,1,0,2,1,0,1,3,2,1,2,1]\n",
    "print(sol.trap(height))"
   ]
  }
 ],
 "metadata": {
  "kernelspec": {
   "display_name": "Python 3",
   "language": "python",
   "name": "python3"
  },
  "language_info": {
   "codemirror_mode": {
    "name": "ipython",
    "version": 3
   },
   "file_extension": ".py",
   "mimetype": "text/x-python",
   "name": "python",
   "nbconvert_exporter": "python",
   "pygments_lexer": "ipython3",
   "version": "3.7.9"
  }
 },
 "nbformat": 4,
 "nbformat_minor": 5
}
