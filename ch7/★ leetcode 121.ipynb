{
 "cells": [
  {
   "cell_type": "markdown",
   "id": "featured-harmony",
   "metadata": {},
   "source": [
    "# 121"
   ]
  },
  {
   "cell_type": "markdown",
   "id": "frank-alexander",
   "metadata": {},
   "source": [
    "You are given an array prices where prices[i] is the price of a given stock on the ith day.\n",
    "\n",
    "\n",
    "You want to maximize your profit by choosing a single day to buy one stock and choosing a different day in the future to sell that stock.\n",
    "\n",
    "\n",
    "Return the maximum profit you can achieve from this transaction. If you cannot achieve any profit, return 0."
   ]
  },
  {
   "cell_type": "markdown",
   "id": "uniform-bookmark",
   "metadata": {},
   "source": [
    "**Constraints**:\n",
    "- $1 <= prices.length <= 10^5$\n",
    "- $0 <= prices[i] <= 10^4$"
   ]
  },
  {
   "cell_type": "markdown",
   "id": "hidden-expansion",
   "metadata": {},
   "source": [
    "## O(n^2) - 시간초과"
   ]
  },
  {
   "cell_type": "code",
   "execution_count": 1,
   "id": "announced-geology",
   "metadata": {},
   "outputs": [],
   "source": [
    "class Solution:\n",
    "    def maxProfit(self, prices):\n",
    "        profit = 0\n",
    "       \n",
    "        for buy in range(len(prices)):\n",
    "            for sell in range(buy+1, len(prices)):\n",
    "                if prices[sell]-prices[buy] > profit:\n",
    "                    profit = prices[sell]-prices[buy]\n",
    "        \n",
    "        return profit"
   ]
  },
  {
   "cell_type": "code",
   "execution_count": 3,
   "id": "satellite-innocent",
   "metadata": {},
   "outputs": [
    {
     "name": "stdout",
     "output_type": "stream",
     "text": [
      "0\n"
     ]
    }
   ],
   "source": [
    "sol = Solution()\n",
    "#prices = [7,1,5,3,6,4]\n",
    "prices = [7,6,4,3,1]\n",
    "print(sol.maxProfit(prices))"
   ]
  },
  {
   "cell_type": "markdown",
   "id": "ahead-comment",
   "metadata": {},
   "source": [
    "## another solution\n",
    "- 저점과 현재값의 차이 계산"
   ]
  },
  {
   "cell_type": "code",
   "execution_count": 33,
   "id": "incorrect-space",
   "metadata": {},
   "outputs": [],
   "source": [
    "import sys\n",
    "\n",
    "class Solution:\n",
    "    def maxProfit(self, prices):\n",
    "        \n",
    "        7 1 5 3 6 4\n",
    "        \n",
    "        profit = 0\n",
    "        min_price = sys.maxsize\n",
    "        \n",
    "        # 최솟값과 최댓값을 계속 갱신\n",
    "        for price in prices:\n",
    "            min_price = min(min_price, price)\n",
    "            profit = max(profit, price-min_price)\n",
    "        \n",
    "        return profit"
   ]
  },
  {
   "cell_type": "code",
   "execution_count": 36,
   "id": "hawaiian-there",
   "metadata": {},
   "outputs": [
    {
     "name": "stdout",
     "output_type": "stream",
     "text": [
      "0\n"
     ]
    }
   ],
   "source": [
    "sol = Solution()\n",
    "#prices = [7,1,5,3,6,4]\n",
    "prices = [7,6,4,3,1]\n",
    "#prices = [3,2,6,5,0,3]\n",
    "print(sol.maxProfit(prices))"
   ]
  }
 ],
 "metadata": {
  "kernelspec": {
   "display_name": "Python 3",
   "language": "python",
   "name": "python3"
  },
  "language_info": {
   "codemirror_mode": {
    "name": "ipython",
    "version": 3
   },
   "file_extension": ".py",
   "mimetype": "text/x-python",
   "name": "python",
   "nbconvert_exporter": "python",
   "pygments_lexer": "ipython3",
   "version": "3.7.9"
  }
 },
 "nbformat": 4,
 "nbformat_minor": 5
}
