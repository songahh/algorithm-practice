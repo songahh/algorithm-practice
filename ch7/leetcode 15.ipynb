{
 "cells": [
  {
   "cell_type": "markdown",
   "id": "incoming-professor",
   "metadata": {},
   "source": [
    "# 15"
   ]
  },
  {
   "cell_type": "markdown",
   "id": "alpha-ideal",
   "metadata": {},
   "source": [
    "Given an integer array nums, return all the triplets **[nums[i], nums[j], nums[k]]** such that **i != j, i != k, and j != k**, and **nums[i] + nums[j] + nums[k] == 0**.\n",
    "\n",
    "\n",
    "Notice that the solution set must not contain duplicate triplets."
   ]
  },
  {
   "cell_type": "markdown",
   "id": "connected-solomon",
   "metadata": {},
   "source": [
    "**Constraints**:\n",
    "\n",
    "- 0 <= nums.length <= 3000\n",
    "- -105 <= nums[i] <= 105"
   ]
  },
  {
   "cell_type": "markdown",
   "id": "ready-samoa",
   "metadata": {},
   "source": [
    "## Using two pointers"
   ]
  },
  {
   "cell_type": "markdown",
   "id": "neutral-parks",
   "metadata": {},
   "source": [
    "- Runtime: 2456 ms, faster than 30.90% of Python3 online submissions for 3Sum.\n",
    "- Memory Usage: 18.4 MB, less than 16.17% of Python3 online submissions for 3Sum."
   ]
  },
  {
   "cell_type": "code",
   "execution_count": 41,
   "id": "adverse-treasury",
   "metadata": {},
   "outputs": [],
   "source": [
    "class Solution:\n",
    "    def threeSum(self, nums):\n",
    "        nums = sorted(nums)\n",
    "        #print(nums)\n",
    "        ans = set()\n",
    "        for now in range(1, len(nums)-1):\n",
    "            left, right = 0, len(nums)-1\n",
    "            \n",
    "            while left< now and now < right:\n",
    "                #print(left, now, right)\n",
    "                if nums[now] + nums[left] + nums[right] == 0:\n",
    "                    ans.add((nums[now], nums[left], nums[right]))\n",
    "                    left += 1\n",
    "                    right -= 1\n",
    "                elif nums[now] + nums[left] + nums[right] > 0:\n",
    "                    right -= 1\n",
    "                else:\n",
    "                    left += 1\n",
    "        \n",
    "        l = []\n",
    "        for v in ans:\n",
    "            l.append(list(v))\n",
    "\n",
    "        return l"
   ]
  },
  {
   "cell_type": "code",
   "execution_count": 42,
   "id": "welcome-photograph",
   "metadata": {},
   "outputs": [
    {
     "name": "stdout",
     "output_type": "stream",
     "text": [
      "[-2, -1, 0, 1, 2, 3]\n",
      "[[-1, -2, 3], [0, -2, 2], [0, -1, 1]]\n"
     ]
    }
   ],
   "source": [
    "sol = Solution()\n",
    "nums = [3,0,-2,-1,1,2]\n",
    "#nums = [-1,0,1,2,-1,-4]\n",
    "#nums = [0,0,0,0]\n",
    "print(sol.threeSum(nums))"
   ]
  },
  {
   "cell_type": "markdown",
   "id": "certain-customs",
   "metadata": {},
   "source": [
    "## Brute Force"
   ]
  },
  {
   "cell_type": "markdown",
   "id": "voluntary-haiti",
   "metadata": {},
   "source": [
    "**Time Limit Exceeded**"
   ]
  },
  {
   "cell_type": "code",
   "execution_count": 45,
   "id": "educated-processor",
   "metadata": {},
   "outputs": [],
   "source": [
    "class Solution:\n",
    "    def threeSum(self, nums):\n",
    "        results = []\n",
    "        nums.sort()\n",
    "        \n",
    "        # 브루트 포스 n^3 반복\n",
    "        for i in range(len(nums)-2):\n",
    "            # 중복된 값 뛰어넘기\n",
    "            if i>0 and nums[i] == nums[i-1]:\n",
    "                continue\n",
    "            \n",
    "            for j in range(i+1, len(nums)-1):\n",
    "                if j>i+1 and nums[j] == nums[j-1]:\n",
    "                    continue\n",
    "                    \n",
    "                for k in range(j+1, len(nums)):\n",
    "                    if k > j+1 and nums[k] == nums[k-1]:\n",
    "                        continue\n",
    "                    \n",
    "                    if nums[i] + nums[j] + nums[k] == 0:\n",
    "                        results.append([nums[i], nums[j], nums[k]])\n",
    "        \n",
    "        return results"
   ]
  },
  {
   "cell_type": "code",
   "execution_count": 48,
   "id": "handled-chambers",
   "metadata": {},
   "outputs": [
    {
     "name": "stdout",
     "output_type": "stream",
     "text": [
      "[[0, 0, 0]]\n"
     ]
    }
   ],
   "source": [
    "sol = Solution()\n",
    "#nums = [3,0,-2,-1,1,2]\n",
    "#nums = [-1,0,1,2,-1,-4]\n",
    "nums = [0,0,0,0]\n",
    "print(sol.threeSum(nums))"
   ]
  }
 ],
 "metadata": {
  "kernelspec": {
   "display_name": "Python 3",
   "language": "python",
   "name": "python3"
  },
  "language_info": {
   "codemirror_mode": {
    "name": "ipython",
    "version": 3
   },
   "file_extension": ".py",
   "mimetype": "text/x-python",
   "name": "python",
   "nbconvert_exporter": "python",
   "pygments_lexer": "ipython3",
   "version": "3.7.9"
  }
 },
 "nbformat": 4,
 "nbformat_minor": 5
}
