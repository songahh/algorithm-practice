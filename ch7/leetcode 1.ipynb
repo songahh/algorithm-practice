{
 "cells": [
  {
   "cell_type": "markdown",
   "id": "assigned-franchise",
   "metadata": {},
   "source": [
    "# 1"
   ]
  },
  {
   "cell_type": "markdown",
   "id": "needed-netscape",
   "metadata": {},
   "source": [
    "Given an array of integers **nums** and an integer **target**, return indices of the two numbers such that they add up to **target**.\n",
    "\n",
    "\n",
    "You may assume that each input would have exactly one solution, and you may not use the same element twice.\n",
    "  \n",
    "You can return the answer in any order."
   ]
  },
  {
   "cell_type": "markdown",
   "id": "published-rescue",
   "metadata": {},
   "source": [
    "**Constraints**:\n",
    "- 2 <= nums.length <= 104\n",
    "- -109 <= nums[i] <= 109\n",
    "- -109 <= target <= 109\n",
    "- Only one valid answer exists.\n",
    " \n",
    "\n",
    "**Follow-up**: Can you come up with an algorithm that is less than $O(n^2)$ time complexity?"
   ]
  },
  {
   "cell_type": "markdown",
   "id": "peaceful-navigation",
   "metadata": {},
   "source": [
    "## 1. $O(n^2)$"
   ]
  },
  {
   "cell_type": "markdown",
   "id": "administrative-blood",
   "metadata": {},
   "source": [
    "- Runtime: 4848 ms, faster than 11.41% of Python3 online submissions for Two Sum.\n",
    "- Memory Usage: 14.9 MB, less than 80.42% of Python3 online submissions for Two Sum."
   ]
  },
  {
   "cell_type": "code",
   "execution_count": 2,
   "id": "soviet-venezuela",
   "metadata": {},
   "outputs": [],
   "source": [
    "class Solution:\n",
    "    def twoSum(self, nums, target):\n",
    "        for i in range(len(nums)):\n",
    "            for k in range(i+1, len(nums)):\n",
    "                if i == k:\n",
    "                    continue\n",
    "                \n",
    "                if nums[i]+nums[k] == target:\n",
    "                    return [i, k]"
   ]
  },
  {
   "cell_type": "code",
   "execution_count": 5,
   "id": "compatible-bahrain",
   "metadata": {},
   "outputs": [
    {
     "name": "stdout",
     "output_type": "stream",
     "text": [
      "[1, 2]\n"
     ]
    }
   ],
   "source": [
    "sol = Solution()\n",
    "#nums = [2,7,11,15]\n",
    "#target = 9\n",
    "nums = [3,2,4]\n",
    "target = 6\n",
    "print(sol.twoSum(nums, target))"
   ]
  },
  {
   "cell_type": "markdown",
   "id": "hollow-prerequisite",
   "metadata": {},
   "source": [
    "## 2. O(n)"
   ]
  },
  {
   "cell_type": "markdown",
   "id": "three-market",
   "metadata": {},
   "source": [
    "- Runtime: 60 ms, faster than 76.38% of Python3 online submissions for Two Sum.\n",
    "- Memory Usage: 15.4 MB, less than 20.38% of Python3 online submissions for Two Sum."
   ]
  },
  {
   "cell_type": "code",
   "execution_count": 14,
   "id": "behavioral-technology",
   "metadata": {},
   "outputs": [],
   "source": [
    "class Solution:\n",
    "    def twoSum(self, nums, target):\n",
    "        dic = {}\n",
    "        \n",
    "        for i, num in enumerate(nums):\n",
    "            dic[num] = i\n",
    "        \n",
    "        for i, a in enumerate(nums):\n",
    "            # a+b = target\n",
    "            # target-a가 dic 안에 있고, a의 index가 자기 자신이 아닌 경우\n",
    "            if target-a in dic and i != dic[target-a]:\n",
    "                return [nums.index(a), dic[target-a]]"
   ]
  },
  {
   "cell_type": "code",
   "execution_count": 15,
   "id": "cooperative-seventh",
   "metadata": {},
   "outputs": [
    {
     "name": "stdout",
     "output_type": "stream",
     "text": [
      "[1, 2]\n"
     ]
    }
   ],
   "source": [
    "sol = Solution()\n",
    "#nums = [2,7,11,15]\n",
    "#target = 9\n",
    "nums = [3,2,4]\n",
    "target = 6\n",
    "print(sol.twoSum(nums, target))"
   ]
  }
 ],
 "metadata": {
  "kernelspec": {
   "display_name": "Python 3",
   "language": "python",
   "name": "python3"
  },
  "language_info": {
   "codemirror_mode": {
    "name": "ipython",
    "version": 3
   },
   "file_extension": ".py",
   "mimetype": "text/x-python",
   "name": "python",
   "nbconvert_exporter": "python",
   "pygments_lexer": "ipython3",
   "version": "3.7.9"
  }
 },
 "nbformat": 4,
 "nbformat_minor": 5
}
