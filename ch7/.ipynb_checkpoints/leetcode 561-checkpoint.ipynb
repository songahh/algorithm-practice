{
 "cells": [
  {
   "cell_type": "markdown",
   "id": "double-lecture",
   "metadata": {},
   "source": [
    "# 561"
   ]
  },
  {
   "cell_type": "markdown",
   "id": "offshore-immune",
   "metadata": {},
   "source": [
    "Given an integer array **nums** of **2n** integers, group these integers into **n pairs (a1, b1), (a2, b2), ..., (an, bn)** such that the sum of **min(ai, bi)** for all **i** is maximized. Return the maximized sum."
   ]
  },
  {
   "cell_type": "markdown",
   "id": "electric-cookbook",
   "metadata": {},
   "source": [
    "**Constraints**:\n",
    "- 1 <= n <= 104\n",
    "- nums.length == 2 * n\n",
    "- -104 <= nums[i] <= 104"
   ]
  },
  {
   "cell_type": "markdown",
   "id": "forced-aruba",
   "metadata": {},
   "source": [
    "- Runtime: 280 ms, faster than 34.98% of Python3 online submissions for Array Partition I.\n",
    "- Memory Usage: 16.7 MB, less than 69.12% of Python3 online submissions for Array Partition I.\n",
    "Next challenges:"
   ]
  },
  {
   "cell_type": "code",
   "execution_count": 3,
   "id": "secondary-plymouth",
   "metadata": {},
   "outputs": [],
   "source": [
    "class Solution:\n",
    "    def arrayPairSum(self, nums) -> int:\n",
    "        nums.sort()\n",
    "        ans = 0\n",
    "        for i in range(0, len(nums), 2):\n",
    "            ans += min(nums[i], nums[i+1])\n",
    "        return ans"
   ]
  },
  {
   "cell_type": "code",
   "execution_count": 5,
   "id": "accessible-transfer",
   "metadata": {},
   "outputs": [
    {
     "name": "stdout",
     "output_type": "stream",
     "text": [
      "9\n"
     ]
    }
   ],
   "source": [
    "sol = Solution()\n",
    "#nums = [1,4,3,2]\n",
    "nums = [6,2,6,5,1,2]\n",
    "print(sol.arrayPairSum(nums))"
   ]
  }
 ],
 "metadata": {
  "kernelspec": {
   "display_name": "Python 3",
   "language": "python",
   "name": "python3"
  },
  "language_info": {
   "codemirror_mode": {
    "name": "ipython",
    "version": 3
   },
   "file_extension": ".py",
   "mimetype": "text/x-python",
   "name": "python",
   "nbconvert_exporter": "python",
   "pygments_lexer": "ipython3",
   "version": "3.7.9"
  }
 },
 "nbformat": 4,
 "nbformat_minor": 5
}
