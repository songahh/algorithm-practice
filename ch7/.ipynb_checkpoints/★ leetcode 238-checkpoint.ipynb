{
 "cells": [
  {
   "cell_type": "markdown",
   "id": "moderate-shareware",
   "metadata": {},
   "source": [
    "# 238"
   ]
  },
  {
   "cell_type": "markdown",
   "id": "hearing-ethics",
   "metadata": {},
   "source": [
    "Given an integer array **nums**, return an array **answer** such that **answer[i]** is equal to the product of all the elements of **nums** except **nums[i]**.\n",
    "\n",
    "\n",
    "The product of any prefix or suffix of **nums** is guaranteed to fit in a **32-bit** integer.\n",
    "\n",
    "\n",
    "You must write an algorithm that runs in **O(n)** time and **without using the division operation**"
   ]
  },
  {
   "cell_type": "markdown",
   "id": "disciplinary-duration",
   "metadata": {},
   "source": [
    "**Constraints**:\n",
    "- 2 <= nums.length <= 10^5\n",
    "- -30 <= nums[i] <= 30\n",
    "- The product of any prefix or suffix of nums is guaranteed to fit in a 32-bit integer."
   ]
  },
  {
   "cell_type": "code",
   "execution_count": 75,
   "id": "leading-jefferson",
   "metadata": {},
   "outputs": [],
   "source": [
    "class Solution:\n",
    "    def productExceptSelf(self, nums):\n",
    "        all_product = 1\n",
    "        zero = []\n",
    "        \n",
    "        # zero가 없는 경우: all_product\n",
    "        # zero가 하나: zero index에만 all_product, 나머지 zero \n",
    "        # zero가 두 개 이상: all zero\n",
    "        \n",
    "        for i in range(0, len(nums)):\n",
    "            if nums[i] == 0:\n",
    "                zero.append(i)\n",
    "                continue\n",
    "            all_product *= nums[i]\n",
    "            \n",
    "        result = []\n",
    "        if len(zero) == 0:\n",
    "            for num in nums:\n",
    "                result.append(all_product//num)\n",
    "        elif len(zero) == 1:\n",
    "            result = [0]*len(nums)\n",
    "            result[zero[0]] = all_product\n",
    "        else:\n",
    "            result = [0]*len(nums)\n",
    "        \n",
    "        return result"
   ]
  },
  {
   "cell_type": "code",
   "execution_count": 80,
   "id": "spatial-roots",
   "metadata": {},
   "outputs": [
    {
     "name": "stdout",
     "output_type": "stream",
     "text": [
      "[0, 0]\n"
     ]
    }
   ],
   "source": [
    "sol = Solution()\n",
    "nums = [1,2,3,4]\n",
    "#nums = [0, 4, 0]\n",
    "#nums = [0, 4, 0, 5]\n",
    "#nums = [-1,1,0,-3,3]\n",
    "#nums = [0, 0]\n",
    "print(sol.productExceptSelf(nums))"
   ]
  },
  {
   "cell_type": "markdown",
   "id": "dutch-applicant",
   "metadata": {},
   "source": [
    "나눗셈을 하지 않고 풀이하래.."
   ]
  },
  {
   "cell_type": "markdown",
   "id": "russian-matthew",
   "metadata": {},
   "source": [
    "## No division"
   ]
  },
  {
   "cell_type": "code",
   "execution_count": 178,
   "id": "humanitarian-zealand",
   "metadata": {},
   "outputs": [],
   "source": [
    "class Solution:\n",
    "    def productExceptSelf(self, nums):\n",
    "        \n",
    "        left, right = [1], [1]\n",
    "        for i in range(0, len(nums)-1):\n",
    "            left.append(left[i]*nums[i])\n",
    "\n",
    "        reverse_nums = nums[::-1]\n",
    "        for i in range(0, len(nums)-1):  \n",
    "            right.append(right[i]*reverse_nums[i])\n",
    "        right = right[::-1]\n",
    "        \n",
    "        result = []\n",
    "        for i in range(len(left)):\n",
    "            result.append(left[i] * right[i])\n",
    "        return result"
   ]
  },
  {
   "cell_type": "code",
   "execution_count": 183,
   "id": "swedish-hawaiian",
   "metadata": {},
   "outputs": [
    {
     "name": "stdout",
     "output_type": "stream",
     "text": [
      "[0, 0, 0, 0]\n"
     ]
    }
   ],
   "source": [
    "sol = Solution()\n",
    "#nums = [1,2,3,4]\n",
    "#nums = [0, 4, 0]\n",
    "#nums = [0, 4, 0, 5]\n",
    "#nums = [-1,1,0,-3,3]\n",
    "#nums = [0, 0]\n",
    "print(sol.productExceptSelf(nums))"
   ]
  }
 ],
 "metadata": {
  "kernelspec": {
   "display_name": "Python 3",
   "language": "python",
   "name": "python3"
  },
  "language_info": {
   "codemirror_mode": {
    "name": "ipython",
    "version": 3
   },
   "file_extension": ".py",
   "mimetype": "text/x-python",
   "name": "python",
   "nbconvert_exporter": "python",
   "pygments_lexer": "ipython3",
   "version": "3.7.9"
  }
 },
 "nbformat": 4,
 "nbformat_minor": 5
}
