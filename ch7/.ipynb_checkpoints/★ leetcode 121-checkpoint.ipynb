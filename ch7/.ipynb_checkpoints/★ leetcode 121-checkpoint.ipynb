{
 "cells": [
  {
   "cell_type": "markdown",
   "id": "proper-schedule",
   "metadata": {},
   "source": [
    "# 121"
   ]
  },
  {
   "cell_type": "markdown",
   "id": "forbidden-maple",
   "metadata": {},
   "source": [
    "You are given an array prices where prices[i] is the price of a given stock on the ith day.\n",
    "\n",
    "\n",
    "You want to maximize your profit by choosing a single day to buy one stock and choosing a different day in the future to sell that stock.\n",
    "\n",
    "\n",
    "Return the maximum profit you can achieve from this transaction. If you cannot achieve any profit, return 0."
   ]
  },
  {
   "cell_type": "markdown",
   "id": "applied-decimal",
   "metadata": {},
   "source": [
    "**Constraints**:\n",
    "- $1 <= prices.length <= 10^5$\n",
    "- $0 <= prices[i] <= 10^4$"
   ]
  },
  {
   "cell_type": "markdown",
   "id": "wound-jimmy",
   "metadata": {},
   "source": [
    "## O(n^2) - 시간초과"
   ]
  },
  {
   "cell_type": "code",
   "execution_count": 1,
   "id": "canadian-sensitivity",
   "metadata": {},
   "outputs": [],
   "source": [
    "class Solution:\n",
    "    def maxProfit(self, prices):\n",
    "        profit = 0\n",
    "       \n",
    "        for buy in range(len(prices)):\n",
    "            for sell in range(buy+1, len(prices)):\n",
    "                if prices[sell]-prices[buy] > profit:\n",
    "                    profit = prices[sell]-prices[buy]\n",
    "        \n",
    "        return profit"
   ]
  },
  {
   "cell_type": "code",
   "execution_count": 3,
   "id": "preceding-experience",
   "metadata": {},
   "outputs": [
    {
     "name": "stdout",
     "output_type": "stream",
     "text": [
      "0\n"
     ]
    }
   ],
   "source": [
    "sol = Solution()\n",
    "#prices = [7,1,5,3,6,4]\n",
    "prices = [7,6,4,3,1]\n",
    "print(sol.maxProfit(prices))"
   ]
  },
  {
   "cell_type": "markdown",
   "id": "duplicate-shipping",
   "metadata": {},
   "source": [
    "## another solution\n",
    "- 저점과 현재값의 차이 계산"
   ]
  },
  {
   "cell_type": "code",
   "execution_count": 31,
   "id": "scenic-sender",
   "metadata": {},
   "outputs": [],
   "source": [
    "import sys\n",
    "\n",
    "class Solution:\n",
    "    def maxProfit(self, prices):\n",
    "        \n",
    "        profit = 0\n",
    "        min_price = sys.maxsize\n",
    "        \n",
    "        # 최솟값과 최댓값을 계속 갱신\n",
    "        for price in prices:\n",
    "            min_price = min(min_price, price)\n",
    "            profit = max(profit, price-min_price)\n",
    "        \n",
    "        return profit"
   ]
  },
  {
   "cell_type": "code",
   "execution_count": 32,
   "id": "muslim-water",
   "metadata": {},
   "outputs": [
    {
     "ename": "NameError",
     "evalue": "name 'sys' is not defined",
     "output_type": "error",
     "traceback": [
      "\u001b[1;31m---------------------------------------------------------------------------\u001b[0m",
      "\u001b[1;31mNameError\u001b[0m                                 Traceback (most recent call last)",
      "\u001b[1;32m<ipython-input-32-318409a02254>\u001b[0m in \u001b[0;36m<module>\u001b[1;34m\u001b[0m\n\u001b[0;32m      3\u001b[0m \u001b[1;31m#prices = [7,6,4,3,1]\u001b[0m\u001b[1;33m\u001b[0m\u001b[1;33m\u001b[0m\u001b[1;33m\u001b[0m\u001b[0m\n\u001b[0;32m      4\u001b[0m \u001b[0mprices\u001b[0m \u001b[1;33m=\u001b[0m \u001b[1;33m[\u001b[0m\u001b[1;36m3\u001b[0m\u001b[1;33m,\u001b[0m\u001b[1;36m2\u001b[0m\u001b[1;33m,\u001b[0m\u001b[1;36m6\u001b[0m\u001b[1;33m,\u001b[0m\u001b[1;36m5\u001b[0m\u001b[1;33m,\u001b[0m\u001b[1;36m0\u001b[0m\u001b[1;33m,\u001b[0m\u001b[1;36m3\u001b[0m\u001b[1;33m]\u001b[0m\u001b[1;33m\u001b[0m\u001b[1;33m\u001b[0m\u001b[0m\n\u001b[1;32m----> 5\u001b[1;33m \u001b[0mprint\u001b[0m\u001b[1;33m(\u001b[0m\u001b[0msol\u001b[0m\u001b[1;33m.\u001b[0m\u001b[0mmaxProfit\u001b[0m\u001b[1;33m(\u001b[0m\u001b[0mprices\u001b[0m\u001b[1;33m)\u001b[0m\u001b[1;33m)\u001b[0m\u001b[1;33m\u001b[0m\u001b[1;33m\u001b[0m\u001b[0m\n\u001b[0m",
      "\u001b[1;32m<ipython-input-31-e3018cd7e90f>\u001b[0m in \u001b[0;36mmaxProfit\u001b[1;34m(self, prices)\u001b[0m\n\u001b[0;32m      3\u001b[0m \u001b[1;33m\u001b[0m\u001b[0m\n\u001b[0;32m      4\u001b[0m         \u001b[0mprofit\u001b[0m \u001b[1;33m=\u001b[0m \u001b[1;36m0\u001b[0m\u001b[1;33m\u001b[0m\u001b[1;33m\u001b[0m\u001b[0m\n\u001b[1;32m----> 5\u001b[1;33m         \u001b[0mmin_price\u001b[0m \u001b[1;33m=\u001b[0m \u001b[0msys\u001b[0m\u001b[1;33m.\u001b[0m\u001b[0mmaxsize\u001b[0m\u001b[1;33m\u001b[0m\u001b[1;33m\u001b[0m\u001b[0m\n\u001b[0m\u001b[0;32m      6\u001b[0m \u001b[1;33m\u001b[0m\u001b[0m\n\u001b[0;32m      7\u001b[0m         \u001b[1;31m# 최솟값과 최댓값을 계속 갱신\u001b[0m\u001b[1;33m\u001b[0m\u001b[1;33m\u001b[0m\u001b[1;33m\u001b[0m\u001b[0m\n",
      "\u001b[1;31mNameError\u001b[0m: name 'sys' is not defined"
     ]
    }
   ],
   "source": [
    "sol = Solution()\n",
    "#prices = [7,1,5,3,6,4]\n",
    "#prices = [7,6,4,3,1]\n",
    "prices = [3,2,6,5,0,3]\n",
    "print(sol.maxProfit(prices))"
   ]
  },
  {
   "cell_type": "code",
   "execution_count": null,
   "id": "twelve-logic",
   "metadata": {},
   "outputs": [],
   "source": []
  }
 ],
 "metadata": {
  "kernelspec": {
   "display_name": "Python 3",
   "language": "python",
   "name": "python3"
  },
  "language_info": {
   "codemirror_mode": {
    "name": "ipython",
    "version": 3
   },
   "file_extension": ".py",
   "mimetype": "text/x-python",
   "name": "python",
   "nbconvert_exporter": "python",
   "pygments_lexer": "ipython3",
   "version": "3.7.9"
  }
 },
 "nbformat": 4,
 "nbformat_minor": 5
}
