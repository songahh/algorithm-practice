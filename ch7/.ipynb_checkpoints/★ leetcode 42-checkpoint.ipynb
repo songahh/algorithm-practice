{
 "cells": [
  {
   "cell_type": "markdown",
   "id": "proud-guidance",
   "metadata": {},
   "source": [
    "# 42"
   ]
  },
  {
   "cell_type": "markdown",
   "id": "presidential-pollution",
   "metadata": {},
   "source": [
    "Given **n** non-negative integers representing an elevation map where the width of each bar is 1, compute how much water it can trap after raining."
   ]
  },
  {
   "cell_type": "markdown",
   "id": "second-vegetable",
   "metadata": {},
   "source": [
    "**Constraints**:\n",
    "- n == height.length\n",
    "- 0 <= n <= 2 * $10^4$\n",
    "- 0 <= height[i] <= $10^5$"
   ]
  },
  {
   "cell_type": "code",
   "execution_count": 288,
   "id": "entertaining-definition",
   "metadata": {},
   "outputs": [],
   "source": [
    "class Solution:\n",
    "    def trap(self, height) -> int:\n",
    "        cnt = 0\n",
    "        stack = []\n",
    "         \n",
    "        for i in range(len(height)):        \n",
    "            while stack and height[stack[-1]] < height[i]:  \n",
    "                top = stack.pop() # 메꾸어야하는 층수\n",
    "                if not stack: # 양쪽으로 벽이 없는 경우 break\n",
    "                    break\n",
    "                        \n",
    "                dist = i-stack[-1]-1 # 양쪽 벽 거리 계산\n",
    "                level = min(height[i], height[stack[-1]])-height[top] # 층 계산\n",
    "                cnt += (dist*level)    \n",
    "            stack.append(i)\n",
    "        \n",
    "        return cnt"
   ]
  },
  {
   "cell_type": "code",
   "execution_count": 289,
   "id": "expanded-kingston",
   "metadata": {},
   "outputs": [
    {
     "name": "stdout",
     "output_type": "stream",
     "text": [
      "9\n"
     ]
    }
   ],
   "source": [
    "sol = Solution()\n",
    "#height = [0,1,0,2,1,0,1,3,2,1,2,1]\n",
    "height = [4,2,0,3,2,5]\n",
    "print(sol.trap(height))"
   ]
  },
  {
   "cell_type": "markdown",
   "id": "dedicated-toilet",
   "metadata": {},
   "source": [
    "## Using Two pointers"
   ]
  },
  {
   "cell_type": "code",
   "execution_count": 294,
   "id": "pharmaceutical-process",
   "metadata": {},
   "outputs": [],
   "source": [
    "class Solution:\n",
    "    def trap(self, height) -> int:\n",
    "        if not height:\n",
    "            return 0\n",
    "         \n",
    "        vol = 0\n",
    "        left, right = 0, len(height)-1\n",
    "        left_max, right_max = height[left], height[right]\n",
    "        while left < right:\n",
    "            left_max, right_max = max(height[left], left_max), max(height[right], right_max)\n",
    "            \n",
    "            # 더 높은 쪽으로 포인터 이동\n",
    "            if left_max <= right_max:\n",
    "                vol += left_max - height[left]\n",
    "                left += 1\n",
    "            else:\n",
    "                vol += right_max - height[right]\n",
    "                right -= 1\n",
    "            print(vol)\n",
    "        return vol"
   ]
  },
  {
   "cell_type": "code",
   "execution_count": 295,
   "id": "manual-sharing",
   "metadata": {},
   "outputs": [
    {
     "name": "stdout",
     "output_type": "stream",
     "text": [
      "0\n",
      "0\n",
      "1\n",
      "1\n",
      "1\n",
      "2\n",
      "4\n",
      "5\n",
      "5\n",
      "6\n",
      "6\n",
      "6\n"
     ]
    }
   ],
   "source": [
    "sol = Solution()\n",
    "height = [0,1,0,2,1,0,1,3,2,1,2,1]\n",
    "#height = [4,2,0,3,2,5]\n",
    "print(sol.trap(height))"
   ]
  }
 ],
 "metadata": {
  "kernelspec": {
   "display_name": "Python 3",
   "language": "python",
   "name": "python3"
  },
  "language_info": {
   "codemirror_mode": {
    "name": "ipython",
    "version": 3
   },
   "file_extension": ".py",
   "mimetype": "text/x-python",
   "name": "python",
   "nbconvert_exporter": "python",
   "pygments_lexer": "ipython3",
   "version": "3.7.9"
  }
 },
 "nbformat": 4,
 "nbformat_minor": 5
}
