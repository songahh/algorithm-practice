{
 "cells": [
  {
   "cell_type": "markdown",
   "id": "serial-definition",
   "metadata": {},
   "source": [
    "# Complexity"
   ]
  },
  {
   "cell_type": "markdown",
   "id": "permanent-sample",
   "metadata": {},
   "source": [
    "## 01 빅오, 빅오메가, 빅세타"
   ]
  },
  {
   "cell_type": "markdown",
   "id": "vanilla-browser",
   "metadata": {},
   "source": [
    "**big-O**: 입력값이 무한대로 향할 때 함수의 상한을 설명하는 수학적 표기 방법"
   ]
  },
  {
   "cell_type": "markdown",
   "id": "neural-honey",
   "metadata": {},
   "source": [
    "- Asymptotic Running Time(점근적 실행 시간): 입력값 n이 무한대로 향할 때 lim 함수의 실행 시간의 추이\n",
    "    - 달리 말하면, 시간복잡도라고 할 수 있음\n",
    "- 시간복잡도: 어떤 알고리즘을 수행하는 데 걸리는 시간을 설명하는 계산 복잡도\n",
    "    - big-O(Upper Bound): 최고차항만 고려\n",
    "        - $O(4n^2+3) = O(n^2)$\n",
    "        - Worst Case를 나타내는 말이 아님\n",
    "        - 정확하게 쓰기에는 너무 길고 복잡한 함수를 적당히 정확하게 표현하는 방법\n",
    "    - big-Omega(Lower Bound)\n",
    "    - big-Theta(Average)"
   ]
  },
  {
   "cell_type": "markdown",
   "id": "lovely-martial",
   "metadata": {},
   "source": [
    "## 02 분할 상환 분석"
   ]
  },
  {
   "cell_type": "markdown",
   "id": "julian-david",
   "metadata": {},
   "source": [
    "- 최악의 경우를 여러 번에 걸쳐 골고루 나눠주는 형태로 알고리즘의 시간복잡도를 계산할 수 있음\n",
    "- 시간 또는 메모리를 분석하는 알고리즘의 복잡도를 계산할 때, 알고리즘 전체를 보지 않고 최악의 경우만을 살펴보는 것은 지나치게 비관적이라는 이우로 분할 상환 분석 방법이 등장함"
   ]
  },
  {
   "cell_type": "markdown",
   "id": "worse-borough",
   "metadata": {},
   "source": [
    "## 03 병렬화"
   ]
  },
  {
   "cell_type": "markdown",
   "id": "graduate-logic",
   "metadata": {},
   "source": [
    "- 일부 알고리즘들은 병렬화로 실행 속도를 높일 수 있음.\n",
    "- GPU: 병렬 연산을 위한 대표적인 장치\n",
    "    - GPU의 각각의 코어는 CPU보다 훨씬 더 느리지만 GPU의 코어는 수천여개로 구성되어 있어 많아봐야 수십여개에 불과한 CPU보다 수백 배 더많은 연산을 동시에 수행할 수 있다."
   ]
  },
  {
   "cell_type": "markdown",
   "id": "hydraulic-closure",
   "metadata": {},
   "source": [
    "# 자료형"
   ]
  },
  {
   "cell_type": "markdown",
   "id": "democratic-importance",
   "metadata": {},
   "source": [
    "## 01 Python3 표준 타입\n",
    "#### 주요 자료형"
   ]
  },
  {
   "cell_type": "markdown",
   "id": "initial-anime",
   "metadata": {},
   "source": [
    "None (class NoneType)\n",
    "- 숫자 (불변)\n",
    "    - 정수형\n",
    "        - 정수 (class int): 임의정밀도, int보다 더 큰 값도 저장 가능\n",
    "            - 불리언 (class bool): 논리 자료형, 내부적으로 1(True)과 0(False)로 처리되는 int의 subclass\n",
    "    - 실수형\n",
    "        - 실수 (class float)\n",
    "- 시퀀스\n",
    "    - 불변\n",
    "        - 문자열 (class str)\n",
    "        - 튜플 (class tuple)\n",
    "        - 바이트 (class byte)\n",
    "    - 가변\n",
    "        - 리스트 (class list)\n",
    "- 집합형\n",
    "    - 집합 (class set): 중복된 값을 갖지 않는 자료형, 입력순서 유지 x, 가변\n",
    "- Mapping\n",
    "    - dictionary (class dict): 가변"
   ]
  },
  {
   "cell_type": "markdown",
   "id": "given-dress",
   "metadata": {},
   "source": [
    "* 임의정밀도: 무제한 자릿수를 제공하는 정수형\n",
    "    - 정수를 숫자의 배열로 간주함\n",
    "    - 자릿수 단위로 쪼개어 배열 형태로 표현함\n",
    "    ex) 123456789101112131415\n",
    "        - $ = (437976919 * 2^{30 x 0}) + (87719511 * 2^{30 x 1}) + (107 * 2^{30 x 2}) $"
   ]
  },
  {
   "cell_type": "code",
   "execution_count": 1,
   "id": "focal-consensus",
   "metadata": {},
   "outputs": [
    {
     "data": {
      "text/plain": [
       "True"
      ]
     },
     "execution_count": 1,
     "metadata": {},
     "output_type": "execute_result"
    }
   ],
   "source": [
    "True == 1"
   ]
  },
  {
   "cell_type": "code",
   "execution_count": 2,
   "id": "adjusted-taiwan",
   "metadata": {},
   "outputs": [
    {
     "data": {
      "text/plain": [
       "True"
      ]
     },
     "execution_count": 2,
     "metadata": {},
     "output_type": "execute_result"
    }
   ],
   "source": [
    "False == 0"
   ]
  },
  {
   "cell_type": "code",
   "execution_count": 3,
   "id": "equivalent-stack",
   "metadata": {},
   "outputs": [
    {
     "data": {
      "text/plain": [
       "set()"
      ]
     },
     "execution_count": 3,
     "metadata": {},
     "output_type": "execute_result"
    }
   ],
   "source": [
    "a = set()\n",
    "a"
   ]
  },
  {
   "cell_type": "code",
   "execution_count": 4,
   "id": "restricted-difference",
   "metadata": {},
   "outputs": [
    {
     "data": {
      "text/plain": [
       "set"
      ]
     },
     "execution_count": 4,
     "metadata": {},
     "output_type": "execute_result"
    }
   ],
   "source": [
    "type(a)"
   ]
  },
  {
   "cell_type": "code",
   "execution_count": 6,
   "id": "interpreted-international",
   "metadata": {},
   "outputs": [
    {
     "data": {
      "text/plain": [
       "set"
      ]
     },
     "execution_count": 6,
     "metadata": {},
     "output_type": "execute_result"
    }
   ],
   "source": [
    "a = {'a', 'b'}\n",
    "type(a)"
   ]
  },
  {
   "cell_type": "code",
   "execution_count": 7,
   "id": "diverse-frederick",
   "metadata": {},
   "outputs": [
    {
     "data": {
      "text/plain": [
       "str"
      ]
     },
     "execution_count": 7,
     "metadata": {},
     "output_type": "execute_result"
    }
   ],
   "source": [
    "a = \"abc\"\n",
    "a = \"def\"\n",
    "type(a)"
   ]
  },
  {
   "cell_type": "code",
   "execution_count": 8,
   "id": "valuable-violation",
   "metadata": {},
   "outputs": [
    {
     "data": {
      "text/plain": [
       "2186192982768"
      ]
     },
     "execution_count": 8,
     "metadata": {},
     "output_type": "execute_result"
    }
   ],
   "source": [
    "a = \"abc\"\n",
    "id(\"abc\")"
   ]
  },
  {
   "cell_type": "code",
   "execution_count": 9,
   "id": "super-provision",
   "metadata": {},
   "outputs": [
    {
     "data": {
      "text/plain": [
       "2186192982768"
      ]
     },
     "execution_count": 9,
     "metadata": {},
     "output_type": "execute_result"
    }
   ],
   "source": [
    "id(a)"
   ]
  },
  {
   "cell_type": "code",
   "execution_count": 10,
   "id": "round-prior",
   "metadata": {},
   "outputs": [
    {
     "data": {
      "text/plain": [
       "2186195387376"
      ]
     },
     "execution_count": 10,
     "metadata": {},
     "output_type": "execute_result"
    }
   ],
   "source": [
    "a = \"def\"\n",
    "id(\"def\")"
   ]
  },
  {
   "cell_type": "code",
   "execution_count": 11,
   "id": "infectious-minneapolis",
   "metadata": {},
   "outputs": [
    {
     "data": {
      "text/plain": [
       "2186195387376"
      ]
     },
     "execution_count": 11,
     "metadata": {},
     "output_type": "execute_result"
    }
   ],
   "source": [
    "id(a)"
   ]
  },
  {
   "cell_type": "code",
   "execution_count": 12,
   "id": "hydraulic-insurance",
   "metadata": {},
   "outputs": [
    {
     "ename": "TypeError",
     "evalue": "'str' object does not support item assignment",
     "output_type": "error",
     "traceback": [
      "\u001b[1;31m---------------------------------------------------------------------------\u001b[0m",
      "\u001b[1;31mTypeError\u001b[0m                                 Traceback (most recent call last)",
      "\u001b[1;32m<ipython-input-12-d5e3c4e718cd>\u001b[0m in \u001b[0;36m<module>\u001b[1;34m\u001b[0m\n\u001b[1;32m----> 1\u001b[1;33m \u001b[0ma\u001b[0m\u001b[1;33m[\u001b[0m\u001b[1;36m1\u001b[0m\u001b[1;33m]\u001b[0m\u001b[1;33m=\u001b[0m\u001b[1;34m\"d\"\u001b[0m\u001b[1;33m\u001b[0m\u001b[1;33m\u001b[0m\u001b[0m\n\u001b[0m",
      "\u001b[1;31mTypeError\u001b[0m: 'str' object does not support item assignment"
     ]
    }
   ],
   "source": [
    "a[1]=\"d\""
   ]
  },
  {
   "cell_type": "markdown",
   "id": "stretch-lesson",
   "metadata": {},
   "source": [
    "## 02 원시 타입: 지원하지 않음"
   ]
  },
  {
   "cell_type": "markdown",
   "id": "close-intervention",
   "metadata": {},
   "source": [
    "- 임의정밀도 통해 하나로 숫자를 단일형을오 처리할 수 있어 언어를 매우 단순한 구조로 만들 수 있음\n",
    "- Python은 원시타입을 지원하지 않음 → 객체"
   ]
  },
  {
   "cell_type": "markdown",
   "id": "exact-tract",
   "metadata": {},
   "source": [
    "## 03 속도"
   ]
  },
  {
   "cell_type": "markdown",
   "id": "amended-submission",
   "metadata": {},
   "source": [
    "- 느리다\n",
    "- CPython에서는 PyObject가 C의 구조체이고 여기서 타입 코드를 찾아서 대응되는 C의 자료형을 확인하다.\n",
    "- 정수에 접근하기 위해서는 var->PyObject_HEAD에서 타입코드를 찾는 등 여러 단계의 부가 작업을 거쳐야 한다.\n",
    "- 파이썬의 과학 계산 모듈인 NumPy는 빠른 속도로 유명한데, 넘파이는 C로 만든 모듈이며 내부적으로 리스트를 C의 원시타입으로 처리함"
   ]
  }
 ],
 "metadata": {
  "kernelspec": {
   "display_name": "Python 3",
   "language": "python",
   "name": "python3"
  },
  "language_info": {
   "codemirror_mode": {
    "name": "ipython",
    "version": 3
   },
   "file_extension": ".py",
   "mimetype": "text/x-python",
   "name": "python",
   "nbconvert_exporter": "python",
   "pygments_lexer": "ipython3",
   "version": "3.7.9"
  }
 },
 "nbformat": 4,
 "nbformat_minor": 5
}
