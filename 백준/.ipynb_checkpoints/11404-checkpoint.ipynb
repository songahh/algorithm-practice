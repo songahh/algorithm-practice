{
 "cells": [
  {
   "cell_type": "markdown",
   "id": "be1d75d0",
   "metadata": {},
   "source": [
    "- n(2 ≤ n ≤ 100)개의 도시가 있다. 그리고 한 도시에서 출발하여 다른 도시에 도착하는 m(1 ≤ m ≤ 100,000)개의 버스가 있다. 각 버스는 한 번 사용할 때 필요한 비용이 있다.\n",
    "- 모든 도시의 쌍 (A, B)에 대해서 도시 A에서 B로 가는데 필요한 비용의 최솟값을 구하는 프로그램을 작성하시오.\n",
    "\n",
    "- 입력\n",
    "    - 첫째 줄에 도시의 개수 n이 주어지고 둘째 줄에는 버스의 개수 m이 주어진다. 그리고 셋째 줄부터 m+2줄까지 다음과 같은 버스의 정보가 주어진다. 먼저 처음에는 그 버스의 출발 도시의 번호가 주어진다. 버스의 정보는 버스의 시작 도시 a, 도착 도시 b, 한 번 타는데 필요한 비용 c로 이루어져 있다. 시작 도시와 도착 도시가 같은 경우는 없다. 비용은 100,000보다 작거나 같은 자연수이다.\n",
    "    - 시작 도시와 도착 도시를 연결하는 노선은 하나가 아닐 수 있다.\n",
    "\n",
    "- 출력\n",
    "    -n개의 줄을 출력해야 한다. i번째 줄에 출력하는 j번째 숫자는 도시 i에서 j로 가는데 필요한 최소 비용이다. 만약, i에서 j로 갈 수 없는 경우에는 그 자리에 0을 출력한다."
   ]
  },
  {
   "cell_type": "code",
   "execution_count": null,
   "id": "837680ce",
   "metadata": {},
   "outputs": [],
   "source": [
    "5\n",
    "14  \n",
    "1 2 2  \n",
    "1 3 3  \n",
    "1 4 1  \n",
    "1 5 10  \n",
    "2 4 2  \n",
    "3 4 1  \n",
    "3 5 1  \n",
    "4 5 3  \n",
    "3 5 10  \n",
    "3 1 8  \n",
    "1 4 2  \n",
    "5 1 7  \n",
    "3 4 2  \n",
    "5 2 4  "
   ]
  },
  {
   "cell_type": "code",
   "execution_count": 41,
   "id": "cd0b1b88",
   "metadata": {},
   "outputs": [],
   "source": [
    "import sys\n",
    "INF = 1e+9"
   ]
  },
  {
   "cell_type": "code",
   "execution_count": 42,
   "id": "ed6d8507",
   "metadata": {},
   "outputs": [
    {
     "name": "stdout",
     "output_type": "stream",
     "text": [
      "2\n",
      "1\n"
     ]
    }
   ],
   "source": [
    "#N = int(sys.stdin.readline())\n",
    "#M = int(sys.stdin.readline())\n",
    "N = int(input())\n",
    "M = int(input())"
   ]
  },
  {
   "cell_type": "code",
   "execution_count": 43,
   "id": "56db4a1c",
   "metadata": {
    "scrolled": false
   },
   "outputs": [
    {
     "name": "stdout",
     "output_type": "stream",
     "text": [
      "1 2 1\n"
     ]
    }
   ],
   "source": [
    "routes_input = [list(map(int, input().rstrip().split())) for _ in range(M)]\n",
    "#routes_input = [list(map(int, sys.stdin.readline().rstrip().split())) for _ in range(M)]"
   ]
  },
  {
   "cell_type": "code",
   "execution_count": 45,
   "id": "0f78b55c",
   "metadata": {},
   "outputs": [],
   "source": [
    "routes = [[INF] * N for _ in range(N)]"
   ]
  },
  {
   "cell_type": "code",
   "execution_count": 46,
   "id": "565d1ad2",
   "metadata": {},
   "outputs": [],
   "source": [
    "for i in range(M):\n",
    "    start = routes_input[i][0]-1\n",
    "    end = routes_input[i][1]-1\n",
    "    cost = routes_input[i][2]\n",
    "    routes[start][end] = min(routes[start][end], cost)"
   ]
  },
  {
   "cell_type": "code",
   "execution_count": 47,
   "id": "e858d4ea",
   "metadata": {},
   "outputs": [],
   "source": [
    "for i in range(N):\n",
    "    routes[i][i] = 0"
   ]
  },
  {
   "cell_type": "code",
   "execution_count": 48,
   "id": "8150036a",
   "metadata": {},
   "outputs": [],
   "source": [
    "for k in range(N):\n",
    "    for i in range(N):\n",
    "        for j in range(N):\n",
    "            routes[i][j] = min(routes[i][j], routes[i][k] + routes[k][j])"
   ]
  },
  {
   "cell_type": "code",
   "execution_count": 51,
   "id": "259d86e9",
   "metadata": {},
   "outputs": [
    {
     "name": "stdout",
     "output_type": "stream",
     "text": [
      "0 1 \n",
      "0 0 \n"
     ]
    }
   ],
   "source": [
    "for i in range(N):\n",
    "    for j in range(N):\n",
    "        if routes[i][j] == INF:\n",
    "            print(\"0\", end=\" \")\n",
    "        else:\n",
    "            print(routes[i][j], end=\" \")\n",
    "    print()        "
   ]
  },
  {
   "cell_type": "code",
   "execution_count": 38,
   "id": "34d4d752",
   "metadata": {},
   "outputs": [
    {
     "ename": "SyntaxError",
     "evalue": "invalid syntax (2201752298.py, line 1)",
     "output_type": "error",
     "traceback": [
      "\u001b[1;36m  Input \u001b[1;32mIn [38]\u001b[1;36m\u001b[0m\n\u001b[1;33m    0 2 3 1 4\u001b[0m\n\u001b[1;37m      ^\u001b[0m\n\u001b[1;31mSyntaxError\u001b[0m\u001b[1;31m:\u001b[0m invalid syntax\n"
     ]
    }
   ],
   "source": [
    "0 2 3 1 4\n",
    "12 0 15 2 5\n",
    "8 5 0 1 1\n",
    "10 7 13 0 3\n",
    "7 4 10 6 0"
   ]
  },
  {
   "cell_type": "code",
   "execution_count": null,
   "id": "8b8bcd6e",
   "metadata": {},
   "outputs": [],
   "source": []
  }
 ],
 "metadata": {
  "kernelspec": {
   "display_name": "tf",
   "language": "python",
   "name": "tf"
  },
  "language_info": {
   "codemirror_mode": {
    "name": "ipython",
    "version": 3
   },
   "file_extension": ".py",
   "mimetype": "text/x-python",
   "name": "python",
   "nbconvert_exporter": "python",
   "pygments_lexer": "ipython3",
   "version": "3.8.12"
  }
 },
 "nbformat": 4,
 "nbformat_minor": 5
}
