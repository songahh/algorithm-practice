{
 "cells": [
  {
   "cell_type": "code",
   "execution_count": 172,
   "id": "ed3e2511",
   "metadata": {},
   "outputs": [],
   "source": [
    "import sys\n",
    "from collections import deque"
   ]
  },
  {
   "cell_type": "code",
   "execution_count": 173,
   "id": "7eef3903",
   "metadata": {},
   "outputs": [
    {
     "name": "stdout",
     "output_type": "stream",
     "text": [
      "3 3\n"
     ]
    }
   ],
   "source": [
    "#N, M = map(int, sys.stdin.readline().split())\n",
    "N, M = map(int, input().split())"
   ]
  },
  {
   "cell_type": "code",
   "execution_count": 174,
   "id": "11fbd301",
   "metadata": {
    "scrolled": true
   },
   "outputs": [
    {
     "name": "stdout",
     "output_type": "stream",
     "text": [
      "011\n",
      "111\n",
      "000\n"
     ]
    }
   ],
   "source": [
    "#board = [list(map(int,sys.stdin.readline().rstrip())) for _ in range(N)]\n",
    "board = [list(map(int,input().rstrip())) for _ in range(N)]"
   ]
  },
  {
   "cell_type": "code",
   "execution_count": 175,
   "id": "a2712ad6",
   "metadata": {},
   "outputs": [],
   "source": [
    "board = [element for row in board for element in row]"
   ]
  },
  {
   "cell_type": "code",
   "execution_count": 185,
   "id": "d7b737d4",
   "metadata": {},
   "outputs": [],
   "source": [
    "queue = deque([(0,0,0,1)])\n",
    "visited = [False if board[i] == 0 else True for i in range(M*N)]\n",
    "visited = [visited, visited[:]] # 0: 벽을 부순 경우, 1: 벽을 부수지 않은 경우\n",
    "visited[1][0] = True\n",
    "offsets = [(0,1), (0,-1), (1,0), (-1,0)]\n",
    "cnt = 0"
   ]
  },
  {
   "cell_type": "code",
   "execution_count": 186,
   "id": "e4352dc8",
   "metadata": {},
   "outputs": [
    {
     "name": "stdout",
     "output_type": "stream",
     "text": [
      "----------------------------------\n",
      "cnt: 1\n",
      "queue: deque([(0, 0, 0, 1)])\n",
      "(0, 0, 0, 1)\n",
      "----------------------------------\n",
      "cnt: 2\n",
      "queue: deque([(0, 1, 1, 0), (1, 0, 1, 0)])\n",
      "(0, 1, 1, 0)\n",
      "----------------------------------\n",
      "cnt: 3\n",
      "queue: deque([(1, 0, 1, 0), (0, 0, 2, 0)])\n",
      "(1, 0, 1, 0)\n",
      "----------------------------------\n",
      "cnt: 4\n",
      "queue: deque([(0, 0, 2, 0), (2, 0, 2, 0)])\n",
      "(0, 0, 2, 0)\n",
      "----------------------------------\n",
      "cnt: 5\n",
      "queue: deque([(2, 0, 2, 0)])\n",
      "(2, 0, 2, 0)\n",
      "----------------------------------\n",
      "cnt: 6\n",
      "queue: deque([(2, 1, 3, 0)])\n",
      "(2, 1, 3, 0)\n",
      "----------------------------------\n",
      "cnt: 7\n",
      "queue: deque([(2, 2, 4, 0)])\n",
      "(2, 2, 4, 0)\n",
      "5\n"
     ]
    }
   ],
   "source": [
    "while True:\n",
    "    cnt += 1\n",
    "    print(\"----------------------------------\")\n",
    "    print(\"cnt:\",cnt)\n",
    "    print(\"queue:\", queue)\n",
    "    #print(\"visited:\", visited)\n",
    "    if queue:\n",
    "        now = queue.popleft()\n",
    "        spt = now[2] + 1\n",
    "        print(now)\n",
    "        #print(\"0\", visited[0][6*M+1])\n",
    "        #print(\"1\", visited[1][6*M+1])\n",
    "        #if visited[now[3]][now[0]*M+now[1]] == False:\n",
    "        if now[0] == N-1 and now[1] == M-1:\n",
    "            print(spt)\n",
    "            break\n",
    "        else:\n",
    "            for offset in offsets:\n",
    "                next_x = now[0] + offset[0]\n",
    "                next_y = now[1] + offset[1]\n",
    "                    \n",
    "                # boundary check\n",
    "                if next_x < 0 or next_x >= N:\n",
    "                    continue\n",
    "                if next_y < 0 or next_y >= M:\n",
    "                    continue\n",
    "                    \n",
    "                if board[next_x*M + next_y] == 0 and visited[now[3]][next_x*M + next_y] == False:\n",
    "                    visited[now[3]][next_x*M + next_y] = True\n",
    "                    queue.append((next_x, next_y, spt, now[3]))\n",
    "                elif board[next_x*M + next_y] == 1 and now[3]==1:\n",
    "                    queue.append((next_x, next_y, spt, now[3]-1))\n",
    "                        \n",
    "                        \n",
    "    else:\n",
    "        print(-1)\n",
    "        break"
   ]
  },
  {
   "cell_type": "code",
   "execution_count": null,
   "id": "6cda7912",
   "metadata": {},
   "outputs": [],
   "source": []
  },
  {
   "cell_type": "code",
   "execution_count": null,
   "id": "9688b5ea",
   "metadata": {},
   "outputs": [],
   "source": []
  }
 ],
 "metadata": {
  "kernelspec": {
   "display_name": "tf",
   "language": "python",
   "name": "tf"
  },
  "language_info": {
   "codemirror_mode": {
    "name": "ipython",
    "version": 3
   },
   "file_extension": ".py",
   "mimetype": "text/x-python",
   "name": "python",
   "nbconvert_exporter": "python",
   "pygments_lexer": "ipython3",
   "version": "3.8.12"
  }
 },
 "nbformat": 4,
 "nbformat_minor": 5
}
