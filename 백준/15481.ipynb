{
 "cells": [
  {
   "cell_type": "markdown",
   "id": "2553af4d",
   "metadata": {},
   "source": [
    "문제\n",
    "총 N개의 정점과 M개의 간선으로 이루어져 있는 무방향 가중치 연결 그래프 G가 있다. 그래프 G는 루프가 없고, 두 정점을 연결하는 간선은 최대 1개이다.\n",
    "\n",
    "각각의 간선 (u, v)에 대해서, 그 간선을 포함하는 최소 스패닝 트리의 가중치 합을 구하는 프로그램을 작성하시오.\n",
    "\n",
    "입력\n",
    "첫째 줄에 정점의 개수 N과 간선의 개수 M (2 ≤ N ≤ 200,000, N-1 ≤ M ≤ 200,000)\n",
    "\n",
    "둘째 줄부터 M개의 줄에 간선의 정보 u, v, w가 주어진다. u와 v를 연결하는 간선의 가중치가 w라는 뜻이다. (1 ≤ u, v ≤ n, u ≠ v, 1 ≤ w ≤ 109) \n",
    "\n",
    "출력\n",
    "각각의 간선마다 그 간선을 포함하는 최소 스패닝 트리의 가중치 합을 출력한다. 간선은 입력받은 순서대로 출력한다."
   ]
  },
  {
   "cell_type": "code",
   "execution_count": null,
   "id": "1fb94ce5",
   "metadata": {},
   "outputs": [],
   "source": [
    "5 8\n",
    "1 2 5\n",
    "2 3 4\n",
    "1 3 2\n",
    "3 4 8\n",
    "4 5 3\n",
    "3 5 6\n",
    "1 4 9\n",
    "2 5 1"
   ]
  },
  {
   "cell_type": "code",
   "execution_count": 1,
   "id": "f4b842c4",
   "metadata": {},
   "outputs": [],
   "source": [
    "import sys"
   ]
  },
  {
   "cell_type": "code",
   "execution_count": 30,
   "id": "184bcf76",
   "metadata": {},
   "outputs": [
    {
     "name": "stdout",
     "output_type": "stream",
     "text": [
      "6 8\n",
      "1 2 2\n",
      "2 3 8\n",
      "3 4 1\n",
      "4 1 9\n",
      "4 5 7\n",
      "5 6 2\n",
      "6 4 6\n",
      "3 6 9\n"
     ]
    }
   ],
   "source": [
    "#N, M = map(int, sys.stdin.readline().split())\n",
    "#graph = [list(map(int, sys.stdin.readline().rstrip().split())) for _ in range(M)]\n",
    "N, M = map(int, input().split())\n",
    "graph = [list(map(int, input().rstrip().split())) for _ in range(M)]"
   ]
  },
  {
   "cell_type": "code",
   "execution_count": 31,
   "id": "cd04aeb2",
   "metadata": {
    "scrolled": true
   },
   "outputs": [
    {
     "data": {
      "text/plain": [
       "[[3, 4, 1],\n",
       " [1, 2, 2],\n",
       " [5, 6, 2],\n",
       " [6, 4, 6],\n",
       " [4, 5, 7],\n",
       " [2, 3, 8],\n",
       " [4, 1, 9],\n",
       " [3, 6, 9]]"
      ]
     },
     "execution_count": 31,
     "metadata": {},
     "output_type": "execute_result"
    }
   ],
   "source": [
    "sorted_graph = sorted(graph, key=lambda x:x[2])\n",
    "sorted_graph"
   ]
  },
  {
   "cell_type": "code",
   "execution_count": 34,
   "id": "f915b67f",
   "metadata": {},
   "outputs": [
    {
     "name": "stdout",
     "output_type": "stream",
     "text": [
      "[1, 2, 2]\n",
      "[3, 4, 1]\n",
      "[5, 6, 2]\n",
      "[6, 4, 6]\n",
      "[4, 5, 7]\n",
      "18\n",
      "---------------------------------------\n",
      "[2, 3, 8]\n",
      "[3, 4, 1]\n",
      "[1, 2, 2]\n",
      "[5, 6, 2]\n",
      "[6, 4, 6]\n",
      "19\n",
      "---------------------------------------\n",
      "[3, 4, 1]\n",
      "[1, 2, 2]\n",
      "[5, 6, 2]\n",
      "[6, 4, 6]\n",
      "[4, 5, 7]\n",
      "18\n",
      "---------------------------------------\n",
      "[4, 1, 9]\n",
      "[3, 4, 1]\n",
      "[1, 2, 2]\n",
      "[5, 6, 2]\n",
      "[6, 4, 6]\n",
      "20\n",
      "---------------------------------------\n",
      "[4, 5, 7]\n",
      "[3, 4, 1]\n",
      "[1, 2, 2]\n",
      "[5, 6, 2]\n",
      "[6, 4, 6]\n",
      "18\n",
      "---------------------------------------\n",
      "[5, 6, 2]\n",
      "[3, 4, 1]\n",
      "[1, 2, 2]\n",
      "[6, 4, 6]\n",
      "[4, 5, 7]\n",
      "18\n",
      "---------------------------------------\n",
      "[6, 4, 6]\n",
      "[3, 4, 1]\n",
      "[1, 2, 2]\n",
      "[5, 6, 2]\n",
      "[4, 5, 7]\n",
      "18\n",
      "---------------------------------------\n",
      "[3, 6, 9]\n",
      "[3, 4, 1]\n",
      "[1, 2, 2]\n",
      "[5, 6, 2]\n",
      "[6, 4, 6]\n",
      "20\n",
      "---------------------------------------\n"
     ]
    }
   ],
   "source": [
    "for i in range(M):\n",
    "    # weigth가 작은 것부터 하나씩 연결했을 때\n",
    "    # cycle이 생기는지 확인\n",
    "    #### cycle이 생기면, continue\n",
    "    #### cycle이 생기지 않으면, edge로 추가\n",
    "    # 총 edge가 N-1개가 되었을 때 종료"
   ]
  },
  {
   "cell_type": "code",
   "execution_count": null,
   "id": "dd9a2b17",
   "metadata": {},
   "outputs": [],
   "source": [
    "11\n",
    "10\n",
    "10\n",
    "14\n",
    "10\n",
    "12\n",
    "15\n",
    "10"
   ]
  },
  {
   "cell_type": "code",
   "execution_count": null,
   "id": "056f4791",
   "metadata": {},
   "outputs": [],
   "source": []
  }
 ],
 "metadata": {
  "kernelspec": {
   "display_name": "tf",
   "language": "python",
   "name": "tf"
  },
  "language_info": {
   "codemirror_mode": {
    "name": "ipython",
    "version": 3
   },
   "file_extension": ".py",
   "mimetype": "text/x-python",
   "name": "python",
   "nbconvert_exporter": "python",
   "pygments_lexer": "ipython3",
   "version": "3.8.12"
  }
 },
 "nbformat": 4,
 "nbformat_minor": 5
}
