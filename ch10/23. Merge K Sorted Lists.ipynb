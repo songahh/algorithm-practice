{
 "cells": [
  {
   "cell_type": "markdown",
   "id": "eafbc763",
   "metadata": {},
   "source": [
    "# 23."
   ]
  },
  {
   "cell_type": "markdown",
   "id": "039973bf",
   "metadata": {},
   "source": [
    "You are given an array of k linked-lists lists, each linked-list is sorted in ascending order.\n",
    "\n",
    "Merge all the linked-lists into one sorted linked-list and return it."
   ]
  },
  {
   "cell_type": "code",
   "execution_count": null,
   "id": "d2e6d3e9",
   "metadata": {},
   "outputs": [],
   "source": [
    "# Definition for singly-linked list.\n",
    "# class ListNode:\n",
    "#     def __init__(self, val=0, next=None):\n",
    "#         self.val = val\n",
    "#         self.next = next\n",
    "import heapq as hq\n",
    "\n",
    "class Solution:\n",
    "    def mergeKLists(self, lists: List[Optional[ListNode]]) -> Optional[ListNode]:\n",
    "    \n",
    "        head = tail = ListNode(-1, None)\n",
    "        total = []\n",
    "        \n",
    "        for i in range(len(lists)):\n",
    "            ptr = lists[i]\n",
    "            while ptr:\n",
    "                total.append(ptr.val)\n",
    "                ptr = ptr.next\n",
    "                \n",
    "        hq.heapify(total)\n",
    "        for i in range(len(total)):\n",
    "            val = hq.heappop(total)\n",
    "            newnode = ListNode(val, None)\n",
    "            tail.next = newnode\n",
    "            tail = newnode\n",
    "            \n",
    "        return head.next"
   ]
  },
  {
   "cell_type": "markdown",
   "id": "ea1c60da",
   "metadata": {},
   "source": [
    "- Runtime: 100 ms, faster than 81.26% of Python3 online submissions for Merge k Sorted Lists.\n",
    "- Memory Usage: 18.2 MB, less than 35.30% of Python3 online submissions for Merge k Sorted Lists.\n"
   ]
  }
 ],
 "metadata": {
  "kernelspec": {
   "display_name": "Python 3 (ipykernel)",
   "language": "python",
   "name": "python3"
  },
  "language_info": {
   "codemirror_mode": {
    "name": "ipython",
    "version": 3
   },
   "file_extension": ".py",
   "mimetype": "text/x-python",
   "name": "python",
   "nbconvert_exporter": "python",
   "pygments_lexer": "ipython3",
   "version": "3.7.9"
  }
 },
 "nbformat": 4,
 "nbformat_minor": 5
}
